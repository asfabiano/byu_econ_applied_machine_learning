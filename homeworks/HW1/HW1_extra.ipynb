{
 "cells": [
  {
   "cell_type": "code",
   "execution_count": 2,
   "metadata": {
    "collapsed": true
   },
   "outputs": [],
   "source": [
    "import pandas as pd"
   ]
  },
  {
   "cell_type": "code",
   "execution_count": null,
   "metadata": {
    "collapsed": true
   },
   "outputs": [],
   "source": [
    "g = sns.PairGrid(nhanes[['age', 'weight']])\n",
    "g.map(plt.scatter);"
   ]
  },
  {
   "cell_type": "code",
   "execution_count": 1,
   "metadata": {
    "collapsed": true
   },
   "outputs": [],
   "source": [
    "## the following code resulted from a failed attempt to make a histogram divided into bins, but actually works to\n",
    "## segment the column data into bins.\n",
    "## x = pd.cut(nhanes['age'], bins = np.linspace(0,85,18), retbins = True)"
   ]
  },
  {
   "cell_type": "code",
   "execution_count": null,
   "metadata": {
    "collapsed": true
   },
   "outputs": [],
   "source": [
    "cps['age'].hist(color =\"#4F91F6\", edgecolor = \"black\", figsize = (14,5.5))\n",
    "plt.title(\"Age Distribution\", fontsize=16)\n",
    "plt.ylabel(\"Count of Age\", fontsize = 12)\n",
    "plt.xlabel(\"Age\", fontsize = 12)"
   ]
  },
  {
   "cell_type": "code",
   "execution_count": 3,
   "metadata": {},
   "outputs": [
    {
     "data": {
      "text/html": [
       "<div>\n",
       "<style>\n",
       "    .dataframe thead tr:only-child th {\n",
       "        text-align: right;\n",
       "    }\n",
       "\n",
       "    .dataframe thead th {\n",
       "        text-align: left;\n",
       "    }\n",
       "\n",
       "    .dataframe tbody tr th {\n",
       "        vertical-align: top;\n",
       "    }\n",
       "</style>\n",
       "<table border=\"1\" class=\"dataframe\">\n",
       "  <thead>\n",
       "    <tr style=\"text-align: right;\">\n",
       "      <th></th>\n",
       "      <th>year</th>\n",
       "      <th>serial</th>\n",
       "      <th>cpsid</th>\n",
       "      <th>ownershp</th>\n",
       "      <th>hhincome</th>\n",
       "      <th>proptax</th>\n",
       "      <th>pubhous</th>\n",
       "      <th>rentsub</th>\n",
       "      <th>foodstmp</th>\n",
       "      <th>stampno</th>\n",
       "      <th>...</th>\n",
       "      <th>faminc</th>\n",
       "      <th>pernum</th>\n",
       "      <th>cpsidp</th>\n",
       "      <th>wtsupp</th>\n",
       "      <th>wtfinl</th>\n",
       "      <th>relate</th>\n",
       "      <th>age</th>\n",
       "      <th>sex</th>\n",
       "      <th>race</th>\n",
       "      <th>marst</th>\n",
       "    </tr>\n",
       "  </thead>\n",
       "  <tbody>\n",
       "    <tr>\n",
       "      <th>0</th>\n",
       "      <td>2014</td>\n",
       "      <td>1</td>\n",
       "      <td>2.013120e+13</td>\n",
       "      <td>NaN</td>\n",
       "      <td>NaN</td>\n",
       "      <td>NaN</td>\n",
       "      <td>NaN</td>\n",
       "      <td>NaN</td>\n",
       "      <td>NaN</td>\n",
       "      <td>NaN</td>\n",
       "      <td>...</td>\n",
       "      <td>$75,000 - 99,999</td>\n",
       "      <td>1</td>\n",
       "      <td>2.013120e+13</td>\n",
       "      <td>NaN</td>\n",
       "      <td>2668.7604</td>\n",
       "      <td>Head/householder</td>\n",
       "      <td>76</td>\n",
       "      <td>Female</td>\n",
       "      <td>White</td>\n",
       "      <td>Divorced</td>\n",
       "    </tr>\n",
       "    <tr>\n",
       "      <th>1</th>\n",
       "      <td>2014</td>\n",
       "      <td>2</td>\n",
       "      <td>2.014020e+13</td>\n",
       "      <td>NaN</td>\n",
       "      <td>NaN</td>\n",
       "      <td>NaN</td>\n",
       "      <td>NaN</td>\n",
       "      <td>NaN</td>\n",
       "      <td>NaN</td>\n",
       "      <td>NaN</td>\n",
       "      <td>...</td>\n",
       "      <td>$75,000 - 99,999</td>\n",
       "      <td>1</td>\n",
       "      <td>2.014020e+13</td>\n",
       "      <td>NaN</td>\n",
       "      <td>2745.7466</td>\n",
       "      <td>Head/householder</td>\n",
       "      <td>65</td>\n",
       "      <td>Male</td>\n",
       "      <td>White</td>\n",
       "      <td>Never married/single</td>\n",
       "    </tr>\n",
       "    <tr>\n",
       "      <th>2</th>\n",
       "      <td>2014</td>\n",
       "      <td>3</td>\n",
       "      <td>2.014010e+13</td>\n",
       "      <td>NaN</td>\n",
       "      <td>NaN</td>\n",
       "      <td>NaN</td>\n",
       "      <td>NaN</td>\n",
       "      <td>NaN</td>\n",
       "      <td>NaN</td>\n",
       "      <td>NaN</td>\n",
       "      <td>...</td>\n",
       "      <td>$100,000 - 149,999</td>\n",
       "      <td>1</td>\n",
       "      <td>2.014010e+13</td>\n",
       "      <td>NaN</td>\n",
       "      <td>3344.7320</td>\n",
       "      <td>Head/householder</td>\n",
       "      <td>78</td>\n",
       "      <td>Male</td>\n",
       "      <td>White</td>\n",
       "      <td>Married, spouse present</td>\n",
       "    </tr>\n",
       "    <tr>\n",
       "      <th>3</th>\n",
       "      <td>2014</td>\n",
       "      <td>3</td>\n",
       "      <td>2.014010e+13</td>\n",
       "      <td>NaN</td>\n",
       "      <td>NaN</td>\n",
       "      <td>NaN</td>\n",
       "      <td>NaN</td>\n",
       "      <td>NaN</td>\n",
       "      <td>NaN</td>\n",
       "      <td>NaN</td>\n",
       "      <td>...</td>\n",
       "      <td>$100,000 - 149,999</td>\n",
       "      <td>2</td>\n",
       "      <td>2.014010e+13</td>\n",
       "      <td>NaN</td>\n",
       "      <td>3087.4410</td>\n",
       "      <td>Spouse</td>\n",
       "      <td>76</td>\n",
       "      <td>Female</td>\n",
       "      <td>White</td>\n",
       "      <td>Married, spouse present</td>\n",
       "    </tr>\n",
       "    <tr>\n",
       "      <th>4</th>\n",
       "      <td>2014</td>\n",
       "      <td>4</td>\n",
       "      <td>2.012120e+13</td>\n",
       "      <td>NaN</td>\n",
       "      <td>NaN</td>\n",
       "      <td>NaN</td>\n",
       "      <td>NaN</td>\n",
       "      <td>NaN</td>\n",
       "      <td>NaN</td>\n",
       "      <td>NaN</td>\n",
       "      <td>...</td>\n",
       "      <td>Under $5,000</td>\n",
       "      <td>1</td>\n",
       "      <td>2.012120e+13</td>\n",
       "      <td>NaN</td>\n",
       "      <td>3061.8081</td>\n",
       "      <td>Head/householder</td>\n",
       "      <td>58</td>\n",
       "      <td>Male</td>\n",
       "      <td>Black/Negro</td>\n",
       "      <td>Never married/single</td>\n",
       "    </tr>\n",
       "  </tbody>\n",
       "</table>\n",
       "<p>5 rows × 26 columns</p>\n",
       "</div>"
      ],
      "text/plain": [
       "   year  serial         cpsid ownershp  hhincome  proptax pubhous rentsub  \\\n",
       "0  2014       1  2.013120e+13      NaN       NaN      NaN     NaN     NaN   \n",
       "1  2014       2  2.014020e+13      NaN       NaN      NaN     NaN     NaN   \n",
       "2  2014       3  2.014010e+13      NaN       NaN      NaN     NaN     NaN   \n",
       "3  2014       3  2.014010e+13      NaN       NaN      NaN     NaN     NaN   \n",
       "4  2014       4  2.012120e+13      NaN       NaN      NaN     NaN     NaN   \n",
       "\n",
       "  foodstmp  stampno           ...                         faminc  pernum  \\\n",
       "0      NaN      NaN           ...               $75,000 - 99,999       1   \n",
       "1      NaN      NaN           ...               $75,000 - 99,999       1   \n",
       "2      NaN      NaN           ...             $100,000 - 149,999       1   \n",
       "3      NaN      NaN           ...             $100,000 - 149,999       2   \n",
       "4      NaN      NaN           ...                   Under $5,000       1   \n",
       "\n",
       "         cpsidp wtsupp     wtfinl            relate age     sex         race  \\\n",
       "0  2.013120e+13    NaN  2668.7604  Head/householder  76  Female        White   \n",
       "1  2.014020e+13    NaN  2745.7466  Head/householder  65    Male        White   \n",
       "2  2.014010e+13    NaN  3344.7320  Head/householder  78    Male        White   \n",
       "3  2.014010e+13    NaN  3087.4410            Spouse  76  Female        White   \n",
       "4  2.012120e+13    NaN  3061.8081  Head/householder  58    Male  Black/Negro   \n",
       "\n",
       "                     marst  \n",
       "0                 Divorced  \n",
       "1     Never married/single  \n",
       "2  Married, spouse present  \n",
       "3  Married, spouse present  \n",
       "4     Never married/single  \n",
       "\n",
       "[5 rows x 26 columns]"
      ]
     },
     "execution_count": 3,
     "metadata": {},
     "output_type": "execute_result"
    }
   ],
   "source": [
    "cps = pd.read_stata(\"cps_1999-2014.dta\")\n",
    "cps.head()"
   ]
  },
  {
   "cell_type": "code",
   "execution_count": 10,
   "metadata": {},
   "outputs": [],
   "source": [
    "cps.age = cps.age.apply(lambda x: 0 if x == 'Under 1 year' else x)"
   ]
  },
  {
   "cell_type": "code",
   "execution_count": 11,
   "metadata": {},
   "outputs": [],
   "source": [
    "cps.age = cps.age.apply(lambda x: int(x))"
   ]
  },
  {
   "cell_type": "code",
   "execution_count": null,
   "metadata": {
    "collapsed": true
   },
   "outputs": [],
   "source": []
  }
 ],
 "metadata": {
  "kernelspec": {
   "display_name": "Python 3",
   "language": "python",
   "name": "python3"
  },
  "language_info": {
   "codemirror_mode": {
    "name": "ipython",
    "version": 3
   },
   "file_extension": ".py",
   "mimetype": "text/x-python",
   "name": "python",
   "nbconvert_exporter": "python",
   "pygments_lexer": "ipython3",
   "version": "3.6.3"
  }
 },
 "nbformat": 4,
 "nbformat_minor": 2
}
