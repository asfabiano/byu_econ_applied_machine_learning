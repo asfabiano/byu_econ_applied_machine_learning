{
 "cells": [
  {
   "cell_type": "markdown",
   "metadata": {},
   "source": [
    "## Introduction to Modeling with Python\n",
    "\n",
    "Now that we have seen some examples of modeling and using Python for modeling, we wanted to give you a chance to try your hand!\n",
    "\n",
    "To that goal, we choose a well structured problem with plenty of resources online to help you along the way. That problem is predicting housing prices and is hosted on Kaggle:\n",
    "\n",
    "https://www.kaggle.com/c/house-prices-advanced-regression-techniques\n",
    "\n",
    "First, make sure you are signed up on Kaggle and then download the data:\n",
    "\n",
    "https://www.kaggle.com/c/house-prices-advanced-regression-techniques/data\n",
    "\n",
    "The data includes both testing and training sets as well as a sample submission file. \n",
    "\n",
    "Your goal is the predict the sales price for each house where root mean squared error is the evaluation metric. To get some ideas on where to start, feel free to check out Kaggle Kernels:\n",
    "\n",
    "https://www.kaggle.com/c/house-prices-advanced-regression-techniques/kernels\n",
    "\n",
    "And the discussion board:\n",
    "\n",
    "https://www.kaggle.com/c/house-prices-advanced-regression-techniques/discussion\n",
    "\n",
    "Again - the goal of this homework is to get you exposed to modeling with Python. Feel free to use online resources to help guide you, but we expect original thought as well. Our hope is by the end of this homework you will feel comfortable exploring data in Python and building models to make predictions. Also please submit your test results to Kaggle and let us know your ranking and score!\n",
    "\n",
    "\n",
    "### Grading\n",
    "\n",
    "This homework is due **Feb. 20, 2018 by 3:00pm Utah time.** By that time, you need to have committed all your code to your github and submitted a link to your work to the TA. We can see on your Github account when you last committed code. :)\n",
    "\n",
    "Rubric:\n",
    "\n",
    "* Code Quality - 10%\n",
    "* Storytelling - 10%\n",
    "* Result on Kaggle - 5%\n",
    "* Describing, Cleaning, and Visualizing data - 25%\n",
    "* Modeling - 50%\n",
    "\n",
    "More specifically, for modeling we will look for: \n",
    "\n",
    "* Model Selection: Did you try multiple models? Why did you choose these models? How do they work? What are they assumptions? And how did you test/account for them? How did you select hyper-parameters?\n",
    "* Model interpretation: What do the model results tell you? Which variables are important? High bias or variance and how did you / could you fix this? How confident are you in your results? \n",
    "* Model usefulness: Do you think your final model was useful? If so, how would you recommend using it? Convince us, that if we were a company, we would feel comfortable using your model with our users. Think about edge cases as well - are there certain areas that the model performs poorly on? Best on? How would you handle these cases, if say Zillow wanted to leverage your model realizing that bad recommendations on sale prices would hurt customer trust and your brand. This section also falls into the storytelling aspect of the grading."
   ]
  },
  {
   "cell_type": "code",
   "execution_count": 1,
   "metadata": {
    "collapsed": true
   },
   "outputs": [],
   "source": [
    "import pandas as pd\n",
    "import numpy as np\n",
    "from matplotlib import pyplot as plt\n",
    "from sklearn import linear_model\n",
    "from sklearn.model_selection import train_test_split, GridSearchCV\n",
    "from sklearn.metrics import mean_squared_error\n",
    "from sklearn.preprocessing import StandardScaler\n",
    "from sklearn.metrics import mean_squared_error, r2_score\n",
    "import seaborn as sns #plt.style.use(\"seaborn\")\n",
    "%matplotlib inline"
   ]
  },
  {
   "cell_type": "markdown",
   "metadata": {},
   "source": [
    "### Data Cleaning"
   ]
  },
  {
   "cell_type": "code",
   "execution_count": 2,
   "metadata": {
    "collapsed": true
   },
   "outputs": [],
   "source": [
    "test = pd.read_csv(\"test.csv\")\n",
    "train = pd.read_csv(\"train.csv\")\n",
    "all_data = pd.concat((test, train), ignore_index=True)"
   ]
  },
  {
   "cell_type": "code",
   "execution_count": 3,
   "metadata": {},
   "outputs": [
    {
     "data": {
      "text/plain": [
       "(2919, 81)"
      ]
     },
     "execution_count": 3,
     "metadata": {},
     "output_type": "execute_result"
    }
   ],
   "source": [
    "all_data.shape"
   ]
  },
  {
   "cell_type": "code",
   "execution_count": 4,
   "metadata": {},
   "outputs": [
    {
     "data": {
      "text/plain": [
       "(1460, 81)"
      ]
     },
     "execution_count": 4,
     "metadata": {},
     "output_type": "execute_result"
    }
   ],
   "source": [
    "train.shape"
   ]
  },
  {
   "cell_type": "code",
   "execution_count": 5,
   "metadata": {
    "scrolled": true
   },
   "outputs": [
    {
     "data": {
      "text/html": [
       "<div>\n",
       "<style>\n",
       "    .dataframe thead tr:only-child th {\n",
       "        text-align: right;\n",
       "    }\n",
       "\n",
       "    .dataframe thead th {\n",
       "        text-align: left;\n",
       "    }\n",
       "\n",
       "    .dataframe tbody tr th {\n",
       "        vertical-align: top;\n",
       "    }\n",
       "</style>\n",
       "<table border=\"1\" class=\"dataframe\">\n",
       "  <thead>\n",
       "    <tr style=\"text-align: right;\">\n",
       "      <th></th>\n",
       "      <th>1stFlrSF</th>\n",
       "      <th>2ndFlrSF</th>\n",
       "      <th>3SsnPorch</th>\n",
       "      <th>Alley</th>\n",
       "      <th>BedroomAbvGr</th>\n",
       "      <th>BldgType</th>\n",
       "      <th>BsmtCond</th>\n",
       "      <th>BsmtExposure</th>\n",
       "      <th>BsmtFinSF1</th>\n",
       "      <th>BsmtFinSF2</th>\n",
       "      <th>...</th>\n",
       "      <th>SaleType</th>\n",
       "      <th>ScreenPorch</th>\n",
       "      <th>Street</th>\n",
       "      <th>TotRmsAbvGrd</th>\n",
       "      <th>TotalBsmtSF</th>\n",
       "      <th>Utilities</th>\n",
       "      <th>WoodDeckSF</th>\n",
       "      <th>YearBuilt</th>\n",
       "      <th>YearRemodAdd</th>\n",
       "      <th>YrSold</th>\n",
       "    </tr>\n",
       "  </thead>\n",
       "  <tbody>\n",
       "    <tr>\n",
       "      <th>0</th>\n",
       "      <td>896</td>\n",
       "      <td>0</td>\n",
       "      <td>0</td>\n",
       "      <td>NaN</td>\n",
       "      <td>2</td>\n",
       "      <td>1Fam</td>\n",
       "      <td>TA</td>\n",
       "      <td>No</td>\n",
       "      <td>468.0</td>\n",
       "      <td>144.0</td>\n",
       "      <td>...</td>\n",
       "      <td>WD</td>\n",
       "      <td>120</td>\n",
       "      <td>Pave</td>\n",
       "      <td>5</td>\n",
       "      <td>882.0</td>\n",
       "      <td>AllPub</td>\n",
       "      <td>140</td>\n",
       "      <td>1961</td>\n",
       "      <td>1961</td>\n",
       "      <td>2010</td>\n",
       "    </tr>\n",
       "    <tr>\n",
       "      <th>1</th>\n",
       "      <td>1329</td>\n",
       "      <td>0</td>\n",
       "      <td>0</td>\n",
       "      <td>NaN</td>\n",
       "      <td>3</td>\n",
       "      <td>1Fam</td>\n",
       "      <td>TA</td>\n",
       "      <td>No</td>\n",
       "      <td>923.0</td>\n",
       "      <td>0.0</td>\n",
       "      <td>...</td>\n",
       "      <td>WD</td>\n",
       "      <td>0</td>\n",
       "      <td>Pave</td>\n",
       "      <td>6</td>\n",
       "      <td>1329.0</td>\n",
       "      <td>AllPub</td>\n",
       "      <td>393</td>\n",
       "      <td>1958</td>\n",
       "      <td>1958</td>\n",
       "      <td>2010</td>\n",
       "    </tr>\n",
       "    <tr>\n",
       "      <th>2</th>\n",
       "      <td>928</td>\n",
       "      <td>701</td>\n",
       "      <td>0</td>\n",
       "      <td>NaN</td>\n",
       "      <td>3</td>\n",
       "      <td>1Fam</td>\n",
       "      <td>TA</td>\n",
       "      <td>No</td>\n",
       "      <td>791.0</td>\n",
       "      <td>0.0</td>\n",
       "      <td>...</td>\n",
       "      <td>WD</td>\n",
       "      <td>0</td>\n",
       "      <td>Pave</td>\n",
       "      <td>6</td>\n",
       "      <td>928.0</td>\n",
       "      <td>AllPub</td>\n",
       "      <td>212</td>\n",
       "      <td>1997</td>\n",
       "      <td>1998</td>\n",
       "      <td>2010</td>\n",
       "    </tr>\n",
       "    <tr>\n",
       "      <th>3</th>\n",
       "      <td>926</td>\n",
       "      <td>678</td>\n",
       "      <td>0</td>\n",
       "      <td>NaN</td>\n",
       "      <td>3</td>\n",
       "      <td>1Fam</td>\n",
       "      <td>TA</td>\n",
       "      <td>No</td>\n",
       "      <td>602.0</td>\n",
       "      <td>0.0</td>\n",
       "      <td>...</td>\n",
       "      <td>WD</td>\n",
       "      <td>0</td>\n",
       "      <td>Pave</td>\n",
       "      <td>7</td>\n",
       "      <td>926.0</td>\n",
       "      <td>AllPub</td>\n",
       "      <td>360</td>\n",
       "      <td>1998</td>\n",
       "      <td>1998</td>\n",
       "      <td>2010</td>\n",
       "    </tr>\n",
       "    <tr>\n",
       "      <th>4</th>\n",
       "      <td>1280</td>\n",
       "      <td>0</td>\n",
       "      <td>0</td>\n",
       "      <td>NaN</td>\n",
       "      <td>2</td>\n",
       "      <td>TwnhsE</td>\n",
       "      <td>TA</td>\n",
       "      <td>No</td>\n",
       "      <td>263.0</td>\n",
       "      <td>0.0</td>\n",
       "      <td>...</td>\n",
       "      <td>WD</td>\n",
       "      <td>144</td>\n",
       "      <td>Pave</td>\n",
       "      <td>5</td>\n",
       "      <td>1280.0</td>\n",
       "      <td>AllPub</td>\n",
       "      <td>0</td>\n",
       "      <td>1992</td>\n",
       "      <td>1992</td>\n",
       "      <td>2010</td>\n",
       "    </tr>\n",
       "  </tbody>\n",
       "</table>\n",
       "<p>5 rows × 81 columns</p>\n",
       "</div>"
      ],
      "text/plain": [
       "   1stFlrSF  2ndFlrSF  3SsnPorch Alley  BedroomAbvGr BldgType BsmtCond  \\\n",
       "0       896         0          0   NaN             2     1Fam       TA   \n",
       "1      1329         0          0   NaN             3     1Fam       TA   \n",
       "2       928       701          0   NaN             3     1Fam       TA   \n",
       "3       926       678          0   NaN             3     1Fam       TA   \n",
       "4      1280         0          0   NaN             2   TwnhsE       TA   \n",
       "\n",
       "  BsmtExposure  BsmtFinSF1  BsmtFinSF2  ...   SaleType ScreenPorch  Street  \\\n",
       "0           No       468.0       144.0  ...         WD         120    Pave   \n",
       "1           No       923.0         0.0  ...         WD           0    Pave   \n",
       "2           No       791.0         0.0  ...         WD           0    Pave   \n",
       "3           No       602.0         0.0  ...         WD           0    Pave   \n",
       "4           No       263.0         0.0  ...         WD         144    Pave   \n",
       "\n",
       "   TotRmsAbvGrd TotalBsmtSF  Utilities WoodDeckSF YearBuilt YearRemodAdd  \\\n",
       "0             5       882.0     AllPub        140      1961         1961   \n",
       "1             6      1329.0     AllPub        393      1958         1958   \n",
       "2             6       928.0     AllPub        212      1997         1998   \n",
       "3             7       926.0     AllPub        360      1998         1998   \n",
       "4             5      1280.0     AllPub          0      1992         1992   \n",
       "\n",
       "  YrSold  \n",
       "0   2010  \n",
       "1   2010  \n",
       "2   2010  \n",
       "3   2010  \n",
       "4   2010  \n",
       "\n",
       "[5 rows x 81 columns]"
      ]
     },
     "execution_count": 5,
     "metadata": {},
     "output_type": "execute_result"
    }
   ],
   "source": [
    "all_data.head()"
   ]
  },
  {
   "cell_type": "markdown",
   "metadata": {},
   "source": [
    "**Drop Variables**\n",
    "\n",
    "After looping through the dataframe and printing out the normalized value counts of each column, I was able to identify which columns were worth keeping based on categorical distribution skewness. The columns with a category containing more than 60% of the data will be dropped."
   ]
  },
  {
   "cell_type": "code",
   "execution_count": 6,
   "metadata": {
    "collapsed": true
   },
   "outputs": [],
   "source": [
    "# dropped array stores skewed categorical columns to be dropped\n",
    "dropped = []\n",
    "keep = []\n",
    "for i in train:\n",
    "    if train[i].value_counts(normalize=True, dropna=False).iloc[0] > .6:\n",
    "            ###print(train[i].value_counts(normalize=True, dropna=False))\n",
    "            dropped.append(i)\n",
    "    else:\n",
    "            keep.append(i)"
   ]
  },
  {
   "cell_type": "code",
   "execution_count": 7,
   "metadata": {},
   "outputs": [
    {
     "data": {
      "text/plain": [
       "40"
      ]
     },
     "execution_count": 7,
     "metadata": {},
     "output_type": "execute_result"
    }
   ],
   "source": [
    "len(dropped)"
   ]
  },
  {
   "cell_type": "code",
   "execution_count": 8,
   "metadata": {},
   "outputs": [
    {
     "name": "stdout",
     "output_type": "stream",
     "text": [
      "Columns to drop: \n",
      "MSZoning, Street, Alley, LotShape, LandContour, Utilities, LotConfig, LandSlope, Condition1, Condition2, BldgType, RoofStyle, RoofMatl, ExterQual, ExterCond, BsmtCond, BsmtExposure, BsmtFinType2, BsmtFinSF2, Heating, CentralAir, Electrical, LowQualFinSF, BsmtHalfBath, HalfBath, KitchenAbvGr, Functional, GarageQual, GarageCond, PavedDrive, EnclosedPorch, 3SsnPorch, ScreenPorch, PoolArea, PoolQC, Fence, MiscFeature, MiscVal, SaleType, SaleCondition, "
     ]
    }
   ],
   "source": [
    "print(\"Columns to drop: \")\n",
    "for i in dropped:\n",
    "    print(i, sep='', end=', ', flush=True)"
   ]
  },
  {
   "cell_type": "code",
   "execution_count": 9,
   "metadata": {
    "collapsed": true
   },
   "outputs": [],
   "source": [
    "# drops variables that do not meet the 60% threshhold\n",
    "train.drop(dropped, axis=1, inplace=True)"
   ]
  },
  {
   "cell_type": "markdown",
   "metadata": {},
   "source": [
    "**Additional Columns to Drop**\n",
    "\n",
    "The following columns were dropped for reasons other than not meeting the categorical skewness threshold:\n",
    "- 'Exterior2nd': The variable Exterior1st provides a sufficient metric for type of home exterior material\n",
    "- 'GarageType': Since this variable has a lot of categories and there are many other descriptive \"garage\" variables, it does not make sense to keep\n",
    "- 'MSSubClass': Based on the normalized categorical distribution of this variable, it is nearly colinear with 'HouseStyle' + 'YearBuilt' and therefore provides no additional predictive power.\n",
    "- 'Neighborhood' is unlikely to be useful, since houses within the same neighborhood generally have similar qualities.\n",
    "- 'Id' is an arbitrary identifier and has no predictive power"
   ]
  },
  {
   "cell_type": "code",
   "execution_count": 10,
   "metadata": {},
   "outputs": [],
   "source": [
    "# Drops other variables that do not add predictive power\n",
    "train.drop([\"Exterior2nd\", \"GarageType\", \"MSSubClass\", \"Neighborhood\", \"Id\"], axis=1, inplace=True)"
   ]
  },
  {
   "cell_type": "markdown",
   "metadata": {},
   "source": [
    "**Columns to transform:**\n",
    "- 'Exterior1st' get dummies for top 4 categories since they make up over 80% of the data\n",
    "- 'HouseStyle' get dummies for 1 story and 2 story houses\n",
    "- 'GarageFinish' encode as 1 for finished and 0 for unfinished\n",
    "- 'Foundation' get dummies for 'PConc' and 'CBlock' and consolidate the other variables to 'other' category since they make up +87% of the data.\n",
    "- 'MasVnrType' get dummies after consolidating 'brick' categories\n",
    "- 'BsmtQual', 'HeatingQC', 'KitchenQual', and 'Fireplace' change to numeric scale\n",
    "- 'BsmtFinType1' encode as a numeric quality scale"
   ]
  },
  {
   "cell_type": "code",
   "execution_count": 11,
   "metadata": {},
   "outputs": [
    {
     "name": "stdout",
     "output_type": "stream",
     "text": [
      "Columns to keep: \n",
      "Id, MSSubClass, LotFrontage, LotArea, Neighborhood, HouseStyle, OverallQual, OverallCond, YearBuilt, YearRemodAdd, Exterior1st, Exterior2nd, MasVnrType, MasVnrArea, Foundation, BsmtQual, BsmtFinType1, BsmtFinSF1, BsmtUnfSF, TotalBsmtSF, HeatingQC, 1stFlrSF, 2ndFlrSF, GrLivArea, BsmtFullBath, FullBath, BedroomAbvGr, KitchenQual, TotRmsAbvGrd, Fireplaces, FireplaceQu, GarageType, GarageYrBlt, GarageFinish, GarageCars, GarageArea, WoodDeckSF, OpenPorchSF, MoSold, YrSold, SalePrice, "
     ]
    }
   ],
   "source": [
    "### delete from final draft\n",
    "print(\"Columns to keep: \")\n",
    "for i in keep:\n",
    "    print(i, sep='', end=', ', flush=True)"
   ]
  },
  {
   "cell_type": "code",
   "execution_count": 12,
   "metadata": {
    "collapsed": true
   },
   "outputs": [],
   "source": [
    "### train.LotArea.value_counts(normalize=True, dropna=False)"
   ]
  },
  {
   "cell_type": "code",
   "execution_count": 13,
   "metadata": {
    "collapsed": true
   },
   "outputs": [],
   "source": [
    "# Reduces 'Exterior1st' column to just have 5 categories: 'VinylSd', 'HdBoard', 'MetalSd', 'Wd Sdng', and 'Other'\n",
    "train.Exterior1st = train.Exterior1st.apply(lambda x: x if str(x)[0]==\"V\" or str(x)[0]==\"H\" or str(x)[0]==\"M\" \n",
    "                                           or str(x)[0:5]==\"Wd Sd\" else \"Other\")\n",
    "# Creates dummies for new Exterior1st column\n",
    "train = pd.get_dummies(train, columns=[\"Exterior1st\"])"
   ]
  },
  {
   "cell_type": "code",
   "execution_count": 14,
   "metadata": {
    "collapsed": true
   },
   "outputs": [],
   "source": [
    "# Since 80% of the values are either 1 or 2 story houses, the other values are extraneous and uninformative\n",
    "# Hence, 'HouseStyle_1' essentially serves as an indicator for 1 story or more than 1 story (1.5, 2, 2.5, & split lvl)\n",
    "train[\"HouseStyle_1LvL\"] = np.where(train.HouseStyle.str.contains(\"1Story\"), 1, 0)\n",
    "train.drop(\"HouseStyle\", axis=1, inplace=True)"
   ]
  },
  {
   "cell_type": "code",
   "execution_count": 15,
   "metadata": {
    "collapsed": true
   },
   "outputs": [],
   "source": [
    "# Encodes 'GarageFinish' column to an indicator for houses with finished garages instead of categories\n",
    "train.GarageFinish = train.GarageFinish.apply(lambda x: 1 if str(x)[0:3] == \"Fin\" else 0)"
   ]
  },
  {
   "cell_type": "code",
   "execution_count": 16,
   "metadata": {
    "collapsed": true
   },
   "outputs": [],
   "source": [
    "# Consolidates 'BrkFace' and 'BrkCmn' into one 'Brick' category\n",
    "train.MasVnrType = train.MasVnrType.apply(lambda x: x if str(x)[0:3] != \"Brk\" else \"Brick\")\n",
    "\n",
    "# Creates dummy variables for 'MasVnrType'\n",
    "train = pd.get_dummies(train, columns=[\"MasVnrType\"])"
   ]
  },
  {
   "cell_type": "code",
   "execution_count": 17,
   "metadata": {
    "collapsed": true
   },
   "outputs": [],
   "source": [
    "# Reduces 'Foundation' column to just have 3 categories: 'PConc', 'CBrick', and 'Other'\n",
    "train.Foundation = train.Foundation.apply(lambda x: x if str(x)[0] == \"P\" or str(x)[0] == \"C\" else \"Other\")\n",
    "\n",
    "# Creates dummy variables for each Neighborhood\n",
    "train = pd.get_dummies(train, columns=[\"Foundation\"])"
   ]
  },
  {
   "cell_type": "code",
   "execution_count": 18,
   "metadata": {
    "collapsed": true
   },
   "outputs": [],
   "source": [
    "# Dictionary assigning numeric values to categorical columns with a \"poor\" to \"excellent\"\n",
    "num_assignments = {\"BsmtQual\": {\"Ex\":5, \"Gd\":4, \"TA\":3, \"Fa\":2, \"Po\":1, np.nan:0},\n",
    "                  \"HeatingQC\": {\"Ex\":4, \"Gd\":3, \"TA\":2, \"Fa\":1, \"Po\":0},\n",
    "                  \"KitchenQual\": {\"Ex\":4, \"Gd\":3, \"TA\":2, \"Fa\":1, \"Po\":0},\n",
    "                  \"FireplaceQu\": {\"Ex\":5, \"Gd\":4, \"TA\":3, \"Fa\":2, \"Po\":1, np.nan:0},\n",
    "                  \"BsmtFinType1\": {\"GLQ\":6, \"ALQ\":5, \"BLQ\":4, \"Rec\":3, \"LwQ\":2, \"Unf\":1, np.nan:0}}\n",
    "# Note: For 'BsmtQual', FireplaceQu', and 'BsmtFinType1' the null values are set to zero as their own category. \n",
    "        # This makes sense in context because the categories are measuring feature quality; Hence, if a feature is not\n",
    "        # reported it cannot be characterized.\n",
    "# Uses the 'num_assignments' dictionary to assign numeric values to the specified columns\n",
    "train.replace(num_assignments, inplace=True)"
   ]
  },
  {
   "cell_type": "code",
   "execution_count": 19,
   "metadata": {
    "collapsed": true
   },
   "outputs": [],
   "source": [
    "# creates variable measuring total square feet of the house\n",
    "train[\"TotalSqFt\"] = train.TotalBsmtSF + train.GrLivArea\n",
    "# TotalBsmtSF = Total square feet of basement area\n",
    "# GrLivArea = Total above grade (ground) living area square feet\n",
    "\n",
    "train.drop([\"TotalBsmtSF\", \"GrLivArea\"], axis=1, inplace=True)"
   ]
  },
  {
   "cell_type": "markdown",
   "metadata": {},
   "source": [
    "**Imputing Null Values**"
   ]
  },
  {
   "cell_type": "code",
   "execution_count": 20,
   "metadata": {},
   "outputs": [
    {
     "name": "stdout",
     "output_type": "stream",
     "text": [
      "LotFrontage 259\n",
      "MasVnrArea 8\n",
      "GarageYrBlt 81\n"
     ]
    }
   ],
   "source": [
    "Nulls = []\n",
    "# Prints sum of null values for columns containing nulls\n",
    "for i in train:\n",
    "    if train[i].isnull().sum()!=0:\n",
    "        print(i, train[i].isnull().sum())\n",
    "        Nulls.append(i)"
   ]
  },
  {
   "cell_type": "code",
   "execution_count": 21,
   "metadata": {
    "collapsed": true
   },
   "outputs": [],
   "source": [
    "# Fills the columns with null values (contained in the array \"Nulls\") with the column averages\n",
    "train = train.fillna(train[Nulls].mean()).round()"
   ]
  },
  {
   "cell_type": "markdown",
   "metadata": {},
   "source": [
    "For verification, we can check if any columns in train have null values. We should expect a value of zero."
   ]
  },
  {
   "cell_type": "code",
   "execution_count": 22,
   "metadata": {},
   "outputs": [
    {
     "data": {
      "text/plain": [
       "0"
      ]
     },
     "execution_count": 22,
     "metadata": {},
     "output_type": "execute_result"
    }
   ],
   "source": [
    "# Counts the number of columns with null values\n",
    "train.isnull().any().sum()"
   ]
  },
  {
   "cell_type": "code",
   "execution_count": 23,
   "metadata": {},
   "outputs": [
    {
     "name": "stdout",
     "output_type": "stream",
     "text": [
      "<class 'pandas.core.frame.DataFrame'>\n",
      "RangeIndex: 1460 entries, 0 to 1459\n",
      "Data columns (total 43 columns):\n",
      "LotFrontage            1460 non-null float64\n",
      "LotArea                1460 non-null int64\n",
      "OverallQual            1460 non-null int64\n",
      "OverallCond            1460 non-null int64\n",
      "YearBuilt              1460 non-null int64\n",
      "YearRemodAdd           1460 non-null int64\n",
      "MasVnrArea             1460 non-null float64\n",
      "BsmtQual               1460 non-null int64\n",
      "BsmtFinType1           1460 non-null int64\n",
      "BsmtFinSF1             1460 non-null int64\n",
      "BsmtUnfSF              1460 non-null int64\n",
      "HeatingQC              1460 non-null int64\n",
      "1stFlrSF               1460 non-null int64\n",
      "2ndFlrSF               1460 non-null int64\n",
      "BsmtFullBath           1460 non-null int64\n",
      "FullBath               1460 non-null int64\n",
      "BedroomAbvGr           1460 non-null int64\n",
      "KitchenQual            1460 non-null int64\n",
      "TotRmsAbvGrd           1460 non-null int64\n",
      "Fireplaces             1460 non-null int64\n",
      "FireplaceQu            1460 non-null int64\n",
      "GarageYrBlt            1460 non-null float64\n",
      "GarageFinish           1460 non-null int64\n",
      "GarageCars             1460 non-null int64\n",
      "GarageArea             1460 non-null int64\n",
      "WoodDeckSF             1460 non-null int64\n",
      "OpenPorchSF            1460 non-null int64\n",
      "MoSold                 1460 non-null int64\n",
      "YrSold                 1460 non-null int64\n",
      "SalePrice              1460 non-null int64\n",
      "Exterior1st_HdBoard    1460 non-null uint8\n",
      "Exterior1st_MetalSd    1460 non-null uint8\n",
      "Exterior1st_Other      1460 non-null uint8\n",
      "Exterior1st_VinylSd    1460 non-null uint8\n",
      "Exterior1st_Wd Sdng    1460 non-null uint8\n",
      "HouseStyle_1LvL        1460 non-null int64\n",
      "MasVnrType_Brick       1460 non-null uint8\n",
      "MasVnrType_None        1460 non-null uint8\n",
      "MasVnrType_Stone       1460 non-null uint8\n",
      "Foundation_CBlock      1460 non-null uint8\n",
      "Foundation_Other       1460 non-null uint8\n",
      "Foundation_PConc       1460 non-null uint8\n",
      "TotalSqFt              1460 non-null int64\n",
      "dtypes: float64(3), int64(29), uint8(11)\n",
      "memory usage: 380.8 KB\n"
     ]
    }
   ],
   "source": [
    "train.info()"
   ]
  },
  {
   "cell_type": "markdown",
   "metadata": {},
   "source": [
    "### Data Visualization"
   ]
  },
  {
   "cell_type": "code",
   "execution_count": 24,
   "metadata": {},
   "outputs": [
    {
     "data": {
      "text/plain": [
       "<matplotlib.axes._subplots.AxesSubplot at 0x1a1001b240>"
      ]
     },
     "execution_count": 24,
     "metadata": {},
     "output_type": "execute_result"
    },
    {
     "data": {
      "image/png": "[encoded data removed]",
      "text/plain": [
       "<matplotlib.figure.Figure at 0x107a17908>"
      ]
     },
     "metadata": {},
     "output_type": "display_data"
    }
   ],
   "source": [
    "sns.distplot(train.SalePrice) #regularize\n",
    "\n",
    "### Linear Regression"
   ]
  },
  {
   "cell_type": "markdown",
   "metadata": {},
   "source": [
    "### Modeling"
   ]
  },
  {
   "cell_type": "markdown",
   "metadata": {},
   "source": [
    "**Linear Regression**"
   ]
  },
  {
   "cell_type": "markdown",
   "metadata": {},
   "source": [
    "I begin my modeling with a standard linear regresssion. The data set still has a large number of features, so I do not expect it to be particularly accurate; however, it should serve as an adequate baseline upon which to improve."
   ]
  },
  {
   "cell_type": "code",
   "execution_count": 25,
   "metadata": {},
   "outputs": [],
   "source": [
    "train_xs = train.drop([\"SalePrice\"], axis = 1) # removes the dependent variable from the data set"
   ]
  },
  {
   "cell_type": "code",
   "execution_count": 26,
   "metadata": {
    "collapsed": true
   },
   "outputs": [],
   "source": [
    "# Split the data into training and testing sets. \n",
    "X_train, X_test, y_train, y_test = train_test_split(train_xs, train.SalePrice, test_size=0.33, random_state=42)"
   ]
  },
  {
   "cell_type": "code",
   "execution_count": 27,
   "metadata": {
    "collapsed": true
   },
   "outputs": [],
   "source": [
    "scaler = StandardScaler() # Initializes the StandardScaler function as 'scaler' \n",
    "scaler.fit(X_train) # Calculates means and standard deviations of data in order to fit a scaling function\n",
    "scaled_xtrain = scaler.transform(X_train) # Uses previous calculations to transform data into a scaled dataframe"
   ]
  },
  {
   "cell_type": "code",
   "execution_count": 28,
   "metadata": {
    "collapsed": true
   },
   "outputs": [],
   "source": [
    "# Initializes the 'LinearRegression' model from SKLearn.\n",
    "lin_reg = linear_model.LinearRegression()"
   ]
  },
  {
   "cell_type": "code",
   "execution_count": 29,
   "metadata": {},
   "outputs": [
    {
     "data": {
      "text/plain": [
       "LinearRegression(copy_X=True, fit_intercept=True, n_jobs=1, normalize=False)"
      ]
     },
     "execution_count": 29,
     "metadata": {},
     "output_type": "execute_result"
    }
   ],
   "source": [
    "# Trains the OLS model with the training subset data.\n",
    "lin_reg.fit(scaled_xtrain, y_train)"
   ]
  },
  {
   "cell_type": "code",
   "execution_count": 30,
   "metadata": {
    "collapsed": true
   },
   "outputs": [],
   "source": [
    "# Uses OLS model to predict 'SalePrice'\n",
    "y_predict = lin_reg.predict(scaler.transform(X_test))"
   ]
  },
  {
   "cell_type": "code",
   "execution_count": 31,
   "metadata": {},
   "outputs": [
    {
     "data": {
      "text/plain": [
       "array([ -1373.49249834,   6426.29728394,  20397.70703863,   4730.4129254 ,\n",
       "         3847.03262609,    -83.18939279,   8866.60934377,   6975.70190576,\n",
       "         3463.1873125 ,  -2315.02087416,  -3856.14949048,   1368.99029529,\n",
       "        13908.84598976,  16552.43480405,   4522.22116401,    470.10835115,\n",
       "        -3139.69119104,   6917.43060221,   9953.3447044 ,   1181.54586795,\n",
       "         5115.22518446,    866.12014035,    874.11071241,   8675.33333974,\n",
       "         1077.17455564,   2093.70736669,   -340.64730076,     62.53110528,\n",
       "          238.05492821,   -810.79980137,    385.97416495,    937.84889261,\n",
       "          -92.44418622,   -493.69290815,  10322.83799806,    973.2232878 ,\n",
       "         6835.40625668,   3463.45375695,  -1075.49346688,  -1247.15291777,\n",
       "         1911.86177797,    -28.18436288])"
      ]
     },
     "execution_count": 31,
     "metadata": {},
     "output_type": "execute_result"
    }
   ],
   "source": [
    "lin_reg.coef_ # Prints the coefficients of the linear regression model"
   ]
  },
  {
   "cell_type": "code",
   "execution_count": 32,
   "metadata": {},
   "outputs": [
    {
     "data": {
      "text/plain": [
       "36523.730989862408"
      ]
     },
     "execution_count": 32,
     "metadata": {},
     "output_type": "execute_result"
    }
   ],
   "source": [
    "np.sqrt(mean_squared_error(y_test, y_predict))"
   ]
  },
  {
   "cell_type": "code",
   "execution_count": 33,
   "metadata": {},
   "outputs": [
    {
     "data": {
      "text/plain": [
       "0.81829290118213627"
      ]
     },
     "execution_count": 33,
     "metadata": {},
     "output_type": "execute_result"
    }
   ],
   "source": [
    "r2_score(y_test, y_predict)"
   ]
  },
  {
   "cell_type": "markdown",
   "metadata": {},
   "source": [
    "The mean squared error is extremely large and the R-squared value is suspiciously high, which leads me to believe that the model overfit the data as a result of too many features. I will first trim down the number of features to see if that will improve the accuracy of my linear model."
   ]
  },
  {
   "cell_type": "markdown",
   "metadata": {},
   "source": [
    "**Tuning the Linear Model**"
   ]
  },
  {
   "cell_type": "markdown",
   "metadata": {},
   "source": [
    "With such a large number of parameters, it is necessary to determine which are the most informative. Using a Lasso model, also known as L1 regularization, I can identify the most important parameters to use in my models."
   ]
  },
  {
   "cell_type": "code",
   "execution_count": 34,
   "metadata": {},
   "outputs": [
    {
     "data": {
      "text/plain": [
       "Lasso(alpha=100, copy_X=True, fit_intercept=True, max_iter=1000,\n",
       "   normalize=False, positive=False, precompute=False, random_state=None,\n",
       "   selection='cyclic', tol=0.0001, warm_start=False)"
      ]
     },
     "execution_count": 34,
     "metadata": {},
     "output_type": "execute_result"
    }
   ],
   "source": [
    "lasso_lin_reg = linear_model.Lasso(alpha = 100)\n",
    "lasso_lin_reg.fit(scaled_xtrain, y_train)"
   ]
  },
  {
   "cell_type": "code",
   "execution_count": 35,
   "metadata": {},
   "outputs": [
    {
     "data": {
      "text/plain": [
       "0.80948814072973929"
      ]
     },
     "execution_count": 35,
     "metadata": {},
     "output_type": "execute_result"
    }
   ],
   "source": [
    "lasso_lin_reg.score(scaled_xtrain, y_train) # add description/interpretation"
   ]
  },
  {
   "cell_type": "code",
   "execution_count": 36,
   "metadata": {
    "collapsed": true
   },
   "outputs": [],
   "source": [
    "# Predicts 'SalePrice' using the x-test data set and lasso coefficients\n",
    "yL_predict = lasso_lin_reg.predict(scaler.transform(X_test))"
   ]
  },
  {
   "cell_type": "code",
   "execution_count": 37,
   "metadata": {},
   "outputs": [
    {
     "data": {
      "text/plain": [
       "36438.472970227958"
      ]
     },
     "execution_count": 37,
     "metadata": {},
     "output_type": "execute_result"
    }
   ],
   "source": [
    "np.sqrt(mean_squared_error(y_test, yL_predict))"
   ]
  },
  {
   "cell_type": "code",
   "execution_count": 38,
   "metadata": {},
   "outputs": [
    {
     "data": {
      "text/plain": [
       "array([  1164.57730541,   6335.79951893,  20446.06027816,   4553.38635641,\n",
       "         3682.6238561 ,     94.32040853,   8527.40053321,   6582.58929607,\n",
       "         3207.64002199,    913.49817581,   2906.4142198 ,   1298.94715927,\n",
       "        13046.15794599,  15775.52568622,   4335.56950149,    546.91540229,\n",
       "         2868.85978665,   6983.32408555,   9796.16250309,    978.19586972,\n",
       "         5348.75539424,    839.05292763,    823.26453338,   8780.894839  ,\n",
       "         1002.69710179,   2162.40999596,    157.20351656,      0.        ,\n",
       "          166.27085706,    733.72208362,    294.16374352,    958.97479981,\n",
       "            0.        ,    389.2653127 ,   9651.75951723,   4443.60755832,\n",
       "          798.30598284,      0.        ,      0.        ,    416.91558286,\n",
       "         2946.73121878,      0.        ])"
      ]
     },
     "execution_count": 38,
     "metadata": {},
     "output_type": "execute_result"
    }
   ],
   "source": [
    "np.abs(lasso_lin_reg.coef_)"
   ]
  },
  {
   "cell_type": "code",
   "execution_count": 39,
   "metadata": {},
   "outputs": [
    {
     "data": {
      "text/plain": [
       "array([ 20446.06027816,  15775.52568622,  13046.15794599,   9796.16250309,\n",
       "         9651.75951723,   8780.894839  ,   8527.40053321,   6983.32408555,\n",
       "         6582.58929607,   6335.79951893])"
      ]
     },
     "execution_count": 39,
     "metadata": {},
     "output_type": "execute_result"
    }
   ],
   "source": [
    "# Creates array of top 10 coefficients by absolute value\n",
    "lasso_lin_reg.coef_[np.abs(lasso_lin_reg.coef_).argsort()[::-1][:10]]"
   ]
  },
  {
   "cell_type": "code",
   "execution_count": 40,
   "metadata": {},
   "outputs": [
    {
     "data": {
      "text/plain": [
       "array([ 2, 13, 12, 18, 34, 23,  6, 17,  7,  1])"
      ]
     },
     "execution_count": 40,
     "metadata": {},
     "output_type": "execute_result"
    }
   ],
   "source": [
    "# Creates array of indices corresponding to the top 10 \n",
    "np.abs(lasso_lin_reg.coef_).argsort()[::-1][:10]"
   ]
  },
  {
   "cell_type": "code",
   "execution_count": 41,
   "metadata": {},
   "outputs": [
    {
     "data": {
      "text/plain": [
       "Index(['OverallQual', '2ndFlrSF', '1stFlrSF', 'TotRmsAbvGrd',\n",
       "       'HouseStyle_1LvL', 'GarageCars', 'MasVnrArea', 'KitchenQual',\n",
       "       'BsmtQual', 'LotArea'],\n",
       "      dtype='object')"
      ]
     },
     "execution_count": 41,
     "metadata": {},
     "output_type": "execute_result"
    }
   ],
   "source": [
    "top_10_Lcoefs = train_xs.columns[np.abs(lasso_lin_reg.coef_).argsort()[::-1][:10]]\n",
    "top_10_Lcoefs"
   ]
  },
  {
   "cell_type": "code",
   "execution_count": 42,
   "metadata": {},
   "outputs": [
    {
     "name": "stdout",
     "output_type": "stream",
     "text": [
      "OverallQual 1164.57730541\n",
      "2ndFlrSF 6335.79951893\n",
      "1stFlrSF 20446.0602782\n",
      "TotRmsAbvGrd 4553.38635641\n",
      "HouseStyle_1LvL 3682.6238561\n",
      "GarageCars 94.3204085332\n",
      "MasVnrArea 8527.40053321\n",
      "KitchenQual 6582.58929607\n",
      "BsmtQual 3207.64002199\n",
      "LotArea 913.498175807\n"
     ]
    }
   ],
   "source": [
    "for col, coef in zip(top_10_Lcoefs, np.abs(lasso_lin_reg.coef_)):\n",
    "    print(col, coef)"
   ]
  },
  {
   "cell_type": "markdown",
   "metadata": {},
   "source": [
    "The coefficients of the above features have the largest relative magnitude. I will make a new dataframe and re-run my linear model see if it improves accuracy."
   ]
  },
  {
   "cell_type": "code",
   "execution_count": 43,
   "metadata": {},
   "outputs": [],
   "source": [
    "df_train_2 = pd.DataFrame(data=scaled_xtrain, columns=train_xs.columns)[top_10_Lcoefs]\n",
    "df_test_2 = pd.DataFrame(data=scaler.transform(X_test), columns=train_xs.columns)[top_10_Lcoefs]"
   ]
  },
  {
   "cell_type": "code",
   "execution_count": 44,
   "metadata": {},
   "outputs": [
    {
     "data": {
      "text/html": [
       "<div>\n",
       "<style>\n",
       "    .dataframe thead tr:only-child th {\n",
       "        text-align: right;\n",
       "    }\n",
       "\n",
       "    .dataframe thead th {\n",
       "        text-align: left;\n",
       "    }\n",
       "\n",
       "    .dataframe tbody tr th {\n",
       "        vertical-align: top;\n",
       "    }\n",
       "</style>\n",
       "<table border=\"1\" class=\"dataframe\">\n",
       "  <thead>\n",
       "    <tr style=\"text-align: right;\">\n",
       "      <th></th>\n",
       "      <th>OverallQual</th>\n",
       "      <th>2ndFlrSF</th>\n",
       "      <th>1stFlrSF</th>\n",
       "      <th>TotRmsAbvGrd</th>\n",
       "      <th>HouseStyle_1LvL</th>\n",
       "      <th>GarageCars</th>\n",
       "      <th>MasVnrArea</th>\n",
       "      <th>KitchenQual</th>\n",
       "      <th>BsmtQual</th>\n",
       "      <th>LotArea</th>\n",
       "    </tr>\n",
       "  </thead>\n",
       "  <tbody>\n",
       "    <tr>\n",
       "      <th>0</th>\n",
       "      <td>-0.087337</td>\n",
       "      <td>-0.802391</td>\n",
       "      <td>-0.292591</td>\n",
       "      <td>-0.330575</td>\n",
       "      <td>-0.993884</td>\n",
       "      <td>0.293095</td>\n",
       "      <td>0.278172</td>\n",
       "      <td>0.754280</td>\n",
       "      <td>-0.551699</td>\n",
       "      <td>-0.168264</td>\n",
       "    </tr>\n",
       "    <tr>\n",
       "      <th>1</th>\n",
       "      <td>-0.817384</td>\n",
       "      <td>-0.802391</td>\n",
       "      <td>-0.122994</td>\n",
       "      <td>-0.330575</td>\n",
       "      <td>1.006154</td>\n",
       "      <td>-2.436875</td>\n",
       "      <td>-0.614404</td>\n",
       "      <td>-0.763592</td>\n",
       "      <td>0.579457</td>\n",
       "      <td>-0.202722</td>\n",
       "    </tr>\n",
       "    <tr>\n",
       "      <th>2</th>\n",
       "      <td>0.642710</td>\n",
       "      <td>-0.802391</td>\n",
       "      <td>1.151554</td>\n",
       "      <td>0.287594</td>\n",
       "      <td>1.006154</td>\n",
       "      <td>1.658080</td>\n",
       "      <td>0.690131</td>\n",
       "      <td>0.754280</td>\n",
       "      <td>0.579457</td>\n",
       "      <td>-0.177961</td>\n",
       "    </tr>\n",
       "    <tr>\n",
       "      <th>3</th>\n",
       "      <td>-0.817384</td>\n",
       "      <td>-0.802391</td>\n",
       "      <td>-0.243768</td>\n",
       "      <td>-0.330575</td>\n",
       "      <td>1.006154</td>\n",
       "      <td>0.293095</td>\n",
       "      <td>0.346832</td>\n",
       "      <td>-0.763592</td>\n",
       "      <td>-0.551699</td>\n",
       "      <td>-0.039349</td>\n",
       "    </tr>\n",
       "    <tr>\n",
       "      <th>4</th>\n",
       "      <td>-0.817384</td>\n",
       "      <td>-0.802391</td>\n",
       "      <td>0.568243</td>\n",
       "      <td>-0.330575</td>\n",
       "      <td>1.006154</td>\n",
       "      <td>0.293095</td>\n",
       "      <td>-0.614404</td>\n",
       "      <td>-0.763592</td>\n",
       "      <td>0.579457</td>\n",
       "      <td>-0.063504</td>\n",
       "    </tr>\n",
       "  </tbody>\n",
       "</table>\n",
       "</div>"
      ],
      "text/plain": [
       "   OverallQual  2ndFlrSF  1stFlrSF  TotRmsAbvGrd  HouseStyle_1LvL  GarageCars  \\\n",
       "0    -0.087337 -0.802391 -0.292591     -0.330575        -0.993884    0.293095   \n",
       "1    -0.817384 -0.802391 -0.122994     -0.330575         1.006154   -2.436875   \n",
       "2     0.642710 -0.802391  1.151554      0.287594         1.006154    1.658080   \n",
       "3    -0.817384 -0.802391 -0.243768     -0.330575         1.006154    0.293095   \n",
       "4    -0.817384 -0.802391  0.568243     -0.330575         1.006154    0.293095   \n",
       "\n",
       "   MasVnrArea  KitchenQual  BsmtQual   LotArea  \n",
       "0    0.278172     0.754280 -0.551699 -0.168264  \n",
       "1   -0.614404    -0.763592  0.579457 -0.202722  \n",
       "2    0.690131     0.754280  0.579457 -0.177961  \n",
       "3    0.346832    -0.763592 -0.551699 -0.039349  \n",
       "4   -0.614404    -0.763592  0.579457 -0.063504  "
      ]
     },
     "execution_count": 44,
     "metadata": {},
     "output_type": "execute_result"
    }
   ],
   "source": [
    "df_train_2.head()"
   ]
  },
  {
   "cell_type": "code",
   "execution_count": 45,
   "metadata": {},
   "outputs": [
    {
     "data": {
      "text/plain": [
       "LinearRegression(copy_X=True, fit_intercept=True, n_jobs=1, normalize=False)"
      ]
     },
     "execution_count": 45,
     "metadata": {},
     "output_type": "execute_result"
    }
   ],
   "source": [
    "lin_reg.fit(df_train_2, y_train)"
   ]
  },
  {
   "cell_type": "code",
   "execution_count": 46,
   "metadata": {
    "collapsed": true
   },
   "outputs": [],
   "source": [
    "y_predict2 = lin_reg.predict(df_test_2)"
   ]
  },
  {
   "cell_type": "code",
   "execution_count": 47,
   "metadata": {},
   "outputs": [
    {
     "data": {
      "text/plain": [
       "37320.370367893047"
      ]
     },
     "execution_count": 47,
     "metadata": {},
     "output_type": "execute_result"
    }
   ],
   "source": [
    "np.sqrt(mean_squared_error(y_test, y_predict2))"
   ]
  },
  {
   "cell_type": "code",
   "execution_count": null,
   "metadata": {
    "collapsed": true
   },
   "outputs": [],
   "source": []
  },
  {
   "cell_type": "code",
   "execution_count": null,
   "metadata": {
    "collapsed": true
   },
   "outputs": [],
   "source": []
  },
  {
   "cell_type": "code",
   "execution_count": 48,
   "metadata": {},
   "outputs": [
    {
     "name": "stdout",
     "output_type": "stream",
     "text": [
      "Best Params: {'alpha': 0.5, 'eta0': 0.001, 'penalty': 'elasticnet', 'tol': 0.001}\n"
     ]
    }
   ],
   "source": [
    "param_grid = {\"penalty\": ['l2','l1','elasticnet'], 'alpha':[.01, .1, .5, 1, 10], \n",
    "              \"eta0\": [ .001, .003, .01, .03, .1, .3, 1, 3], \"tol\": [.001]}\n",
    "grid_search = GridSearchCV(linear_model.SGDRegressor(), param_grid, scoring='neg_mean_squared_error')\n",
    "\n",
    "grid_search.fit(X_train, y_train)\n",
    "print(\"Best Params: {}\".format(grid_search.best_params_))\n",
    "\n"
   ]
  },
  {
   "cell_type": "code",
   "execution_count": 49,
   "metadata": {},
   "outputs": [
    {
     "data": {
      "text/plain": [
       "9.0121892623772293e+31"
      ]
     },
     "execution_count": 49,
     "metadata": {},
     "output_type": "execute_result"
    }
   ],
   "source": [
    "(grid_search.best_score_)*-1"
   ]
  },
  {
   "cell_type": "code",
   "execution_count": 50,
   "metadata": {},
   "outputs": [
    {
     "data": {
      "text/plain": [
       "SGDRegressor(alpha=0.5, average=False, epsilon=0.1, eta0=0.001,\n",
       "       fit_intercept=True, l1_ratio=0.15, learning_rate='invscaling',\n",
       "       loss='squared_loss', max_iter=None, n_iter=None,\n",
       "       penalty='elasticnet', power_t=0.25, random_state=None, shuffle=True,\n",
       "       tol=0.001, verbose=0, warm_start=False)"
      ]
     },
     "execution_count": 50,
     "metadata": {},
     "output_type": "execute_result"
    }
   ],
   "source": [
    "grid_search.best_estimator_"
   ]
  },
  {
   "cell_type": "code",
   "execution_count": 51,
   "metadata": {},
   "outputs": [
    {
     "name": "stdout",
     "output_type": "stream",
     "text": [
      "Train RMSE: 2.112508740066906e+16\n"
     ]
    }
   ],
   "source": [
    "\n",
    "train_predictions = grid_search.best_estimator_.predict(X_train)\n",
    "print(\"Train RMSE: {}\".format(np.sqrt(mean_squared_error(y_train, train_predictions))))"
   ]
  },
  {
   "cell_type": "code",
   "execution_count": 52,
   "metadata": {},
   "outputs": [
    {
     "data": {
      "text/plain": [
       "array([ -1.83363540e+16,  -1.83671820e+16,  -2.17449974e+16,\n",
       "        -1.95280894e+16,  -2.05287768e+16,  -1.98286696e+16,\n",
       "        -1.57648252e+16,  -2.20639494e+16,  -1.95472271e+16,\n",
       "        -2.14807500e+16,  -2.18537892e+16,  -2.50077479e+16,\n",
       "        -1.80654823e+16,  -2.65816580e+16,  -1.95334521e+16,\n",
       "        -1.61193656e+16,  -1.31952681e+16,  -2.49223044e+16,\n",
       "        -2.88700820e+16,  -1.69193086e+16,  -1.71871045e+16,\n",
       "        -1.82145922e+16,  -2.08180323e+16,  -2.12992680e+16,\n",
       "        -2.38918498e+16,  -1.88597339e+16,  -2.21348613e+16,\n",
       "        -1.76085679e+16,  -2.05071765e+16,  -1.83777963e+16,\n",
       "        -2.13764821e+16,  -2.35425108e+16,  -1.76542557e+16,\n",
       "        -1.62987306e+16,  -2.19358163e+16,  -1.74570994e+16,\n",
       "        -2.30629799e+16,  -1.69541664e+16,  -2.40992164e+16,\n",
       "        -1.44054297e+16,  -2.15804803e+16,  -1.57234696e+16,\n",
       "        -2.03727435e+16,  -1.89993275e+16,  -1.50955866e+16,\n",
       "        -1.79728546e+16,  -1.98175606e+16,  -1.55290621e+16,\n",
       "        -2.05372458e+16,  -2.51897326e+16,  -1.99847791e+16,\n",
       "        -2.06458584e+16,  -2.10478741e+16,  -1.85664924e+16,\n",
       "        -1.76529219e+16,  -2.00945723e+16,  -3.18719995e+16,\n",
       "        -2.49255878e+16,  -1.77729092e+16,  -1.85782950e+16,\n",
       "        -2.21860161e+16,  -1.90271173e+16,  -2.19982500e+16,\n",
       "        -1.96802270e+16,  -1.68014903e+16,  -2.18736180e+16,\n",
       "        -1.96484941e+16,  -1.77281725e+16,  -2.74973526e+16,\n",
       "        -1.74544872e+16,  -2.04535850e+16,  -1.52944447e+16,\n",
       "        -2.16053081e+16,  -1.96539147e+16,  -1.26894772e+16,\n",
       "        -1.96660102e+16,  -1.87355770e+16,  -2.51079984e+16,\n",
       "        -1.37758021e+16,  -2.47103708e+16,  -2.15066817e+16,\n",
       "        -1.85987009e+16,  -2.41804549e+16,  -1.78109079e+16,\n",
       "        -2.14877610e+16,  -2.05668881e+16,  -2.08724790e+16,\n",
       "        -1.92333771e+16,  -2.00515485e+16,  -1.42269872e+16,\n",
       "        -2.07402673e+16,  -1.50531820e+16,  -1.99343115e+16,\n",
       "        -1.98578783e+16,  -1.97379302e+16,  -1.65217260e+16,\n",
       "        -2.24314562e+16,  -2.22174174e+16,  -1.80623856e+16,\n",
       "        -2.09910212e+16,  -2.64582066e+16,  -1.83191989e+16,\n",
       "        -1.82024563e+16,  -1.75883154e+16,  -2.31158889e+16,\n",
       "        -2.04564502e+16,  -1.94871996e+16,  -1.91544131e+16,\n",
       "        -1.63627844e+16,  -1.68904001e+16,  -1.92889943e+16,\n",
       "        -1.82483673e+16,  -1.42139393e+16,  -1.24861862e+16,\n",
       "        -2.02361675e+16,  -1.83188784e+16,  -2.07925532e+16,\n",
       "        -2.45896628e+16,  -2.89217909e+16,  -1.86122544e+16,\n",
       "        -2.03611379e+16,  -1.91490594e+16,  -2.04960519e+16,\n",
       "        -1.49128351e+16,  -1.98571342e+16,  -1.84773695e+16,\n",
       "        -2.01985091e+16,  -1.81455041e+16,  -2.38260115e+16,\n",
       "        -1.76320196e+16,  -1.97716340e+16,  -1.47379341e+16,\n",
       "        -1.91195223e+16,  -1.96829285e+16,  -2.76842475e+16,\n",
       "        -1.72597229e+16,  -2.01591291e+16,  -1.95074285e+16,\n",
       "        -1.66187919e+16,  -1.47792600e+16,  -1.75093316e+16,\n",
       "        -1.98378403e+16,  -2.23261375e+16,  -1.76465002e+16,\n",
       "        -2.27046292e+16,  -1.98154940e+16,  -1.89491218e+16,\n",
       "        -1.97287805e+16,  -1.77941937e+16,  -2.33176585e+16,\n",
       "        -2.12339943e+16,  -2.25208731e+16,  -1.80950689e+16,\n",
       "        -1.99457219e+16,  -2.16666505e+16,  -1.87857310e+16,\n",
       "        -2.60023601e+16,  -1.84741465e+16,  -2.43709917e+16,\n",
       "        -2.55381839e+16,  -2.07400416e+16,  -2.32521290e+16,\n",
       "        -1.84713979e+16,  -2.83846510e+16,  -2.10979172e+16,\n",
       "        -1.79094404e+16,  -2.11671509e+16,  -2.49506573e+16,\n",
       "        -1.85943690e+16,  -2.52791587e+16,  -1.88445605e+16,\n",
       "        -2.03539612e+16,  -1.81975788e+16,  -2.13130480e+16,\n",
       "        -2.55008366e+16,  -4.45477688e+16,  -1.54500392e+16,\n",
       "        -1.78822652e+16,  -2.05708276e+16,  -1.85629655e+16,\n",
       "        -1.21839384e+16,  -1.41645878e+16,  -1.73442416e+16,\n",
       "        -2.16434802e+16,  -1.90047714e+16,  -2.08543743e+16,\n",
       "        -1.63535008e+16,  -2.16239192e+16,  -2.03716875e+16,\n",
       "        -2.37046838e+16,  -1.90353540e+16,  -1.69682227e+16,\n",
       "        -1.98584107e+16,  -2.06865361e+16,  -2.07838351e+16,\n",
       "        -1.81592106e+16,  -1.97399524e+16,  -1.64817935e+16,\n",
       "        -2.32518389e+16,  -1.91922022e+16,  -1.80144152e+16,\n",
       "        -1.45957010e+16,  -1.42948740e+16,  -2.12226030e+16,\n",
       "        -1.65784687e+16,  -2.25279115e+16,  -1.91527452e+16,\n",
       "        -1.70665586e+16,  -2.34462653e+16,  -2.26710835e+16,\n",
       "        -2.18305552e+16,  -2.42775402e+16,  -2.15901242e+16,\n",
       "        -2.07578390e+16,  -1.41020968e+16,  -1.93353173e+16,\n",
       "        -2.02215148e+16,  -7.73253300e+16,  -2.62056062e+16,\n",
       "        -1.72024205e+16,  -1.94876111e+16,  -1.58311515e+16,\n",
       "        -2.46155882e+16,  -1.73894062e+16,  -1.85812661e+16,\n",
       "        -1.93641471e+16,  -2.41768355e+16,  -1.86020362e+16,\n",
       "        -1.75564247e+16,  -1.60303661e+16,  -1.27011459e+16,\n",
       "        -1.26074115e+16,  -2.39649480e+16,  -1.85477950e+16,\n",
       "        -2.31997651e+16,  -2.40679797e+16,  -1.90205428e+16,\n",
       "        -1.44654757e+16,  -2.11648037e+16,  -1.21380645e+16,\n",
       "        -1.69902916e+16,  -1.79744726e+16,  -2.41342558e+16,\n",
       "        -1.90842792e+16,  -1.53650832e+16,  -2.39839255e+16,\n",
       "        -9.86918365e+16,  -2.28291802e+16,  -1.87812045e+16,\n",
       "        -1.71349376e+16,  -1.86869581e+16,  -2.05731406e+16,\n",
       "        -2.15737552e+16,  -1.96077729e+16,  -1.72003891e+16,\n",
       "        -2.14915032e+16,  -2.04360874e+16,  -2.04125152e+16,\n",
       "        -1.65320897e+16,  -2.02915564e+16,  -2.20198538e+16,\n",
       "        -1.74240286e+16,  -1.66431175e+16,  -1.98150025e+16,\n",
       "        -2.20986751e+16,  -4.38239880e+16,  -1.78562725e+16,\n",
       "        -1.98204172e+16,  -2.09695896e+16,  -2.01082965e+16,\n",
       "        -1.48967897e+16,  -2.20477665e+16,  -1.91771963e+16,\n",
       "        -1.93467167e+16,  -2.08669915e+16,  -1.86770215e+16,\n",
       "        -2.78071536e+16,  -1.85411688e+16,  -2.09136001e+16,\n",
       "        -1.79975886e+16,  -1.77469674e+16,  -1.67378293e+16,\n",
       "        -1.79205347e+16,  -2.65192760e+16,  -1.90602037e+16,\n",
       "        -1.89856632e+16,  -1.93768543e+16,  -2.37912543e+16,\n",
       "        -1.87083208e+16,  -1.53229665e+16,  -2.02187002e+16,\n",
       "        -1.84742570e+16,  -2.37663531e+16,  -1.58723586e+16,\n",
       "        -1.60263895e+16,  -1.72659602e+16,  -1.74215016e+16,\n",
       "        -1.55063798e+16,  -1.77059316e+16,  -1.86886874e+16,\n",
       "        -1.55242303e+16,  -2.40210552e+16,  -1.63688782e+16,\n",
       "        -2.20264672e+16,  -1.87034709e+16,  -6.74086448e+16,\n",
       "        -1.90506379e+16,  -1.77622962e+16,  -1.82885930e+16,\n",
       "        -2.83453141e+16,  -2.16019474e+16,  -1.89375557e+16,\n",
       "        -1.90780365e+16,  -1.87012958e+16,  -1.55431674e+16,\n",
       "        -1.86923240e+16,  -2.25001791e+16,  -2.11210672e+16,\n",
       "        -1.67137166e+16,  -1.64450588e+16,  -1.91853065e+16,\n",
       "        -1.80746774e+16,  -1.63913362e+16,  -2.22731525e+16,\n",
       "        -2.30836037e+16,  -1.98213084e+16,  -1.73365524e+16,\n",
       "        -2.04613527e+16,  -1.61658178e+16,  -1.68052967e+16,\n",
       "        -1.91926167e+16,  -1.98624402e+16,  -1.51991082e+16,\n",
       "        -2.05759262e+16,  -1.85374262e+16,  -2.09355525e+16,\n",
       "        -2.05891416e+16,  -1.85892757e+16,  -1.61591257e+16,\n",
       "        -2.00102069e+16,  -1.83359010e+16,  -1.83892867e+16,\n",
       "        -1.91570665e+16,  -2.58651330e+16,  -2.05138465e+16,\n",
       "        -1.34687683e+16,  -1.77802919e+16,  -2.91867212e+16,\n",
       "        -1.58649322e+16,  -3.66235198e+16,  -2.05627884e+16,\n",
       "        -1.66865926e+16,  -1.77555774e+16,  -1.76462243e+16,\n",
       "        -1.84110987e+16,  -1.85461480e+16,  -1.74595518e+16,\n",
       "        -1.75875254e+16,  -1.67104211e+16,  -1.78491495e+16,\n",
       "        -1.95980232e+16,  -1.57871797e+16,  -1.68818776e+16,\n",
       "        -1.70314322e+16,  -2.03483198e+16,  -1.86991858e+16,\n",
       "        -1.83201619e+16,  -1.82367469e+16,  -2.24981833e+16,\n",
       "        -1.68569143e+16,  -1.94634214e+16,  -1.77523669e+16,\n",
       "        -1.38804551e+16,  -1.52698525e+16,  -2.50705990e+16,\n",
       "        -1.63504482e+16,  -1.79672008e+16,  -1.73965943e+16,\n",
       "        -2.84192817e+16,  -1.72264103e+16,  -1.84075710e+16,\n",
       "        -2.08740331e+16,  -1.98761674e+16,  -1.60963344e+16,\n",
       "        -2.03651111e+16,  -1.97306387e+16,  -1.95990869e+16,\n",
       "        -1.69134732e+16,  -1.58452249e+16,  -1.49832431e+16,\n",
       "        -2.92765723e+16,  -2.14561021e+16,  -1.70152054e+16,\n",
       "        -1.89066945e+16,  -1.51359824e+16,  -1.51461849e+16,\n",
       "        -1.69125305e+16,  -1.99979422e+16,  -2.52507323e+16,\n",
       "        -1.86360218e+16,  -1.99682200e+16,  -1.88460364e+16,\n",
       "        -2.37710403e+16,  -2.53478600e+16,  -2.04778093e+16,\n",
       "        -2.29129902e+16,  -1.82847702e+16,  -2.26466639e+16,\n",
       "        -2.06663953e+16,  -1.93822270e+16,  -1.68678718e+16,\n",
       "        -1.47243882e+16,  -1.90448987e+16,  -2.30510341e+16,\n",
       "        -1.60900598e+16,  -2.72770647e+16,  -2.30420178e+16,\n",
       "        -2.52116205e+16,  -1.71316835e+16,  -2.44532768e+16,\n",
       "        -1.95014355e+16,  -1.53204965e+16,  -2.45842719e+16,\n",
       "        -1.39586484e+16,  -1.43304409e+16,  -2.55779393e+16,\n",
       "        -2.24291044e+16,  -1.84009529e+16,  -2.01088393e+16,\n",
       "        -1.84969733e+16,  -1.94731283e+16,  -1.72666840e+16,\n",
       "        -1.64071036e+16,  -1.78040594e+16,  -1.91400431e+16,\n",
       "        -1.28616407e+16,  -1.79277228e+16,  -1.65663097e+16,\n",
       "        -1.67440930e+16,  -1.84076799e+16,  -1.76415597e+16,\n",
       "        -2.08679042e+16,  -1.81451078e+16,  -2.26371224e+16,\n",
       "        -1.87870139e+16,  -1.54622805e+16,  -1.89327652e+16,\n",
       "        -2.14858945e+16,  -2.85436296e+16,  -2.39023909e+16,\n",
       "        -2.88981793e+16,  -1.73867999e+16,  -1.79889259e+16,\n",
       "        -2.27784115e+16,  -2.45372826e+16,  -2.09817811e+16,\n",
       "        -2.43691301e+16,  -1.71088970e+16,  -2.32609268e+16,\n",
       "        -1.70264904e+16,  -1.73300870e+16,  -1.43995315e+16,\n",
       "        -1.50884409e+16,  -1.49053634e+16,  -1.69240304e+16,\n",
       "        -1.85362970e+16,  -2.05172883e+16,  -1.76890489e+16,\n",
       "        -1.55328043e+16,  -1.95066407e+16,  -1.75265379e+16,\n",
       "        -1.82433066e+16,  -1.98355689e+16,  -1.96345334e+16,\n",
       "        -2.19251376e+16,  -1.55292238e+16,  -1.24054946e+16,\n",
       "        -1.41158490e+16,  -1.23645359e+16,  -1.84330438e+16,\n",
       "        -1.96363869e+16,  -1.95244892e+16,  -1.99606594e+16,\n",
       "        -2.18016757e+16,  -2.61716169e+16,  -1.31220629e+16,\n",
       "        -1.71024635e+16,  -1.63274833e+16,  -1.68084063e+16,\n",
       "        -2.36584992e+16,  -1.56070977e+16,  -1.82132732e+16,\n",
       "        -2.11906878e+16,  -1.68689583e+16,  -1.61191030e+16,\n",
       "        -1.58540508e+16,  -1.57614633e+16,  -2.67903892e+16,\n",
       "        -1.97885858e+16,  -1.73401901e+16,  -1.87220698e+16,\n",
       "        -1.66594933e+16,  -2.04573937e+16,  -1.88906985e+16,\n",
       "        -1.86842155e+16,  -2.28378763e+16,  -1.60397305e+16,\n",
       "        -2.26202726e+16,  -1.73212983e+16,  -1.68964349e+16,\n",
       "        -2.41451031e+16,  -2.01726626e+16,  -1.97668822e+16,\n",
       "        -1.67517424e+16,  -2.05013789e+16,  -1.48104122e+16,\n",
       "        -2.05550642e+16,  -1.62546582e+16,  -1.46312100e+16,\n",
       "        -1.78526359e+16,  -1.80930558e+16,  -2.33822574e+16,\n",
       "        -1.83105684e+16,  -1.75066185e+16,  -1.82431243e+16,\n",
       "        -1.62220498e+16,  -1.85146477e+16,  -1.91045950e+16,\n",
       "        -1.32330804e+16,  -2.69540978e+16,  -1.45823268e+16,\n",
       "        -1.94966030e+16,  -1.72745703e+16,  -1.80978608e+16,\n",
       "        -2.77715153e+16,  -1.78959141e+16,  -1.80980403e+16,\n",
       "        -1.91357769e+16,  -2.28527995e+16,  -1.86000339e+16,\n",
       "        -1.75336987e+16,  -3.81125176e+16,  -1.58375913e+16,\n",
       "        -2.16085163e+16,  -2.02876900e+16,  -1.72377901e+16,\n",
       "        -2.14180517e+16,  -1.73760430e+16,  -2.07973720e+16,\n",
       "        -1.55302419e+16,  -1.75266153e+16,  -1.42519650e+16,\n",
       "        -1.95512884e+16,  -1.72127554e+16,  -2.60943485e+16,\n",
       "        -1.69993153e+16,  -1.77388029e+16,  -2.13295861e+16,\n",
       "        -1.02073830e+17,  -1.99375529e+16,  -1.28424806e+16,\n",
       "        -2.51498265e+16,  -1.78044576e+16,  -2.26198283e+16,\n",
       "        -1.81743990e+16,  -1.83495182e+16,  -2.01166126e+16,\n",
       "        -2.09808983e+16,  -2.26005787e+16,  -1.93948486e+16,\n",
       "        -2.18963158e+16,  -2.15644177e+16,  -1.62187035e+16,\n",
       "        -2.64460248e+16,  -1.76718176e+16,  -1.97618346e+16,\n",
       "        -1.49169890e+16,  -1.71570115e+16,  -1.91041219e+16,\n",
       "        -1.87629278e+16,  -2.36312195e+16,  -1.48785687e+16,\n",
       "        -1.94524784e+16,  -2.14966353e+16,  -1.81573836e+16,\n",
       "        -1.75801816e+16,  -1.99586358e+16,  -2.24422341e+16,\n",
       "        -1.68210226e+16,  -1.82588081e+16,  -2.23896920e+16,\n",
       "        -1.76928675e+16,  -1.72572918e+16,  -1.79822438e+16,\n",
       "        -1.80494366e+16,  -2.06248456e+16,  -1.63336751e+16,\n",
       "        -1.91295803e+16,  -1.66176712e+16,  -2.15365775e+16,\n",
       "        -1.73916939e+16,  -1.91231651e+16,  -2.17726719e+16,\n",
       "        -1.96400725e+16,  -1.68234618e+16,  -1.24937468e+16,\n",
       "        -1.55047881e+16,  -2.00484712e+16,  -2.29169521e+16,\n",
       "        -2.30422110e+16,  -3.51836363e+16,  -2.27878980e+16,\n",
       "        -2.75470489e+16,  -1.85486999e+16,  -2.26179501e+16,\n",
       "        -2.30188178e+16,  -2.31428279e+16,  -1.59206712e+16,\n",
       "        -1.86658216e+16,  -1.40376726e+16,  -1.75226147e+16,\n",
       "        -2.33272325e+16,  -2.12961542e+16,  -1.23446908e+16,\n",
       "        -1.57537238e+16,  -2.69021452e+16,  -1.95287296e+16,\n",
       "        -1.29781306e+17,  -1.64960967e+16,  -1.69281065e+16,\n",
       "        -2.04293423e+16,  -1.79543942e+16,  -2.62011393e+16,\n",
       "        -2.08447216e+16,  -2.39495471e+16,  -1.81237563e+16,\n",
       "        -1.43134235e+16,  -1.80323830e+16,  -1.86732321e+16,\n",
       "        -1.92601817e+16,  -2.42912451e+16,  -1.83003381e+16,\n",
       "        -2.38499305e+16,  -2.21584454e+16,  -1.73579974e+16,\n",
       "        -2.06043333e+16,  -1.88603191e+16,  -2.13285934e+16,\n",
       "        -1.81869272e+16,  -2.01241835e+16,  -1.40677136e+16,\n",
       "        -2.11671652e+16,  -2.32314737e+16,  -2.40327074e+16,\n",
       "        -1.56675952e+16,  -1.29078025e+16,  -2.04678251e+16,\n",
       "        -2.23947955e+16,  -2.15309898e+16,  -1.95574017e+16,\n",
       "        -1.74475494e+16,  -1.74752118e+16,  -1.71082494e+16,\n",
       "        -1.76597770e+16,  -1.44708366e+16,  -1.88677258e+16,\n",
       "        -2.01392287e+16,  -1.62172994e+16,  -2.02325362e+16,\n",
       "        -1.84910111e+16,  -1.84146321e+16,  -2.06409211e+16,\n",
       "        -1.34920692e+16,  -2.08081815e+16,  -1.40083242e+16,\n",
       "        -2.35125945e+16,  -3.03058526e+16,  -1.87957390e+16,\n",
       "        -1.95813031e+16,  -1.94910675e+16,  -2.09756109e+16,\n",
       "        -1.85655611e+16,  -2.28705953e+16,  -1.98880129e+16,\n",
       "        -1.97366251e+16,  -1.72599500e+16,  -1.85329280e+16,\n",
       "        -2.26204992e+16,  -1.69989836e+16,  -1.74522572e+16,\n",
       "        -2.44237541e+16,  -1.41864674e+16,  -2.71451265e+16,\n",
       "        -2.17399078e+16,  -1.65698606e+16,  -1.31192790e+16,\n",
       "        -1.67645467e+16,  -1.62421188e+16,  -2.60223683e+16,\n",
       "        -1.77056526e+16,  -1.93081995e+16,  -1.57021996e+16,\n",
       "        -1.98396899e+16,  -1.82989336e+16,  -1.97014577e+16,\n",
       "        -2.35366903e+16,  -1.48998922e+16,  -1.78668079e+16,\n",
       "        -1.86307035e+16,  -1.89351323e+16,  -2.32970293e+16,\n",
       "        -1.99134176e+16,  -2.18826978e+16,  -1.94143240e+16,\n",
       "        -2.08310120e+16,  -1.28866331e+16,  -1.93747438e+16,\n",
       "        -1.69643192e+16,  -2.01003750e+16,  -2.09845997e+16,\n",
       "        -1.78896212e+16,  -2.14913258e+16,  -2.08704565e+16,\n",
       "        -1.86799051e+16,  -1.65989966e+16,  -1.74755510e+16,\n",
       "        -2.09151089e+16,  -1.73774124e+16,  -1.71973320e+16,\n",
       "        -1.80509010e+16,  -4.42717953e+16,  -2.45850379e+16,\n",
       "        -2.09365169e+16,  -2.00091191e+16,  -2.02137744e+16,\n",
       "        -2.32698209e+16,  -1.74715280e+16,  -1.71638899e+16,\n",
       "        -1.99303062e+16,  -1.94323191e+16,  -1.82184692e+16,\n",
       "        -1.83868035e+16,  -1.90656698e+16,  -1.80365130e+16,\n",
       "        -1.23815313e+16,  -1.80006911e+16,  -1.93157325e+16,\n",
       "        -1.39602947e+16,  -1.70648860e+16,  -2.32795555e+16,\n",
       "        -1.75247739e+16,  -1.91287112e+16,  -1.49808686e+16,\n",
       "        -2.27578557e+16,  -2.80752748e+16,  -2.05748066e+16,\n",
       "        -1.63141295e+16,  -2.37276915e+16,  -2.09267947e+16,\n",
       "        -1.40877737e+16,  -1.97146649e+16,  -1.57820214e+16,\n",
       "        -1.75728548e+16,  -1.78817922e+16,  -1.87072669e+16,\n",
       "        -2.12633551e+16,  -1.90242277e+16,  -2.00887572e+16,\n",
       "        -1.89557462e+16,  -2.11404146e+16,  -2.19913725e+16,\n",
       "        -2.16234060e+16,  -1.67125809e+16,  -2.15270809e+16,\n",
       "        -2.94161261e+16,  -1.71930607e+16,  -1.99717243e+16,\n",
       "        -2.31560565e+16,  -1.87199012e+16,  -2.30186707e+16,\n",
       "        -1.88667136e+16,  -2.19058673e+16,  -1.62022811e+16,\n",
       "        -1.92464815e+16,  -1.86671841e+16,  -2.39421521e+16,\n",
       "        -1.98445013e+16,  -1.61720397e+16,  -4.34853105e+16,\n",
       "        -1.94083793e+16,  -2.49798953e+16,  -1.67446722e+16,\n",
       "        -1.83145318e+16,  -2.00226759e+16,  -2.09597307e+16,\n",
       "        -1.75686704e+16,  -1.91165670e+16,  -1.72584049e+16,\n",
       "        -1.81081037e+16,  -2.54792154e+16,  -2.14720407e+16,\n",
       "        -1.88493971e+16,  -2.57161253e+16,  -1.96572657e+16,\n",
       "        -1.92318896e+16,  -1.48419883e+16,  -1.89507373e+16,\n",
       "        -2.01204873e+16,  -1.74407013e+16,  -1.71436120e+16,\n",
       "        -1.85601025e+16,  -1.75371843e+16,  -1.98162203e+16,\n",
       "        -2.18582749e+16,  -1.85109338e+16,  -2.46174411e+16,\n",
       "        -1.66947712e+16,  -2.45254391e+16,  -1.74115311e+16,\n",
       "        -1.94529556e+16,  -1.80103499e+16,  -2.17554757e+16,\n",
       "        -1.54015732e+16,  -2.03426378e+16,  -2.40338526e+16,\n",
       "        -1.89006169e+16,  -2.03087164e+16,  -2.22199182e+16,\n",
       "        -1.86655707e+16,  -2.53554389e+16,  -1.72161207e+16,\n",
       "        -2.25687853e+16,  -1.81848497e+16,  -1.77002987e+16,\n",
       "        -1.77977681e+16,  -1.81865792e+16,  -2.59996945e+16,\n",
       "        -1.78955704e+16,  -2.00997482e+16,  -1.88364926e+16,\n",
       "        -1.88117373e+16,  -1.28351327e+16,  -2.25872104e+16,\n",
       "        -1.53107640e+16,  -1.92476918e+16,  -1.67539351e+16,\n",
       "        -1.70561934e+16,  -1.95231816e+16,  -2.17742204e+16,\n",
       "        -2.29274014e+16,  -1.78762482e+16,  -2.55376705e+16,\n",
       "        -2.16115065e+16,  -1.64705251e+16,  -1.69023699e+16,\n",
       "        -2.28481842e+16,  -1.75767875e+16,  -1.83415844e+16,\n",
       "        -2.00567805e+16,  -1.94454002e+16,  -1.91548371e+16,\n",
       "        -1.92182634e+16,  -2.11315423e+16,  -1.93135846e+16,\n",
       "        -1.90778742e+16,  -2.17787991e+16,  -2.13089716e+16,\n",
       "        -1.91225137e+16,  -1.82673915e+16,  -1.90941996e+16,\n",
       "        -2.39353884e+16,  -1.83085280e+16,  -1.68313048e+16,\n",
       "        -1.98556721e+16,  -1.70399459e+16,  -1.79765436e+16,\n",
       "        -1.28705738e+16,  -1.96729528e+16,  -2.21778052e+16,\n",
       "        -1.59938322e+16,  -1.93166211e+16,  -2.04016271e+16,\n",
       "        -2.13341314e+16,  -1.98698662e+16,  -2.11550344e+16,\n",
       "        -1.84623627e+16,  -1.80431488e+16,  -2.03912875e+16,\n",
       "        -2.01931252e+16,  -2.01382687e+16,  -1.93714820e+16,\n",
       "        -2.07561070e+16,  -2.11390849e+16,  -1.87460745e+16,\n",
       "        -1.82411832e+16,  -2.23226846e+16,  -1.93576111e+16,\n",
       "        -1.98739602e+16,  -1.93389547e+16,  -2.32882700e+16,\n",
       "        -1.86007930e+16,  -1.51390823e+16,  -1.98142302e+16,\n",
       "        -2.38773531e+16,  -1.67951000e+16,  -1.99691341e+16,\n",
       "        -2.20196522e+16,  -1.75556403e+16,  -1.64877200e+16,\n",
       "        -1.89714261e+16,  -1.67944943e+16,  -1.34074559e+16,\n",
       "        -2.21901536e+16,  -2.02254408e+16,  -1.69805449e+16,\n",
       "        -1.75821105e+16,  -1.55302419e+16,  -2.09217810e+16,\n",
       "        -1.92665711e+16,  -1.69921439e+16,  -1.56578542e+16,\n",
       "        -2.18621595e+16,  -2.10149822e+16,  -2.30818966e+16,\n",
       "        -1.43322142e+16,  -2.22122493e+16,  -1.69738851e+16,\n",
       "        -2.03887850e+16,  -1.77627820e+16,  -1.49632349e+16,\n",
       "        -2.13422386e+16,  -1.90691502e+16,  -2.28122651e+16,\n",
       "        -1.51529534e+16,  -2.06517870e+16,  -1.41021944e+16,\n",
       "        -2.58242113e+16,  -2.05676779e+16,  -1.55288543e+16,\n",
       "        -1.92242226e+16,  -1.81897181e+16,  -1.93706517e+16,\n",
       "        -1.41219646e+16,  -1.81491564e+16,  -2.16491808e+16,\n",
       "        -2.07340512e+16,  -1.91909941e+16,  -1.90649136e+16,\n",
       "        -2.20189286e+16,  -1.78432036e+16,  -1.68025540e+16,\n",
       "        -1.41283450e+16,  -1.66072008e+16,  -3.52180032e+16,\n",
       "        -2.14991771e+16,  -1.75188575e+16,  -1.65260402e+16,\n",
       "        -1.68824801e+16,  -2.23870452e+16,  -2.47041371e+16,\n",
       "        -2.16122104e+16,  -4.53016956e+16,  -1.74214157e+16,\n",
       "        -2.15986883e+16,  -1.79195166e+16,  -1.70013964e+16,\n",
       "        -4.39937307e+16,  -1.46595346e+16,  -2.21770071e+16,\n",
       "        -2.15902591e+16,  -2.07128636e+16,  -1.58205613e+16,\n",
       "        -2.56590879e+16,  -2.03267724e+16,  -1.91087496e+16,\n",
       "        -1.77807342e+16,  -1.72971841e+16,  -1.82262701e+16])"
      ]
     },
     "execution_count": 52,
     "metadata": {},
     "output_type": "execute_result"
    }
   ],
   "source": [
    "train_predictions"
   ]
  },
  {
   "cell_type": "code",
   "execution_count": 53,
   "metadata": {},
   "outputs": [
    {
     "name": "stdout",
     "output_type": "stream",
     "text": [
      "Test RMSE: 1.994977987508119e+16\n"
     ]
    }
   ],
   "source": [
    "test_predictions = grid_search.best_estimator_.predict(X_test)\n",
    "print(\"Test RMSE: {}\".format(np.sqrt(mean_squared_error(y_test, test_predictions))))"
   ]
  },
  {
   "cell_type": "code",
   "execution_count": null,
   "metadata": {
    "collapsed": true
   },
   "outputs": [],
   "source": []
  },
  {
   "cell_type": "code",
   "execution_count": null,
   "metadata": {
    "collapsed": true
   },
   "outputs": [],
   "source": []
  }
 ],
 "metadata": {
  "kernelspec": {
   "display_name": "Python 3",
   "language": "python",
   "name": "python3"
  },
  "language_info": {
   "codemirror_mode": {
    "name": "ipython",
    "version": 3
   },
   "file_extension": ".py",
   "mimetype": "text/x-python",
   "name": "python",
   "nbconvert_exporter": "python",
   "pygments_lexer": "ipython3",
   "version": "3.6.4"
  }
 },
 "nbformat": 4,
 "nbformat_minor": 2
}
