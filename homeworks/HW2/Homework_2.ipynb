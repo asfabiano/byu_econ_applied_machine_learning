{
 "cells": [
  {
   "cell_type": "markdown",
   "metadata": {},
   "source": [
    "## Introduction to Modeling with Python\n",
    "\n",
    "Now that we have seen some examples of modeling and using Python for modeling, we wanted to give you a chance to try your hand!\n",
    "\n",
    "To that goal, we choose a well structured problem with plenty of resources online to help you along the way. That problem is predicting housing prices and is hosted on Kaggle:\n",
    "\n",
    "https://www.kaggle.com/c/house-prices-advanced-regression-techniques\n",
    "\n",
    "First, make sure you are signed up on Kaggle and then download the data:\n",
    "\n",
    "https://www.kaggle.com/c/house-prices-advanced-regression-techniques/data\n",
    "\n",
    "The data includes both testing and training sets as well as a sample submission file. \n",
    "\n",
    "Your goal is the predict the sales price for each house where root mean squared error is the evaluation metric. To get some ideas on where to start, feel free to check out Kaggle Kernels:\n",
    "\n",
    "https://www.kaggle.com/c/house-prices-advanced-regression-techniques/kernels\n",
    "\n",
    "And the discussion board:\n",
    "\n",
    "https://www.kaggle.com/c/house-prices-advanced-regression-techniques/discussion\n",
    "\n",
    "Again - the goal of this homework is to get you exposed to modeling with Python. Feel free to use online resources to help guide you, but we expect original thought as well. Our hope is by the end of this homework you will feel comfortable exploring data in Python and building models to make predictions. Also please submit your test results to Kaggle and let us know your ranking and score!\n",
    "\n",
    "\n",
    "### Grading\n",
    "\n",
    "This homework is due **Feb. 20, 2018 by 3:00pm Utah time.** By that time, you need to have committed all your code to your github and submitted a link to your work to the TA. We can see on your Github account when you last committed code. :)\n",
    "\n",
    "Rubric:\n",
    "\n",
    "* Code Quality - 10%\n",
    "* Storytelling - 10%\n",
    "* Result on Kaggle - 5%\n",
    "* Describing, Cleaning, and Visualizing data - 25%\n",
    "* Modeling - 50%\n",
    "\n",
    "More specifically, for modeling we will look for: \n",
    "\n",
    "* Model Selection: Did you try multiple models? Why did you choose these models? How do they work? What are they assumptions? And how did you test/account for them? How did you select hyper-parameters?\n",
    "* Model interpretation: What do the model results tell you? Which variables are important? High bias or variance and how did you / could you fix this? How confident are you in your results? \n",
    "* Model usefulness: Do you think your final model was useful? If so, how would you recommend using it? Convince us, that if we were a company, we would feel comfortable using your model with our users. Think about edge cases as well - are there certain areas that the model performs poorly on? Best on? How would you handle these cases, if say Zillow wanted to leverage your model realizing that bad recommendations on sale prices would hurt customer trust and your brand. This section also falls into the storytelling aspect of the grading."
   ]
  },
  {
   "cell_type": "code",
   "execution_count": 1,
   "metadata": {
    "collapsed": true
   },
   "outputs": [],
   "source": [
    "import pandas as pd\n",
    "import numpy as np\n",
    "from matplotlib import pyplot as plt\n",
    "from sklearn import linear_model\n",
    "from sklearn.model_selection import train_test_split, GridSearchCV\n",
    "from sklearn.metrics import mean_squared_error\n",
    "from sklearn.preprocessing import StandardScaler\n",
    "from sklearn.metrics import mean_squared_error, r2_score\n",
    "import seaborn as sns #plt.style.use(\"seaborn\")\n",
    "%matplotlib inline"
   ]
  },
  {
   "cell_type": "markdown",
   "metadata": {},
   "source": [
    "### Data Cleaning"
   ]
  },
  {
   "cell_type": "code",
   "execution_count": 2,
   "metadata": {
    "collapsed": true
   },
   "outputs": [],
   "source": [
    "test = pd.read_csv(\"test.csv\")\n",
    "train = pd.read_csv(\"train.csv\")\n",
    "all_data = pd.concat((test, train), ignore_index=True)"
   ]
  },
  {
   "cell_type": "code",
   "execution_count": 3,
   "metadata": {},
   "outputs": [
    {
     "data": {
      "text/plain": [
       "(2919, 81)"
      ]
     },
     "execution_count": 3,
     "metadata": {},
     "output_type": "execute_result"
    }
   ],
   "source": [
    "all_data.shape"
   ]
  },
  {
   "cell_type": "code",
   "execution_count": 4,
   "metadata": {},
   "outputs": [
    {
     "data": {
      "text/plain": [
       "(1460, 81)"
      ]
     },
     "execution_count": 4,
     "metadata": {},
     "output_type": "execute_result"
    }
   ],
   "source": [
    "train.shape"
   ]
  },
  {
   "cell_type": "code",
   "execution_count": 5,
   "metadata": {
    "scrolled": true
   },
   "outputs": [
    {
     "data": {
      "text/html": [
       "<div>\n",
       "<style>\n",
       "    .dataframe thead tr:only-child th {\n",
       "        text-align: right;\n",
       "    }\n",
       "\n",
       "    .dataframe thead th {\n",
       "        text-align: left;\n",
       "    }\n",
       "\n",
       "    .dataframe tbody tr th {\n",
       "        vertical-align: top;\n",
       "    }\n",
       "</style>\n",
       "<table border=\"1\" class=\"dataframe\">\n",
       "  <thead>\n",
       "    <tr style=\"text-align: right;\">\n",
       "      <th></th>\n",
       "      <th>1stFlrSF</th>\n",
       "      <th>2ndFlrSF</th>\n",
       "      <th>3SsnPorch</th>\n",
       "      <th>Alley</th>\n",
       "      <th>BedroomAbvGr</th>\n",
       "      <th>BldgType</th>\n",
       "      <th>BsmtCond</th>\n",
       "      <th>BsmtExposure</th>\n",
       "      <th>BsmtFinSF1</th>\n",
       "      <th>BsmtFinSF2</th>\n",
       "      <th>...</th>\n",
       "      <th>SaleType</th>\n",
       "      <th>ScreenPorch</th>\n",
       "      <th>Street</th>\n",
       "      <th>TotRmsAbvGrd</th>\n",
       "      <th>TotalBsmtSF</th>\n",
       "      <th>Utilities</th>\n",
       "      <th>WoodDeckSF</th>\n",
       "      <th>YearBuilt</th>\n",
       "      <th>YearRemodAdd</th>\n",
       "      <th>YrSold</th>\n",
       "    </tr>\n",
       "  </thead>\n",
       "  <tbody>\n",
       "    <tr>\n",
       "      <th>0</th>\n",
       "      <td>896</td>\n",
       "      <td>0</td>\n",
       "      <td>0</td>\n",
       "      <td>NaN</td>\n",
       "      <td>2</td>\n",
       "      <td>1Fam</td>\n",
       "      <td>TA</td>\n",
       "      <td>No</td>\n",
       "      <td>468.0</td>\n",
       "      <td>144.0</td>\n",
       "      <td>...</td>\n",
       "      <td>WD</td>\n",
       "      <td>120</td>\n",
       "      <td>Pave</td>\n",
       "      <td>5</td>\n",
       "      <td>882.0</td>\n",
       "      <td>AllPub</td>\n",
       "      <td>140</td>\n",
       "      <td>1961</td>\n",
       "      <td>1961</td>\n",
       "      <td>2010</td>\n",
       "    </tr>\n",
       "    <tr>\n",
       "      <th>1</th>\n",
       "      <td>1329</td>\n",
       "      <td>0</td>\n",
       "      <td>0</td>\n",
       "      <td>NaN</td>\n",
       "      <td>3</td>\n",
       "      <td>1Fam</td>\n",
       "      <td>TA</td>\n",
       "      <td>No</td>\n",
       "      <td>923.0</td>\n",
       "      <td>0.0</td>\n",
       "      <td>...</td>\n",
       "      <td>WD</td>\n",
       "      <td>0</td>\n",
       "      <td>Pave</td>\n",
       "      <td>6</td>\n",
       "      <td>1329.0</td>\n",
       "      <td>AllPub</td>\n",
       "      <td>393</td>\n",
       "      <td>1958</td>\n",
       "      <td>1958</td>\n",
       "      <td>2010</td>\n",
       "    </tr>\n",
       "    <tr>\n",
       "      <th>2</th>\n",
       "      <td>928</td>\n",
       "      <td>701</td>\n",
       "      <td>0</td>\n",
       "      <td>NaN</td>\n",
       "      <td>3</td>\n",
       "      <td>1Fam</td>\n",
       "      <td>TA</td>\n",
       "      <td>No</td>\n",
       "      <td>791.0</td>\n",
       "      <td>0.0</td>\n",
       "      <td>...</td>\n",
       "      <td>WD</td>\n",
       "      <td>0</td>\n",
       "      <td>Pave</td>\n",
       "      <td>6</td>\n",
       "      <td>928.0</td>\n",
       "      <td>AllPub</td>\n",
       "      <td>212</td>\n",
       "      <td>1997</td>\n",
       "      <td>1998</td>\n",
       "      <td>2010</td>\n",
       "    </tr>\n",
       "    <tr>\n",
       "      <th>3</th>\n",
       "      <td>926</td>\n",
       "      <td>678</td>\n",
       "      <td>0</td>\n",
       "      <td>NaN</td>\n",
       "      <td>3</td>\n",
       "      <td>1Fam</td>\n",
       "      <td>TA</td>\n",
       "      <td>No</td>\n",
       "      <td>602.0</td>\n",
       "      <td>0.0</td>\n",
       "      <td>...</td>\n",
       "      <td>WD</td>\n",
       "      <td>0</td>\n",
       "      <td>Pave</td>\n",
       "      <td>7</td>\n",
       "      <td>926.0</td>\n",
       "      <td>AllPub</td>\n",
       "      <td>360</td>\n",
       "      <td>1998</td>\n",
       "      <td>1998</td>\n",
       "      <td>2010</td>\n",
       "    </tr>\n",
       "    <tr>\n",
       "      <th>4</th>\n",
       "      <td>1280</td>\n",
       "      <td>0</td>\n",
       "      <td>0</td>\n",
       "      <td>NaN</td>\n",
       "      <td>2</td>\n",
       "      <td>TwnhsE</td>\n",
       "      <td>TA</td>\n",
       "      <td>No</td>\n",
       "      <td>263.0</td>\n",
       "      <td>0.0</td>\n",
       "      <td>...</td>\n",
       "      <td>WD</td>\n",
       "      <td>144</td>\n",
       "      <td>Pave</td>\n",
       "      <td>5</td>\n",
       "      <td>1280.0</td>\n",
       "      <td>AllPub</td>\n",
       "      <td>0</td>\n",
       "      <td>1992</td>\n",
       "      <td>1992</td>\n",
       "      <td>2010</td>\n",
       "    </tr>\n",
       "  </tbody>\n",
       "</table>\n",
       "<p>5 rows × 81 columns</p>\n",
       "</div>"
      ],
      "text/plain": [
       "   1stFlrSF  2ndFlrSF  3SsnPorch Alley  BedroomAbvGr BldgType BsmtCond  \\\n",
       "0       896         0          0   NaN             2     1Fam       TA   \n",
       "1      1329         0          0   NaN             3     1Fam       TA   \n",
       "2       928       701          0   NaN             3     1Fam       TA   \n",
       "3       926       678          0   NaN             3     1Fam       TA   \n",
       "4      1280         0          0   NaN             2   TwnhsE       TA   \n",
       "\n",
       "  BsmtExposure  BsmtFinSF1  BsmtFinSF2  ...   SaleType ScreenPorch  Street  \\\n",
       "0           No       468.0       144.0  ...         WD         120    Pave   \n",
       "1           No       923.0         0.0  ...         WD           0    Pave   \n",
       "2           No       791.0         0.0  ...         WD           0    Pave   \n",
       "3           No       602.0         0.0  ...         WD           0    Pave   \n",
       "4           No       263.0         0.0  ...         WD         144    Pave   \n",
       "\n",
       "   TotRmsAbvGrd TotalBsmtSF  Utilities WoodDeckSF YearBuilt YearRemodAdd  \\\n",
       "0             5       882.0     AllPub        140      1961         1961   \n",
       "1             6      1329.0     AllPub        393      1958         1958   \n",
       "2             6       928.0     AllPub        212      1997         1998   \n",
       "3             7       926.0     AllPub        360      1998         1998   \n",
       "4             5      1280.0     AllPub          0      1992         1992   \n",
       "\n",
       "  YrSold  \n",
       "0   2010  \n",
       "1   2010  \n",
       "2   2010  \n",
       "3   2010  \n",
       "4   2010  \n",
       "\n",
       "[5 rows x 81 columns]"
      ]
     },
     "execution_count": 5,
     "metadata": {},
     "output_type": "execute_result"
    }
   ],
   "source": [
    "all_data.head()"
   ]
  },
  {
   "cell_type": "markdown",
   "metadata": {},
   "source": [
    "**Drop Variables**\n",
    "\n",
    "After looping through the dataframe and printing out the normalized value counts of each column, I was able to identify which columns were worth keeping based on categorical distribution skewness. The columns with a category containing more than 60% of the data will be dropped."
   ]
  },
  {
   "cell_type": "code",
   "execution_count": 6,
   "metadata": {
    "collapsed": true
   },
   "outputs": [],
   "source": [
    "# dropped array stores skewed categorical columns to be dropped\n",
    "dropped = []\n",
    "keep = []\n",
    "for i in train:\n",
    "    if train[i].value_counts(normalize=True, dropna=False).iloc[0] > .6:\n",
    "            ###print(train[i].value_counts(normalize=True, dropna=False))\n",
    "            dropped.append(i)\n",
    "    else:\n",
    "            keep.append(i)"
   ]
  },
  {
   "cell_type": "code",
   "execution_count": 7,
   "metadata": {},
   "outputs": [
    {
     "data": {
      "text/plain": [
       "40"
      ]
     },
     "execution_count": 7,
     "metadata": {},
     "output_type": "execute_result"
    }
   ],
   "source": [
    "len(dropped)"
   ]
  },
  {
   "cell_type": "code",
   "execution_count": 8,
   "metadata": {},
   "outputs": [
    {
     "name": "stdout",
     "output_type": "stream",
     "text": [
      "Columns to drop: \n",
      "MSZoning, Street, Alley, LotShape, LandContour, Utilities, LotConfig, LandSlope, Condition1, Condition2, BldgType, RoofStyle, RoofMatl, ExterQual, ExterCond, BsmtCond, BsmtExposure, BsmtFinType2, BsmtFinSF2, Heating, CentralAir, Electrical, LowQualFinSF, BsmtHalfBath, HalfBath, KitchenAbvGr, Functional, GarageQual, GarageCond, PavedDrive, EnclosedPorch, 3SsnPorch, ScreenPorch, PoolArea, PoolQC, Fence, MiscFeature, MiscVal, SaleType, SaleCondition, "
     ]
    }
   ],
   "source": [
    "print(\"Columns to drop: \")\n",
    "for i in dropped:\n",
    "    print(i, sep='', end=', ', flush=True)"
   ]
  },
  {
   "cell_type": "code",
   "execution_count": 9,
   "metadata": {
    "collapsed": true
   },
   "outputs": [],
   "source": [
    "# drops variables that do not meet the 60% threshhold\n",
    "train.drop(dropped, axis=1, inplace=True)"
   ]
  },
  {
   "cell_type": "markdown",
   "metadata": {},
   "source": [
    "**Additional Columns to Drop**\n",
    "\n",
    "The following columns were dropped for reasons other than not meeting the categorical skewness threshold:\n",
    "- 'Exterior2nd': The variable Exterior1st provides a sufficient metric for type of home exterior material\n",
    "- 'GarageType': Since this variable has a lot of categories and there are many other descriptive \"garage\" variables, it does not make sense to keep\n",
    "- 'MSSubClass': Based on the normalized categorical distribution of this variable, it is nearly colinear with 'HouseStyle' + 'YearBuilt' and therefore provides no additional predictive power.\n",
    "- 'Neighborhood' is unlikely to be useful, since houses within the same neighborhood generally have similar qualities.\n",
    "- 'Id' is an arbitrary identifier and has no predictive power"
   ]
  },
  {
   "cell_type": "code",
   "execution_count": 10,
   "metadata": {
    "collapsed": true
   },
   "outputs": [],
   "source": [
    "# Drops other variables that do not add predictive power\n",
    "train.drop([\"Exterior2nd\", \"GarageType\", \"MSSubClass\", \"Neighborhood\", \"Id\"], axis=1, inplace=True)"
   ]
  },
  {
   "cell_type": "markdown",
   "metadata": {},
   "source": [
    "**Columns to transform:**\n",
    "- 'Exterior1st' get dummies for top 4 categories since they make up over 80% of the data\n",
    "- 'HouseStyle' get dummies for 1 story and 2 story houses\n",
    "- 'GarageFinish' encode as 1 for finished and 0 for unfinished\n",
    "- 'Foundation' get dummies for 'PConc' and 'CBlock' and consolidate the other variables to 'other' category since they make up +87% of the data.\n",
    "- 'MasVnrType' get dummies after consolidating 'brick' categories\n",
    "- 'BsmtQual', 'HeatingQC', 'KitchenQual', and 'Fireplace' change to numeric scale\n",
    "- 'BsmtFinType1' encode as a numeric quality scale"
   ]
  },
  {
   "cell_type": "code",
   "execution_count": 11,
   "metadata": {},
   "outputs": [
    {
     "name": "stdout",
     "output_type": "stream",
     "text": [
      "Columns to keep: \n",
      "Id, MSSubClass, LotFrontage, LotArea, Neighborhood, HouseStyle, OverallQual, OverallCond, YearBuilt, YearRemodAdd, Exterior1st, Exterior2nd, MasVnrType, MasVnrArea, Foundation, BsmtQual, BsmtFinType1, BsmtFinSF1, BsmtUnfSF, TotalBsmtSF, HeatingQC, 1stFlrSF, 2ndFlrSF, GrLivArea, BsmtFullBath, FullBath, BedroomAbvGr, KitchenQual, TotRmsAbvGrd, Fireplaces, FireplaceQu, GarageType, GarageYrBlt, GarageFinish, GarageCars, GarageArea, WoodDeckSF, OpenPorchSF, MoSold, YrSold, SalePrice, "
     ]
    }
   ],
   "source": [
    "### delete from final draft\n",
    "print(\"Columns to keep: \")\n",
    "for i in keep:\n",
    "    print(i, sep='', end=', ', flush=True)"
   ]
  },
  {
   "cell_type": "code",
   "execution_count": 12,
   "metadata": {
    "collapsed": true
   },
   "outputs": [],
   "source": [
    "### train.LotArea.value_counts(normalize=True, dropna=False)"
   ]
  },
  {
   "cell_type": "code",
   "execution_count": 13,
   "metadata": {
    "collapsed": true
   },
   "outputs": [],
   "source": [
    "# Reduces 'Exterior1st' column to just have 5 categories: 'VinylSd', 'HdBoard', 'MetalSd', 'Wd Sdng', and 'Other'\n",
    "train.Exterior1st = train.Exterior1st.apply(lambda x: x if str(x)[0]==\"V\" or str(x)[0]==\"H\" or str(x)[0]==\"M\" \n",
    "                                           or str(x)[0:5]==\"Wd Sd\" else \"Other\")\n",
    "# Creates dummies for new Exterior1st column\n",
    "train = pd.get_dummies(train, columns=[\"Exterior1st\"])"
   ]
  },
  {
   "cell_type": "code",
   "execution_count": 14,
   "metadata": {
    "collapsed": true
   },
   "outputs": [],
   "source": [
    "# Since 80% of the values are either 1 or 2 story houses, the other values are extraneous and uninformative\n",
    "# Hence, 'HouseStyle_1' essentially serves as an indicator for 1 story or more than 1 story (1.5, 2, 2.5, & split lvl)\n",
    "train[\"HouseStyle_1LvL\"] = np.where(train.HouseStyle.str.contains(\"1Story\"), 1, 0)\n",
    "train.drop(\"HouseStyle\", axis=1, inplace=True)"
   ]
  },
  {
   "cell_type": "code",
   "execution_count": 15,
   "metadata": {
    "collapsed": true
   },
   "outputs": [],
   "source": [
    "# Encodes 'GarageFinish' column to an indicator for houses with finished garages instead of categories\n",
    "train.GarageFinish = train.GarageFinish.apply(lambda x: 1 if str(x)[0:3] == \"Fin\" else 0)"
   ]
  },
  {
   "cell_type": "code",
   "execution_count": 16,
   "metadata": {
    "collapsed": true
   },
   "outputs": [],
   "source": [
    "# Consolidates 'BrkFace' and 'BrkCmn' into one 'Brick' category\n",
    "train.MasVnrType = train.MasVnrType.apply(lambda x: x if str(x)[0:3] != \"Brk\" else \"Brick\")\n",
    "\n",
    "# Creates dummy variables for 'MasVnrType'\n",
    "train = pd.get_dummies(train, columns=[\"MasVnrType\"])"
   ]
  },
  {
   "cell_type": "code",
   "execution_count": 17,
   "metadata": {
    "collapsed": true
   },
   "outputs": [],
   "source": [
    "# Reduces 'Foundation' column to just have 3 categories: 'PConc', 'CBrick', and 'Other'\n",
    "train.Foundation = train.Foundation.apply(lambda x: x if str(x)[0] == \"P\" or str(x)[0] == \"C\" else \"Other\")\n",
    "\n",
    "# Creates dummy variables for each Neighborhood\n",
    "train = pd.get_dummies(train, columns=[\"Foundation\"])"
   ]
  },
  {
   "cell_type": "code",
   "execution_count": 18,
   "metadata": {
    "collapsed": true
   },
   "outputs": [],
   "source": [
    "# Dictionary assigning numeric values to categorical columns with a \"poor\" to \"excellent\"\n",
    "num_assignments = {\"BsmtQual\": {\"Ex\":5, \"Gd\":4, \"TA\":3, \"Fa\":2, \"Po\":1, np.nan:0},\n",
    "                  \"HeatingQC\": {\"Ex\":4, \"Gd\":3, \"TA\":2, \"Fa\":1, \"Po\":0},\n",
    "                  \"KitchenQual\": {\"Ex\":4, \"Gd\":3, \"TA\":2, \"Fa\":1, \"Po\":0},\n",
    "                  \"FireplaceQu\": {\"Ex\":5, \"Gd\":4, \"TA\":3, \"Fa\":2, \"Po\":1, np.nan:0},\n",
    "                  \"BsmtFinType1\": {\"GLQ\":6, \"ALQ\":5, \"BLQ\":4, \"Rec\":3, \"LwQ\":2, \"Unf\":1, np.nan:0}}\n",
    "# Note: For 'BsmtQual', FireplaceQu', and 'BsmtFinType1' the null values are set to zero as their own category. \n",
    "        # This makes sense in context because the categories are measuring feature quality; Hence, if a feature is not\n",
    "        # reported it cannot be characterized.\n",
    "# Uses the 'num_assignments' dictionary to assign numeric values to the specified columns\n",
    "train.replace(num_assignments, inplace=True)"
   ]
  },
  {
   "cell_type": "code",
   "execution_count": 19,
   "metadata": {
    "collapsed": true
   },
   "outputs": [],
   "source": [
    "# creates variable measuring total square feet of the house\n",
    "train[\"TotalSqFt\"] = train.TotalBsmtSF + train.GrLivArea\n",
    "# TotalBsmtSF = Total square feet of basement area\n",
    "# GrLivArea = Total above grade (ground) living area square feet\n",
    "\n",
    "train.drop([\"TotalBsmtSF\", \"GrLivArea\"], axis=1, inplace=True)"
   ]
  },
  {
   "cell_type": "markdown",
   "metadata": {},
   "source": [
    "**Imputing Null Values**"
   ]
  },
  {
   "cell_type": "code",
   "execution_count": 20,
   "metadata": {},
   "outputs": [
    {
     "name": "stdout",
     "output_type": "stream",
     "text": [
      "LotFrontage 259\n",
      "MasVnrArea 8\n",
      "GarageYrBlt 81\n"
     ]
    }
   ],
   "source": [
    "Nulls = []\n",
    "# Prints sum of null values for columns containing nulls\n",
    "for i in train:\n",
    "    if train[i].isnull().sum()!=0:\n",
    "        print(i, train[i].isnull().sum())\n",
    "        Nulls.append(i)"
   ]
  },
  {
   "cell_type": "code",
   "execution_count": 21,
   "metadata": {
    "collapsed": true
   },
   "outputs": [],
   "source": [
    "# Fills the columns with null values (contained in the array \"Nulls\") with the column averages\n",
    "train = train.fillna(train[Nulls].mean()).round()"
   ]
  },
  {
   "cell_type": "markdown",
   "metadata": {},
   "source": [
    "For verification, we can check if any columns in train have null values. We should expect a value of zero."
   ]
  },
  {
   "cell_type": "code",
   "execution_count": 22,
   "metadata": {},
   "outputs": [
    {
     "data": {
      "text/plain": [
       "0"
      ]
     },
     "execution_count": 22,
     "metadata": {},
     "output_type": "execute_result"
    }
   ],
   "source": [
    "# Counts the number of columns with null values\n",
    "train.isnull().any().sum()"
   ]
  },
  {
   "cell_type": "code",
   "execution_count": 23,
   "metadata": {},
   "outputs": [
    {
     "name": "stdout",
     "output_type": "stream",
     "text": [
      "<class 'pandas.core.frame.DataFrame'>\n",
      "RangeIndex: 1460 entries, 0 to 1459\n",
      "Data columns (total 43 columns):\n",
      "LotFrontage            1460 non-null float64\n",
      "LotArea                1460 non-null int64\n",
      "OverallQual            1460 non-null int64\n",
      "OverallCond            1460 non-null int64\n",
      "YearBuilt              1460 non-null int64\n",
      "YearRemodAdd           1460 non-null int64\n",
      "MasVnrArea             1460 non-null float64\n",
      "BsmtQual               1460 non-null int64\n",
      "BsmtFinType1           1460 non-null int64\n",
      "BsmtFinSF1             1460 non-null int64\n",
      "BsmtUnfSF              1460 non-null int64\n",
      "HeatingQC              1460 non-null int64\n",
      "1stFlrSF               1460 non-null int64\n",
      "2ndFlrSF               1460 non-null int64\n",
      "BsmtFullBath           1460 non-null int64\n",
      "FullBath               1460 non-null int64\n",
      "BedroomAbvGr           1460 non-null int64\n",
      "KitchenQual            1460 non-null int64\n",
      "TotRmsAbvGrd           1460 non-null int64\n",
      "Fireplaces             1460 non-null int64\n",
      "FireplaceQu            1460 non-null int64\n",
      "GarageYrBlt            1460 non-null float64\n",
      "GarageFinish           1460 non-null int64\n",
      "GarageCars             1460 non-null int64\n",
      "GarageArea             1460 non-null int64\n",
      "WoodDeckSF             1460 non-null int64\n",
      "OpenPorchSF            1460 non-null int64\n",
      "MoSold                 1460 non-null int64\n",
      "YrSold                 1460 non-null int64\n",
      "SalePrice              1460 non-null int64\n",
      "Exterior1st_HdBoard    1460 non-null uint8\n",
      "Exterior1st_MetalSd    1460 non-null uint8\n",
      "Exterior1st_Other      1460 non-null uint8\n",
      "Exterior1st_VinylSd    1460 non-null uint8\n",
      "Exterior1st_Wd Sdng    1460 non-null uint8\n",
      "HouseStyle_1LvL        1460 non-null int64\n",
      "MasVnrType_Brick       1460 non-null uint8\n",
      "MasVnrType_None        1460 non-null uint8\n",
      "MasVnrType_Stone       1460 non-null uint8\n",
      "Foundation_CBlock      1460 non-null uint8\n",
      "Foundation_Other       1460 non-null uint8\n",
      "Foundation_PConc       1460 non-null uint8\n",
      "TotalSqFt              1460 non-null int64\n",
      "dtypes: float64(3), int64(29), uint8(11)\n",
      "memory usage: 380.8 KB\n"
     ]
    }
   ],
   "source": [
    "train.info()"
   ]
  },
  {
   "cell_type": "code",
   "execution_count": 24,
   "metadata": {},
   "outputs": [
    {
     "data": {
      "text/plain": [
       "count      1460.000000\n",
       "mean     180921.195890\n",
       "std       79442.502883\n",
       "min       34900.000000\n",
       "25%      129975.000000\n",
       "50%      163000.000000\n",
       "75%      214000.000000\n",
       "max      755000.000000\n",
       "Name: SalePrice, dtype: float64"
      ]
     },
     "execution_count": 24,
     "metadata": {},
     "output_type": "execute_result"
    }
   ],
   "source": [
    "train.SalePrice.describe()"
   ]
  },
  {
   "cell_type": "code",
   "execution_count": 25,
   "metadata": {},
   "outputs": [],
   "source": [
    "target = pd.qcut(train.SalePrice, 20)[1:-4]"
   ]
  },
  {
   "cell_type": "code",
   "execution_count": 26,
   "metadata": {},
   "outputs": [
    {
     "data": {
      "text/plain": [
       "1455"
      ]
     },
     "execution_count": 26,
     "metadata": {},
     "output_type": "execute_result"
    }
   ],
   "source": [
    "len(target)"
   ]
  },
  {
   "cell_type": "code",
   "execution_count": 27,
   "metadata": {},
   "outputs": [],
   "source": [
    "from scipy import stats\n",
    "train_NO = train[(np.abs(stats.zscore(train)) < 3).all(axis=1)]"
   ]
  },
  {
   "cell_type": "code",
   "execution_count": 28,
   "metadata": {},
   "outputs": [
    {
     "data": {
      "text/plain": [
       "1138"
      ]
     },
     "execution_count": 28,
     "metadata": {},
     "output_type": "execute_result"
    }
   ],
   "source": [
    "len(train_NO)"
   ]
  },
  {
   "cell_type": "markdown",
   "metadata": {},
   "source": [
    "### Data Visualization"
   ]
  },
  {
   "cell_type": "code",
   "execution_count": 29,
   "metadata": {},
   "outputs": [
    {
     "data": {
      "text/plain": [
       "<matplotlib.axes._subplots.AxesSubplot at 0x10960a860>"
      ]
     },
     "execution_count": 29,
     "metadata": {},
     "output_type": "execute_result"
    },
    {
     "data": {
      "image/png": "[encoded data removed]",
      "text/plain": [
       "<matplotlib.figure.Figure at 0x10960a470>"
      ]
     },
     "metadata": {},
     "output_type": "display_data"
    }
   ],
   "source": [
    "sns.distplot(train.SalePrice) #regularize\n",
    "\n",
    "### Linear Regression"
   ]
  },
  {
   "cell_type": "markdown",
   "metadata": {},
   "source": [
    "### Modeling"
   ]
  },
  {
   "cell_type": "markdown",
   "metadata": {},
   "source": [
    "**1.  Linear Regression**"
   ]
  },
  {
   "cell_type": "markdown",
   "metadata": {},
   "source": [
    "I begin my modeling with a standard linear regresssion. The data set still has a large number of features, so I do not expect it to be particularly accurate; however, it should serve as an adequate baseline upon which to improve."
   ]
  },
  {
   "cell_type": "code",
   "execution_count": 30,
   "metadata": {
    "collapsed": true
   },
   "outputs": [],
   "source": [
    "train_xs = train_NO.drop([\"SalePrice\"], axis = 1) # removes the dependent variable from the data set"
   ]
  },
  {
   "cell_type": "code",
   "execution_count": 31,
   "metadata": {},
   "outputs": [],
   "source": [
    "# Split the data into training and testing sets. \n",
    "X_train, X_test, y_train, y_test = train_test_split(train_xs, train_NO.SalePrice, test_size=0.33, random_state=42)"
   ]
  },
  {
   "cell_type": "code",
   "execution_count": 32,
   "metadata": {
    "collapsed": true
   },
   "outputs": [],
   "source": [
    "scaler = StandardScaler() # Initializes the StandardScaler function as 'scaler' \n",
    "scaler.fit(X_train) # Calculates means and standard deviations of data in order to fit a scaling function\n",
    "scaled_xtrain = scaler.transform(X_train) # Uses previous calculations to transform data into a scaled dataframe"
   ]
  },
  {
   "cell_type": "code",
   "execution_count": 33,
   "metadata": {
    "collapsed": true
   },
   "outputs": [],
   "source": [
    "# Initializes the 'LinearRegression' model from SKLearn.\n",
    "lin_reg = linear_model.LinearRegression()"
   ]
  },
  {
   "cell_type": "code",
   "execution_count": 34,
   "metadata": {},
   "outputs": [
    {
     "data": {
      "text/plain": [
       "LinearRegression(copy_X=True, fit_intercept=True, n_jobs=1, normalize=False)"
      ]
     },
     "execution_count": 34,
     "metadata": {},
     "output_type": "execute_result"
    }
   ],
   "source": [
    "# Trains the OLS model with the training subset data.\n",
    "lin_reg.fit(scaled_xtrain, y_train)"
   ]
  },
  {
   "cell_type": "code",
   "execution_count": 35,
   "metadata": {
    "collapsed": true
   },
   "outputs": [],
   "source": [
    "# Uses OLS model to predict 'SalePrice'\n",
    "y_predict_OLS = lin_reg.predict(scaler.transform(X_test)) # ??? Need to 'scaler.fit(X_test)' ???"
   ]
  },
  {
   "cell_type": "code",
   "execution_count": 36,
   "metadata": {},
   "outputs": [
    {
     "data": {
      "text/plain": [
       "array([  1.53464782e+03,   5.31181974e+03,   1.38605413e+04,\n",
       "         7.04648193e+03,   7.47110936e+03,   1.47521612e+03,\n",
       "         2.59927317e+03,   5.21048700e+03,   1.94915128e+03,\n",
       "         3.30046833e+03,  -3.52546370e+03,   1.36619804e+03,\n",
       "        -1.04417484e+03,   6.82200058e+03,   7.27238086e+02,\n",
       "        -5.75926259e+02,  -4.27170555e+03,   4.62359177e+03,\n",
       "         4.17806785e+03,   3.06318291e+03,   3.87967906e+02,\n",
       "        -4.46159083e+02,   7.27682188e+02,   4.31118301e+02,\n",
       "         4.31783625e+03,   1.38890452e+03,   5.13111662e+02,\n",
       "         1.39991248e+03,  -1.78033826e+03,   1.39902792e+16,\n",
       "         1.37813217e+16,   1.42315883e+16,   1.71269873e+16,\n",
       "         1.32019905e+16,   4.03075137e+03,   1.88789578e+03,\n",
       "         3.35130501e+03,  -6.69261646e+08,  -1.04414295e+16,\n",
       "        -6.84940543e+15,  -1.02892068e+16,   2.10659545e+04])"
      ]
     },
     "execution_count": 36,
     "metadata": {},
     "output_type": "execute_result"
    }
   ],
   "source": [
    "lin_reg.coef_ # Prints the coefficients of the linear regression model"
   ]
  },
  {
   "cell_type": "code",
   "execution_count": 37,
   "metadata": {},
   "outputs": [
    {
     "data": {
      "text/plain": [
       "20005.852543838151"
      ]
     },
     "execution_count": 37,
     "metadata": {},
     "output_type": "execute_result"
    }
   ],
   "source": [
    "np.sqrt(mean_squared_error(y_test, y_predict_OLS))"
   ]
  },
  {
   "cell_type": "code",
   "execution_count": 38,
   "metadata": {},
   "outputs": [
    {
     "data": {
      "text/plain": [
       "0.86433530065279573"
      ]
     },
     "execution_count": 38,
     "metadata": {},
     "output_type": "execute_result"
    }
   ],
   "source": [
    "r2_score(y_test, y_predict_OLS)"
   ]
  },
  {
   "cell_type": "markdown",
   "metadata": {},
   "source": [
    "The mean squared error is extremely large and the R-squared value is suspiciously high, which leads me to believe that the model overfit the data as a result of too many features. I will first trim down the number of features to see if that will improve the accuracy of my linear model."
   ]
  },
  {
   "cell_type": "markdown",
   "metadata": {},
   "source": [
    "**2.  Tuning the Linear Model with Lasso**"
   ]
  },
  {
   "cell_type": "markdown",
   "metadata": {},
   "source": [
    "With such a large number of parameters, it is necessary to determine which are the most informative. Using a Lasso model, also known as L1 regularization, I can identify the most important parameters to use in my models."
   ]
  },
  {
   "cell_type": "code",
   "execution_count": 39,
   "metadata": {},
   "outputs": [
    {
     "data": {
      "text/plain": [
       "Lasso(alpha=100, copy_X=True, fit_intercept=True, max_iter=1000,\n",
       "   normalize=False, positive=False, precompute=False, random_state=None,\n",
       "   selection='cyclic', tol=0.0001, warm_start=False)"
      ]
     },
     "execution_count": 39,
     "metadata": {},
     "output_type": "execute_result"
    }
   ],
   "source": [
    "lasso_lin_reg = linear_model.Lasso(alpha = 100)\n",
    "lasso_lin_reg.fit(scaled_xtrain, y_train)"
   ]
  },
  {
   "cell_type": "code",
   "execution_count": 40,
   "metadata": {},
   "outputs": [
    {
     "data": {
      "text/plain": [
       "0.88249324453707167"
      ]
     },
     "execution_count": 40,
     "metadata": {},
     "output_type": "execute_result"
    }
   ],
   "source": [
    "lasso_lin_reg.score(scaled_xtrain, y_train) # add description/interpretation"
   ]
  },
  {
   "cell_type": "code",
   "execution_count": 41,
   "metadata": {
    "collapsed": true
   },
   "outputs": [],
   "source": [
    "# Predicts 'SalePrice' using the x-test data set and lasso coefficients\n",
    "y_predict_lasso = lasso_lin_reg.predict(scaler.transform(X_test))"
   ]
  },
  {
   "cell_type": "code",
   "execution_count": 42,
   "metadata": {},
   "outputs": [
    {
     "data": {
      "text/plain": [
       "19881.276561003058"
      ]
     },
     "execution_count": 42,
     "metadata": {},
     "output_type": "execute_result"
    }
   ],
   "source": [
    "np.sqrt(mean_squared_error(y_test, y_predict_lasso))"
   ]
  },
  {
   "cell_type": "markdown",
   "metadata": {},
   "source": [
    "The Lasso model has a root mean squared error of about 36438, which is an improvement from 36523, the RMSE of the original OLS model. However, this is still far from an optimal solution."
   ]
  },
  {
   "cell_type": "code",
   "execution_count": 43,
   "metadata": {},
   "outputs": [
    {
     "data": {
      "text/plain": [
       "array([  1.43778929e+03,   5.29734514e+03,   1.39584503e+04,\n",
       "         6.88344645e+03,   6.68872556e+03,   1.38645245e+03,\n",
       "         2.22703332e+03,   5.18751268e+03,   1.82776524e+03,\n",
       "         3.60891221e+03,   3.20480965e+03,   1.32266398e+03,\n",
       "         0.00000000e+00,   7.08019207e+03,   7.51370905e+02,\n",
       "         2.05460567e+02,   3.96673208e+03,   4.68568917e+03,\n",
       "         3.67735426e+03,   2.86634594e+03,   5.96464554e+02,\n",
       "         0.00000000e+00,   6.15272586e+02,   5.45352001e+02,\n",
       "         4.13252698e+03,   1.33385067e+03,   4.91233809e+02,\n",
       "         1.28460122e+03,   1.68622798e+03,   1.48061596e+03,\n",
       "         1.68933369e+03,   0.00000000e+00,   1.87218153e+03,\n",
       "         1.66367125e+01,   3.54362007e+03,   0.00000000e+00,\n",
       "         1.05376189e+03,   0.00000000e+00,   7.55929263e+01,\n",
       "         0.00000000e+00,   2.35079558e+03,   1.99689134e+04])"
      ]
     },
     "execution_count": 43,
     "metadata": {},
     "output_type": "execute_result"
    }
   ],
   "source": [
    "np.abs(lasso_lin_reg.coef_)"
   ]
  },
  {
   "cell_type": "code",
   "execution_count": 44,
   "metadata": {},
   "outputs": [
    {
     "data": {
      "text/plain": [
       "array([ 19968.91340798,  13958.45032869,   7080.1920682 ,   6883.44644612,\n",
       "         6688.72556469,   5297.34514371,   5187.5126817 ,   4685.68916782,\n",
       "         4132.52698228,  -3966.73208089])"
      ]
     },
     "execution_count": 44,
     "metadata": {},
     "output_type": "execute_result"
    }
   ],
   "source": [
    "# Creates array of top 10 coefficients by absolute value\n",
    "lasso_lin_reg.coef_[np.abs(lasso_lin_reg.coef_).argsort()[::-1][:10]]"
   ]
  },
  {
   "cell_type": "code",
   "execution_count": 45,
   "metadata": {},
   "outputs": [
    {
     "data": {
      "text/plain": [
       "array([41,  2, 13,  3,  4,  1,  7, 17, 24, 16])"
      ]
     },
     "execution_count": 45,
     "metadata": {},
     "output_type": "execute_result"
    }
   ],
   "source": [
    "# Creates array of indices corresponding to the top 10 \n",
    "np.abs(lasso_lin_reg.coef_).argsort()[::-1][:10]"
   ]
  },
  {
   "cell_type": "code",
   "execution_count": 46,
   "metadata": {},
   "outputs": [
    {
     "data": {
      "text/plain": [
       "Index(['TotalSqFt', 'OverallQual', '2ndFlrSF', 'OverallCond', 'YearBuilt',\n",
       "       'LotArea', 'BsmtQual', 'KitchenQual', 'GarageArea', 'BedroomAbvGr'],\n",
       "      dtype='object')"
      ]
     },
     "execution_count": 46,
     "metadata": {},
     "output_type": "execute_result"
    }
   ],
   "source": [
    "top_10_Lcoefs = train_xs.columns[np.abs(lasso_lin_reg.coef_).argsort()[::-1][:10]]\n",
    "top_10_Lcoefs"
   ]
  },
  {
   "cell_type": "code",
   "execution_count": 47,
   "metadata": {},
   "outputs": [
    {
     "name": "stdout",
     "output_type": "stream",
     "text": [
      "TotalSqFt 1437.78929465\n",
      "OverallQual 5297.34514371\n",
      "2ndFlrSF 13958.4503287\n",
      "OverallCond 6883.44644612\n",
      "YearBuilt 6688.72556469\n",
      "LotArea 1386.45245361\n",
      "BsmtQual 2227.03332446\n",
      "KitchenQual 5187.5126817\n",
      "GarageArea 1827.76523948\n",
      "BedroomAbvGr 3608.91220696\n"
     ]
    }
   ],
   "source": [
    "for col, coef in zip(top_10_Lcoefs, np.abs(lasso_lin_reg.coef_)):\n",
    "    print(col, coef)"
   ]
  },
  {
   "cell_type": "markdown",
   "metadata": {},
   "source": [
    "The coefficients of the above features have the largest relative magnitude. I will make a new dataframe and re-run my linear model see if it improves accuracy."
   ]
  },
  {
   "cell_type": "code",
   "execution_count": 48,
   "metadata": {
    "collapsed": true
   },
   "outputs": [],
   "source": [
    "# Creates new dataframes using only the top 10 features extracted with the Lasso regression\n",
    "df_xtrain2 = pd.DataFrame(data=scaled_xtrain, columns=train_xs.columns)[top_10_Lcoefs]\n",
    "df_xtest2 = pd.DataFrame(data=scaler.transform(X_test), columns=train_xs.columns)[top_10_Lcoefs]"
   ]
  },
  {
   "cell_type": "code",
   "execution_count": 49,
   "metadata": {},
   "outputs": [
    {
     "data": {
      "text/html": [
       "<div>\n",
       "<style>\n",
       "    .dataframe thead tr:only-child th {\n",
       "        text-align: right;\n",
       "    }\n",
       "\n",
       "    .dataframe thead th {\n",
       "        text-align: left;\n",
       "    }\n",
       "\n",
       "    .dataframe tbody tr th {\n",
       "        vertical-align: top;\n",
       "    }\n",
       "</style>\n",
       "<table border=\"1\" class=\"dataframe\">\n",
       "  <thead>\n",
       "    <tr style=\"text-align: right;\">\n",
       "      <th></th>\n",
       "      <th>TotalSqFt</th>\n",
       "      <th>OverallQual</th>\n",
       "      <th>2ndFlrSF</th>\n",
       "      <th>OverallCond</th>\n",
       "      <th>YearBuilt</th>\n",
       "      <th>LotArea</th>\n",
       "      <th>BsmtQual</th>\n",
       "      <th>KitchenQual</th>\n",
       "      <th>GarageArea</th>\n",
       "      <th>BedroomAbvGr</th>\n",
       "    </tr>\n",
       "  </thead>\n",
       "  <tbody>\n",
       "    <tr>\n",
       "      <th>0</th>\n",
       "      <td>0.498579</td>\n",
       "      <td>0.086221</td>\n",
       "      <td>-0.782935</td>\n",
       "      <td>-0.578571</td>\n",
       "      <td>-0.235236</td>\n",
       "      <td>2.542637</td>\n",
       "      <td>-0.727819</td>\n",
       "      <td>-0.716766</td>\n",
       "      <td>2.308140</td>\n",
       "      <td>0.226934</td>\n",
       "    </tr>\n",
       "    <tr>\n",
       "      <th>1</th>\n",
       "      <td>1.121320</td>\n",
       "      <td>0.928531</td>\n",
       "      <td>1.447719</td>\n",
       "      <td>-0.578571</td>\n",
       "      <td>0.932067</td>\n",
       "      <td>0.120796</td>\n",
       "      <td>0.825676</td>\n",
       "      <td>-0.716766</td>\n",
       "      <td>0.069741</td>\n",
       "      <td>0.226934</td>\n",
       "    </tr>\n",
       "    <tr>\n",
       "      <th>2</th>\n",
       "      <td>0.390487</td>\n",
       "      <td>-2.440710</td>\n",
       "      <td>0.941667</td>\n",
       "      <td>-0.578571</td>\n",
       "      <td>-2.363846</td>\n",
       "      <td>0.300316</td>\n",
       "      <td>-2.281314</td>\n",
       "      <td>-0.716766</td>\n",
       "      <td>-0.112879</td>\n",
       "      <td>0.226934</td>\n",
       "    </tr>\n",
       "    <tr>\n",
       "      <th>3</th>\n",
       "      <td>-0.837249</td>\n",
       "      <td>0.086221</td>\n",
       "      <td>-0.782935</td>\n",
       "      <td>0.361453</td>\n",
       "      <td>0.245418</td>\n",
       "      <td>-1.168648</td>\n",
       "      <td>0.825676</td>\n",
       "      <td>-0.716766</td>\n",
       "      <td>-0.008525</td>\n",
       "      <td>-1.167613</td>\n",
       "    </tr>\n",
       "    <tr>\n",
       "      <th>4</th>\n",
       "      <td>0.895455</td>\n",
       "      <td>1.770842</td>\n",
       "      <td>-0.782935</td>\n",
       "      <td>-0.578571</td>\n",
       "      <td>0.554410</td>\n",
       "      <td>-0.679940</td>\n",
       "      <td>0.825676</td>\n",
       "      <td>0.948403</td>\n",
       "      <td>0.450634</td>\n",
       "      <td>-2.562161</td>\n",
       "    </tr>\n",
       "  </tbody>\n",
       "</table>\n",
       "</div>"
      ],
      "text/plain": [
       "   TotalSqFt  OverallQual  2ndFlrSF  OverallCond  YearBuilt   LotArea  \\\n",
       "0   0.498579     0.086221 -0.782935    -0.578571  -0.235236  2.542637   \n",
       "1   1.121320     0.928531  1.447719    -0.578571   0.932067  0.120796   \n",
       "2   0.390487    -2.440710  0.941667    -0.578571  -2.363846  0.300316   \n",
       "3  -0.837249     0.086221 -0.782935     0.361453   0.245418 -1.168648   \n",
       "4   0.895455     1.770842 -0.782935    -0.578571   0.554410 -0.679940   \n",
       "\n",
       "   BsmtQual  KitchenQual  GarageArea  BedroomAbvGr  \n",
       "0 -0.727819    -0.716766    2.308140      0.226934  \n",
       "1  0.825676    -0.716766    0.069741      0.226934  \n",
       "2 -2.281314    -0.716766   -0.112879      0.226934  \n",
       "3  0.825676    -0.716766   -0.008525     -1.167613  \n",
       "4  0.825676     0.948403    0.450634     -2.562161  "
      ]
     },
     "execution_count": 49,
     "metadata": {},
     "output_type": "execute_result"
    }
   ],
   "source": [
    "df_xtrain2.head()"
   ]
  },
  {
   "cell_type": "code",
   "execution_count": 50,
   "metadata": {},
   "outputs": [
    {
     "data": {
      "text/plain": [
       "LinearRegression(copy_X=True, fit_intercept=True, n_jobs=1, normalize=False)"
      ]
     },
     "execution_count": 50,
     "metadata": {},
     "output_type": "execute_result"
    }
   ],
   "source": [
    "lin_reg.fit(df_xtrain2, y_train)"
   ]
  },
  {
   "cell_type": "code",
   "execution_count": 51,
   "metadata": {
    "collapsed": true
   },
   "outputs": [],
   "source": [
    "y_predict_OLS2 = lin_reg.predict(df_xtest2)"
   ]
  },
  {
   "cell_type": "code",
   "execution_count": 52,
   "metadata": {},
   "outputs": [
    {
     "data": {
      "text/plain": [
       "20307.037328028455"
      ]
     },
     "execution_count": 52,
     "metadata": {},
     "output_type": "execute_result"
    }
   ],
   "source": [
    "np.sqrt(mean_squared_error(y_test, y_predict_OLS2))"
   ]
  },
  {
   "cell_type": "markdown",
   "metadata": {
    "collapsed": true
   },
   "source": [
    "While this linear regression does not improve the mean squared error of the original OLS regression, it achieves a relatively comparable RMSE with less than 25% of the features. This fact may indicate that this new model has a lower likelihood of overfitting. To verify that this model performs better out of sample, I will compare the training and testing RMSEs' of a model using both the original data and the new data frame (the 10 feature df derived from the lasso model). I expect that the model using fewer features will have training and test RMSEs that are closer together."
   ]
  },
  {
   "cell_type": "markdown",
   "metadata": {
    "collapsed": true
   },
   "source": [
    "**3.  GridSearchCV with L1, L2, and Elasticnet Specifications**"
   ]
  },
  {
   "cell_type": "markdown",
   "metadata": {},
   "source": [
    "The following model uses all of the features."
   ]
  },
  {
   "cell_type": "code",
   "execution_count": 53,
   "metadata": {},
   "outputs": [
    {
     "name": "stdout",
     "output_type": "stream",
     "text": [
      "Best Parameters: {'alpha': 0.5, 'eta0': 0.01, 'penalty': 'l1', 'tol': 0.0001}\n"
     ]
    }
   ],
   "source": [
    "param_grid = {\"penalty\": ['l2','l1','elasticnet'], 'alpha':[.01, .1, .5, 1, 10], \n",
    "              \"eta0\": [ .001, .003, .01, .03, .1, .3, 1, 3], \"tol\": [.001, .0001]}\n",
    "grid_search = GridSearchCV(linear_model.SGDRegressor(), param_grid, scoring='neg_mean_squared_error')\n",
    "\n",
    "grid_search.fit(scaled_xtrain, y_train)\n",
    "print(\"Best Parameters: {}\".format(grid_search.best_params_))"
   ]
  },
  {
   "cell_type": "code",
   "execution_count": 54,
   "metadata": {},
   "outputs": [
    {
     "name": "stdout",
     "output_type": "stream",
     "text": [
      "Train RMSE: 19814.138842960525\n",
      "Test RMSE: 20245.427826413306\n"
     ]
    }
   ],
   "source": [
    "# Calculates train and test predictions using best estimator found during the grid search\n",
    "y_predict_xtrain_all = grid_search.best_estimator_.predict(scaled_xtrain)\n",
    "print(\"Train RMSE: {}\".format(np.sqrt(mean_squared_error(y_train, y_predict_xtrain_all))))\n",
    "\n",
    "y_predict_xtest_all = grid_search.best_estimator_.predict(scaler.transform(X_test))\n",
    "print(\"Test RMSE: {}\".format(np.sqrt(mean_squared_error(y_test, y_predict_xtest_all))))"
   ]
  },
  {
   "cell_type": "markdown",
   "metadata": {},
   "source": [
    "The following model uses only the 10 features determined most important by the previous Lasso model."
   ]
  },
  {
   "cell_type": "code",
   "execution_count": 55,
   "metadata": {},
   "outputs": [
    {
     "name": "stdout",
     "output_type": "stream",
     "text": [
      "Best Parameters: {'alpha': 0.01, 'eta0': 0.03, 'penalty': 'elasticnet', 'tol': 0.0001}\n"
     ]
    }
   ],
   "source": [
    "param_grid = {\"penalty\": ['l2','l1','elasticnet'], 'alpha':[.01, .1, .5, 1, 10], \n",
    "              \"eta0\": [ .001, .003, .01, .03, .1, .3, 1, 3], \"tol\": [.001, .0001]}\n",
    "grid_search = GridSearchCV(linear_model.SGDRegressor(), param_grid, scoring='neg_mean_squared_error')\n",
    "\n",
    "grid_search.fit(df_xtrain2, y_train) # df_xtrain2, y_train\n",
    "print(\"Best Parameters: {}\".format(grid_search.best_params_))"
   ]
  },
  {
   "cell_type": "code",
   "execution_count": 56,
   "metadata": {},
   "outputs": [
    {
     "name": "stdout",
     "output_type": "stream",
     "text": [
      "Train RMSE: 21943.079986754765\n",
      "Test RMSE: 20018.772931476295\n"
     ]
    }
   ],
   "source": [
    "# Calculates train and test predictions using best estimator found during the grid search\n",
    "y_predict_xtrain_top10 = grid_search.best_estimator_.predict(df_xtrain2) # df_xtrain2\n",
    "print(\"Train RMSE: {}\".format(np.sqrt(mean_squared_error(y_train, y_predict_xtrain_top10))))\n",
    "\n",
    "y_predict_xtest_top10 = grid_search.best_estimator_.predict(df_xtest2) # df_xtest2 = RMSE 40,473.7\n",
    "print(\"Test RMSE: {}\".format(np.sqrt(mean_squared_error(y_test, y_predict_xtest_top10))))"
   ]
  },
  {
   "cell_type": "markdown",
   "metadata": {
    "collapsed": true
   },
   "source": [
    "As expected, the model using only 10 features performs significantly better out of sample than the model using all of the original features. This confirms my suspicion that the original model with all of the features overfit the training data. However, the RMSE is still quite awful, so I will move on to other models in hopes of improving predictive accuracy."
   ]
  },
  {
   "cell_type": "markdown",
   "metadata": {},
   "source": [
    "**4.  K-Nearest Neighbors**"
   ]
  },
  {
   "cell_type": "code",
   "execution_count": 57,
   "metadata": {
    "collapsed": true
   },
   "outputs": [],
   "source": [
    "from sklearn.neighbors import KNeighborsRegressor"
   ]
  },
  {
   "cell_type": "code",
   "execution_count": 58,
   "metadata": {
    "collapsed": true
   },
   "outputs": [],
   "source": [
    "kn_reg = KNeighborsRegressor()"
   ]
  },
  {
   "cell_type": "code",
   "execution_count": 64,
   "metadata": {},
   "outputs": [],
   "source": [
    "gridsearchkn  = GridSearchCV(kn_reg, {\"n_neighbors\": [1, 3, 5, 7, 9, 11, 13], \"weights\": ['uniform', 'distance'], \n",
    "                                'p': [1, 2, 3]}, scoring = 'neg_mean_squared_error')"
   ]
  },
  {
   "cell_type": "code",
   "execution_count": 65,
   "metadata": {},
   "outputs": [
    {
     "data": {
      "text/plain": [
       "GridSearchCV(cv=None, error_score='raise',\n",
       "       estimator=KNeighborsRegressor(algorithm='auto', leaf_size=30, metric='minkowski',\n",
       "          metric_params=None, n_jobs=1, n_neighbors=5, p=2,\n",
       "          weights='uniform'),\n",
       "       fit_params=None, iid=True, n_jobs=1,\n",
       "       param_grid={'n_neighbors': [1, 3, 5, 7, 9, 11, 13], 'weights': ['uniform', 'distance'], 'p': [1, 2, 3]},\n",
       "       pre_dispatch='2*n_jobs', refit=True, return_train_score='warn',\n",
       "       scoring='neg_mean_squared_error', verbose=0)"
      ]
     },
     "execution_count": 65,
     "metadata": {},
     "output_type": "execute_result"
    }
   ],
   "source": [
    "gridsearchkn.fit(df_xtrain2, y_train) # df_xtrain2 # scaled_xtrain"
   ]
  },
  {
   "cell_type": "code",
   "execution_count": 66,
   "metadata": {},
   "outputs": [
    {
     "name": "stdout",
     "output_type": "stream",
     "text": [
      "Best Parameters: {'n_neighbors': 7, 'p': 1, 'weights': 'distance'}\n"
     ]
    }
   ],
   "source": [
    "print(\"Best Parameters: {}\".format(gridsearchkn.best_params_))"
   ]
  },
  {
   "cell_type": "code",
   "execution_count": 67,
   "metadata": {},
   "outputs": [
    {
     "name": "stdout",
     "output_type": "stream",
     "text": [
      "Train RMSE: 322.3247792864865\n",
      "Test RMSE: 21980.970548890855\n"
     ]
    }
   ],
   "source": [
    "y_predictKN_xtrain = gridsearchkn.best_estimator_.predict(df_xtrain2) # df_xtrain2 # scaled_xtrain\n",
    "print(\"Train RMSE: {}\".format(np.sqrt(mean_squared_error(y_train,y_predictKN_xtrain))))\n",
    "y_predictKN_xtest = gridsearchkn.best_estimator_.predict(df_xtest2) # df_xtest2 # scaler.transform(X_test)\n",
    "print(\"Test RMSE: {}\".format(np.sqrt(mean_squared_error(y_test, y_predictKN_xtest))))"
   ]
  },
  {
   "cell_type": "markdown",
   "metadata": {},
   "source": [
    "The K-Nearest Neighbors Regressor gives the best root mean squared error thus far, but that is not saying much given the still very high RMSE of 36,340."
   ]
  },
  {
   "cell_type": "code",
   "execution_count": null,
   "metadata": {
    "collapsed": true
   },
   "outputs": [],
   "source": []
  }
 ],
 "metadata": {
  "kernelspec": {
   "display_name": "Python 3",
   "language": "python",
   "name": "python3"
  },
  "language_info": {
   "codemirror_mode": {
    "name": "ipython",
    "version": 3
   },
   "file_extension": ".py",
   "mimetype": "text/x-python",
   "name": "python",
   "nbconvert_exporter": "python",
   "pygments_lexer": "ipython3",
   "version": "3.6.4"
  }
 },
 "nbformat": 4,
 "nbformat_minor": 2
}
