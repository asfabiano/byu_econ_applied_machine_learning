{
 "cells": [
  {
   "cell_type": "markdown",
   "metadata": {},
   "source": [
    "## Introduction to Modeling with Python\n",
    "\n",
    "Now that we have seen some examples of modeling and using Python for modeling, we wanted to give you a chance to try your hand!\n",
    "\n",
    "To that goal, we choose a well structured problem with plenty of resources online to help you along the way. That problem is predicting housing prices and is hosted on Kaggle:\n",
    "\n",
    "https://www.kaggle.com/c/house-prices-advanced-regression-techniques\n",
    "\n",
    "First, make sure you are signed up on Kaggle and then download the data:\n",
    "\n",
    "https://www.kaggle.com/c/house-prices-advanced-regression-techniques/data\n",
    "\n",
    "The data includes both testing and training sets as well as a sample submission file. \n",
    "\n",
    "Your goal is the predict the sales price for each house where root mean squared error is the evaluation metric. To get some ideas on where to start, feel free to check out Kaggle Kernels:\n",
    "\n",
    "https://www.kaggle.com/c/house-prices-advanced-regression-techniques/kernels\n",
    "\n",
    "And the discussion board:\n",
    "\n",
    "https://www.kaggle.com/c/house-prices-advanced-regression-techniques/discussion\n",
    "\n",
    "Again - the goal of this homework is to get you exposed to modeling with Python. Feel free to use online resources to help guide you, but we expect original thought as well. Our hope is by the end of this homework you will feel comfortable exploring data in Python and building models to make predictions. Also please submit your test results to Kaggle and let us know your ranking and score!\n",
    "\n",
    "\n",
    "### Grading\n",
    "\n",
    "This homework is due **Feb. 20, 2018 by 3:00pm Utah time.** By that time, you need to have committed all your code to your github and submitted a link to your work to the TA. We can see on your Github account when you last committed code. :)\n",
    "\n",
    "Rubric:\n",
    "\n",
    "* Code Quality - 10%\n",
    "* Storytelling - 10%\n",
    "* Result on Kaggle - 5%\n",
    "* Describing, Cleaning, and Visualizing data - 25%\n",
    "* Modeling - 50%\n",
    "\n",
    "More specifically, for modeling we will look for: \n",
    "\n",
    "* Model Selection: Did you try multiple models? Why did you choose these models? How do they work? What are they assumptions? And how did you test/account for them? How did you select hyper-parameters?\n",
    "* Model interpretation: What do the model results tell you? Which variables are important? High bias or variance and how did you / could you fix this? How confident are you in your results? \n",
    "* Model usefulness: Do you think your final model was useful? If so, how would you recommend using it? Convince us, that if we were a company, we would feel comfortable using your model with our users. Think about edge cases as well - are there certain areas that the model performs poorly on? Best on? How would you handle these cases, if say Zillow wanted to leverage your model realizing that bad recommendations on sale prices would hurt customer trust and your brand. This section also falls into the storytelling aspect of the grading."
   ]
  },
  {
   "cell_type": "code",
   "execution_count": 1,
   "metadata": {
    "collapsed": true
   },
   "outputs": [],
   "source": [
    "import pandas as pd\n",
    "import numpy as np\n",
    "from matplotlib import pyplot as plt\n",
    "from sklearn import linear_model\n",
    "from sklearn.model_selection import train_test_split\n",
    "from sklearn.metrics import mean_squared_error\n",
    "from sklearn.preprocessing import StandardScaler\n",
    "from sklearn.metrics import mean_squared_error, r2_score\n",
    "import seaborn as sns #plt.style.use(\"seaborn\")\n",
    "%matplotlib inline"
   ]
  },
  {
   "cell_type": "markdown",
   "metadata": {},
   "source": [
    "### Data Cleaning"
   ]
  },
  {
   "cell_type": "code",
   "execution_count": 73,
   "metadata": {
    "collapsed": true
   },
   "outputs": [],
   "source": [
    "test = pd.read_csv(\"test.csv\")\n",
    "train = pd.read_csv(\"train.csv\")\n",
    "all_data = pd.concat((test, train), ignore_index=True)"
   ]
  },
  {
   "cell_type": "code",
   "execution_count": 3,
   "metadata": {},
   "outputs": [
    {
     "data": {
      "text/plain": [
       "(2919, 81)"
      ]
     },
     "execution_count": 3,
     "metadata": {},
     "output_type": "execute_result"
    }
   ],
   "source": [
    "all_data.shape"
   ]
  },
  {
   "cell_type": "code",
   "execution_count": 4,
   "metadata": {},
   "outputs": [
    {
     "data": {
      "text/plain": [
       "(1460, 81)"
      ]
     },
     "execution_count": 4,
     "metadata": {},
     "output_type": "execute_result"
    }
   ],
   "source": [
    "train.shape"
   ]
  },
  {
   "cell_type": "code",
   "execution_count": 5,
   "metadata": {
    "scrolled": true
   },
   "outputs": [
    {
     "data": {
      "text/html": [
       "<div>\n",
       "<style>\n",
       "    .dataframe thead tr:only-child th {\n",
       "        text-align: right;\n",
       "    }\n",
       "\n",
       "    .dataframe thead th {\n",
       "        text-align: left;\n",
       "    }\n",
       "\n",
       "    .dataframe tbody tr th {\n",
       "        vertical-align: top;\n",
       "    }\n",
       "</style>\n",
       "<table border=\"1\" class=\"dataframe\">\n",
       "  <thead>\n",
       "    <tr style=\"text-align: right;\">\n",
       "      <th></th>\n",
       "      <th>1stFlrSF</th>\n",
       "      <th>2ndFlrSF</th>\n",
       "      <th>3SsnPorch</th>\n",
       "      <th>Alley</th>\n",
       "      <th>BedroomAbvGr</th>\n",
       "      <th>BldgType</th>\n",
       "      <th>BsmtCond</th>\n",
       "      <th>BsmtExposure</th>\n",
       "      <th>BsmtFinSF1</th>\n",
       "      <th>BsmtFinSF2</th>\n",
       "      <th>...</th>\n",
       "      <th>SaleType</th>\n",
       "      <th>ScreenPorch</th>\n",
       "      <th>Street</th>\n",
       "      <th>TotRmsAbvGrd</th>\n",
       "      <th>TotalBsmtSF</th>\n",
       "      <th>Utilities</th>\n",
       "      <th>WoodDeckSF</th>\n",
       "      <th>YearBuilt</th>\n",
       "      <th>YearRemodAdd</th>\n",
       "      <th>YrSold</th>\n",
       "    </tr>\n",
       "  </thead>\n",
       "  <tbody>\n",
       "    <tr>\n",
       "      <th>0</th>\n",
       "      <td>896</td>\n",
       "      <td>0</td>\n",
       "      <td>0</td>\n",
       "      <td>NaN</td>\n",
       "      <td>2</td>\n",
       "      <td>1Fam</td>\n",
       "      <td>TA</td>\n",
       "      <td>No</td>\n",
       "      <td>468.0</td>\n",
       "      <td>144.0</td>\n",
       "      <td>...</td>\n",
       "      <td>WD</td>\n",
       "      <td>120</td>\n",
       "      <td>Pave</td>\n",
       "      <td>5</td>\n",
       "      <td>882.0</td>\n",
       "      <td>AllPub</td>\n",
       "      <td>140</td>\n",
       "      <td>1961</td>\n",
       "      <td>1961</td>\n",
       "      <td>2010</td>\n",
       "    </tr>\n",
       "    <tr>\n",
       "      <th>1</th>\n",
       "      <td>1329</td>\n",
       "      <td>0</td>\n",
       "      <td>0</td>\n",
       "      <td>NaN</td>\n",
       "      <td>3</td>\n",
       "      <td>1Fam</td>\n",
       "      <td>TA</td>\n",
       "      <td>No</td>\n",
       "      <td>923.0</td>\n",
       "      <td>0.0</td>\n",
       "      <td>...</td>\n",
       "      <td>WD</td>\n",
       "      <td>0</td>\n",
       "      <td>Pave</td>\n",
       "      <td>6</td>\n",
       "      <td>1329.0</td>\n",
       "      <td>AllPub</td>\n",
       "      <td>393</td>\n",
       "      <td>1958</td>\n",
       "      <td>1958</td>\n",
       "      <td>2010</td>\n",
       "    </tr>\n",
       "    <tr>\n",
       "      <th>2</th>\n",
       "      <td>928</td>\n",
       "      <td>701</td>\n",
       "      <td>0</td>\n",
       "      <td>NaN</td>\n",
       "      <td>3</td>\n",
       "      <td>1Fam</td>\n",
       "      <td>TA</td>\n",
       "      <td>No</td>\n",
       "      <td>791.0</td>\n",
       "      <td>0.0</td>\n",
       "      <td>...</td>\n",
       "      <td>WD</td>\n",
       "      <td>0</td>\n",
       "      <td>Pave</td>\n",
       "      <td>6</td>\n",
       "      <td>928.0</td>\n",
       "      <td>AllPub</td>\n",
       "      <td>212</td>\n",
       "      <td>1997</td>\n",
       "      <td>1998</td>\n",
       "      <td>2010</td>\n",
       "    </tr>\n",
       "    <tr>\n",
       "      <th>3</th>\n",
       "      <td>926</td>\n",
       "      <td>678</td>\n",
       "      <td>0</td>\n",
       "      <td>NaN</td>\n",
       "      <td>3</td>\n",
       "      <td>1Fam</td>\n",
       "      <td>TA</td>\n",
       "      <td>No</td>\n",
       "      <td>602.0</td>\n",
       "      <td>0.0</td>\n",
       "      <td>...</td>\n",
       "      <td>WD</td>\n",
       "      <td>0</td>\n",
       "      <td>Pave</td>\n",
       "      <td>7</td>\n",
       "      <td>926.0</td>\n",
       "      <td>AllPub</td>\n",
       "      <td>360</td>\n",
       "      <td>1998</td>\n",
       "      <td>1998</td>\n",
       "      <td>2010</td>\n",
       "    </tr>\n",
       "    <tr>\n",
       "      <th>4</th>\n",
       "      <td>1280</td>\n",
       "      <td>0</td>\n",
       "      <td>0</td>\n",
       "      <td>NaN</td>\n",
       "      <td>2</td>\n",
       "      <td>TwnhsE</td>\n",
       "      <td>TA</td>\n",
       "      <td>No</td>\n",
       "      <td>263.0</td>\n",
       "      <td>0.0</td>\n",
       "      <td>...</td>\n",
       "      <td>WD</td>\n",
       "      <td>144</td>\n",
       "      <td>Pave</td>\n",
       "      <td>5</td>\n",
       "      <td>1280.0</td>\n",
       "      <td>AllPub</td>\n",
       "      <td>0</td>\n",
       "      <td>1992</td>\n",
       "      <td>1992</td>\n",
       "      <td>2010</td>\n",
       "    </tr>\n",
       "  </tbody>\n",
       "</table>\n",
       "<p>5 rows × 81 columns</p>\n",
       "</div>"
      ],
      "text/plain": [
       "   1stFlrSF  2ndFlrSF  3SsnPorch Alley  BedroomAbvGr BldgType BsmtCond  \\\n",
       "0       896         0          0   NaN             2     1Fam       TA   \n",
       "1      1329         0          0   NaN             3     1Fam       TA   \n",
       "2       928       701          0   NaN             3     1Fam       TA   \n",
       "3       926       678          0   NaN             3     1Fam       TA   \n",
       "4      1280         0          0   NaN             2   TwnhsE       TA   \n",
       "\n",
       "  BsmtExposure  BsmtFinSF1  BsmtFinSF2  ...   SaleType ScreenPorch  Street  \\\n",
       "0           No       468.0       144.0  ...         WD         120    Pave   \n",
       "1           No       923.0         0.0  ...         WD           0    Pave   \n",
       "2           No       791.0         0.0  ...         WD           0    Pave   \n",
       "3           No       602.0         0.0  ...         WD           0    Pave   \n",
       "4           No       263.0         0.0  ...         WD         144    Pave   \n",
       "\n",
       "   TotRmsAbvGrd TotalBsmtSF  Utilities WoodDeckSF YearBuilt YearRemodAdd  \\\n",
       "0             5       882.0     AllPub        140      1961         1961   \n",
       "1             6      1329.0     AllPub        393      1958         1958   \n",
       "2             6       928.0     AllPub        212      1997         1998   \n",
       "3             7       926.0     AllPub        360      1998         1998   \n",
       "4             5      1280.0     AllPub          0      1992         1992   \n",
       "\n",
       "  YrSold  \n",
       "0   2010  \n",
       "1   2010  \n",
       "2   2010  \n",
       "3   2010  \n",
       "4   2010  \n",
       "\n",
       "[5 rows x 81 columns]"
      ]
     },
     "execution_count": 5,
     "metadata": {},
     "output_type": "execute_result"
    }
   ],
   "source": [
    "all_data.head()"
   ]
  },
  {
   "cell_type": "code",
   "execution_count": 70,
   "metadata": {
    "collapsed": true
   },
   "outputs": [],
   "source": [
    "train.dropna(thresh=int(len(train)*.5), axis=1, inplace=True) #drops columns with more than 50% NANs"
   ]
  },
  {
   "cell_type": "markdown",
   "metadata": {},
   "source": []
  },
  {
   "cell_type": "markdown",
   "metadata": {},
   "source": [
    "**Drop Variables**\n",
    "\n",
    "After looping through the dataframe and printing out the normalized value counts of the object columns, I was able to identify which columns were worth keeping based on categorical distribution skewness. The columns with a category containing more than 60% of the data are will be dropped."
   ]
  },
  {
   "cell_type": "code",
   "execution_count": 52,
   "metadata": {},
   "outputs": [
    {
     "name": "stdout",
     "output_type": "stream",
     "text": [
      "RL         0.788356\n",
      "RM         0.149315\n",
      "FV         0.044521\n",
      "RH         0.010959\n",
      "C (all)    0.006849\n",
      "Name: MSZoning, dtype: float64\n",
      "Pave    0.99589\n",
      "Grvl    0.00411\n",
      "Name: Street, dtype: float64\n",
      "NaN     0.937671\n",
      "Grvl    0.034247\n",
      "Pave    0.028082\n",
      "Name: Alley, dtype: float64\n",
      "Reg    0.633562\n",
      "IR1    0.331507\n",
      "IR2    0.028082\n",
      "IR3    0.006849\n",
      "Name: LotShape, dtype: float64\n",
      "Lvl    0.897945\n",
      "Bnk    0.043151\n",
      "HLS    0.034247\n",
      "Low    0.024658\n",
      "Name: LandContour, dtype: float64\n",
      "AllPub    0.999315\n",
      "NoSeWa    0.000685\n",
      "Name: Utilities, dtype: float64\n",
      "Inside     0.720548\n",
      "Corner     0.180137\n",
      "CulDSac    0.064384\n",
      "FR2        0.032192\n",
      "FR3        0.002740\n",
      "Name: LotConfig, dtype: float64\n",
      "Gtl    0.946575\n",
      "Mod    0.044521\n",
      "Sev    0.008904\n",
      "Name: LandSlope, dtype: float64\n",
      "Norm      0.863014\n",
      "Feedr     0.055479\n",
      "Artery    0.032877\n",
      "RRAn      0.017808\n",
      "PosN      0.013014\n",
      "RRAe      0.007534\n",
      "PosA      0.005479\n",
      "RRNn      0.003425\n",
      "RRNe      0.001370\n",
      "Name: Condition1, dtype: float64\n",
      "Norm      0.989726\n",
      "Feedr     0.004110\n",
      "RRNn      0.001370\n",
      "PosN      0.001370\n",
      "Artery    0.001370\n",
      "RRAe      0.000685\n",
      "PosA      0.000685\n",
      "RRAn      0.000685\n",
      "Name: Condition2, dtype: float64\n",
      "1Fam      0.835616\n",
      "TwnhsE    0.078082\n",
      "Duplex    0.035616\n",
      "Twnhs     0.029452\n",
      "2fmCon    0.021233\n",
      "Name: BldgType, dtype: float64\n",
      "Gable      0.781507\n",
      "Hip        0.195890\n",
      "Flat       0.008904\n",
      "Gambrel    0.007534\n",
      "Mansard    0.004795\n",
      "Shed       0.001370\n",
      "Name: RoofStyle, dtype: float64\n",
      "CompShg    0.982192\n",
      "Tar&Grv    0.007534\n",
      "WdShngl    0.004110\n",
      "WdShake    0.003425\n",
      "ClyTile    0.000685\n",
      "Roll       0.000685\n",
      "Membran    0.000685\n",
      "Metal      0.000685\n",
      "Name: RoofMatl, dtype: float64\n",
      "TA    0.620548\n",
      "Gd    0.334247\n",
      "Ex    0.035616\n",
      "Fa    0.009589\n",
      "Name: ExterQual, dtype: float64\n",
      "TA    0.878082\n",
      "Gd    0.100000\n",
      "Fa    0.019178\n",
      "Ex    0.002055\n",
      "Po    0.000685\n",
      "Name: ExterCond, dtype: float64\n",
      "TA     0.897945\n",
      "Gd     0.044521\n",
      "Fa     0.030822\n",
      "NaN    0.025342\n",
      "Po     0.001370\n",
      "Name: BsmtCond, dtype: float64\n",
      "No     0.652740\n",
      "Av     0.151370\n",
      "Gd     0.091781\n",
      "Mn     0.078082\n",
      "NaN    0.026027\n",
      "Name: BsmtExposure, dtype: float64\n",
      "Unf    0.860274\n",
      "Rec    0.036986\n",
      "LwQ    0.031507\n",
      "NaN    0.026027\n",
      "BLQ    0.022603\n",
      "ALQ    0.013014\n",
      "GLQ    0.009589\n",
      "Name: BsmtFinType2, dtype: float64\n",
      "GasA     0.978082\n",
      "GasW     0.012329\n",
      "Grav     0.004795\n",
      "Wall     0.002740\n",
      "OthW     0.001370\n",
      "Floor    0.000685\n",
      "Name: Heating, dtype: float64\n",
      "Y    0.934932\n",
      "N    0.065068\n",
      "Name: CentralAir, dtype: float64\n",
      "SBrkr    0.913699\n",
      "FuseA    0.064384\n",
      "FuseF    0.018493\n",
      "FuseP    0.002055\n",
      "Mix      0.000685\n",
      "NaN      0.000685\n",
      "Name: Electrical, dtype: float64\n",
      "Typ     0.931507\n",
      "Min2    0.023288\n",
      "Min1    0.021233\n",
      "Mod     0.010274\n",
      "Maj1    0.009589\n",
      "Maj2    0.003425\n",
      "Sev     0.000685\n",
      "Name: Functional, dtype: float64\n",
      "TA     0.897945\n",
      "NaN    0.055479\n",
      "Fa     0.032877\n",
      "Gd     0.009589\n",
      "Po     0.002055\n",
      "Ex     0.002055\n",
      "Name: GarageQual, dtype: float64\n",
      "TA     0.908219\n",
      "NaN    0.055479\n",
      "Fa     0.023973\n",
      "Gd     0.006164\n",
      "Po     0.004795\n",
      "Ex     0.001370\n",
      "Name: GarageCond, dtype: float64\n",
      "Y    0.917808\n",
      "N    0.061644\n",
      "P    0.020548\n",
      "Name: PavedDrive, dtype: float64\n",
      "NaN    0.995205\n",
      "Gd     0.002055\n",
      "Fa     0.001370\n",
      "Ex     0.001370\n",
      "Name: PoolQC, dtype: float64\n",
      "NaN      0.807534\n",
      "MnPrv    0.107534\n",
      "GdPrv    0.040411\n",
      "GdWo     0.036986\n",
      "MnWw     0.007534\n",
      "Name: Fence, dtype: float64\n",
      "NaN     0.963014\n",
      "Shed    0.033562\n",
      "Gar2    0.001370\n",
      "Othr    0.001370\n",
      "TenC    0.000685\n",
      "Name: MiscFeature, dtype: float64\n",
      "WD       0.867808\n",
      "New      0.083562\n",
      "COD      0.029452\n",
      "ConLD    0.006164\n",
      "ConLI    0.003425\n",
      "ConLw    0.003425\n",
      "CWD      0.002740\n",
      "Oth      0.002055\n",
      "Con      0.001370\n",
      "Name: SaleType, dtype: float64\n",
      "Normal     0.820548\n",
      "Partial    0.085616\n",
      "Abnorml    0.069178\n",
      "Family     0.013699\n",
      "Alloca     0.008219\n",
      "AdjLand    0.002740\n",
      "Name: SaleCondition, dtype: float64\n"
     ]
    }
   ],
   "source": [
    "# dropped array stores skewed categorical columns to be dropped\n",
    "dropped = []\n",
    "keep = []\n",
    "for i in train:\n",
    "    if train[i].dtype == 'object':\n",
    "        if train[i].value_counts(normalize=True, dropna=False).iloc[0] > .6:\n",
    "            print(train[i].value_counts(normalize=True, dropna=False))\n",
    "            dropped.append(i)\n",
    "        else:\n",
    "            keep.append(i)"
   ]
  },
  {
   "cell_type": "code",
   "execution_count": null,
   "metadata": {},
   "outputs": [],
   "source": []
  },
  {
   "cell_type": "code",
   "execution_count": 21,
   "metadata": {},
   "outputs": [
    {
     "name": "stdout",
     "output_type": "stream",
     "text": [
      "Columns to drop: \n",
      "MSZoning, Street, Alley, LotShape, LandContour, Utilities, LotConfig, LandSlope, Condition1, Condition2, BldgType, RoofStyle, RoofMatl, ExterQual, ExterCond, BsmtCond, BsmtExposure, BsmtFinType2, Heating, CentralAir, Electrical, Functional, GarageQual, GarageCond, PavedDrive, PoolQC, Fence, MiscFeature, SaleType, SaleCondition, "
     ]
    }
   ],
   "source": [
    "print(\"Columns to drop: \")\n",
    "for i in dropped:\n",
    "    print(i, sep='', end=', ', flush=True)"
   ]
  },
  {
   "cell_type": "code",
   "execution_count": 53,
   "metadata": {
    "collapsed": true
   },
   "outputs": [],
   "source": [
    "# drops variables that do not meet the 60% threshhold\n",
    "train.drop(dropped, axis=1, inplace=True)"
   ]
  },
  {
   "cell_type": "markdown",
   "metadata": {},
   "source": [
    "**Additional Columns to Drop**\n",
    "\n",
    "The following columns were dropped for reasons other than not meeting the categorical skewness threshold:\n",
    "- 'Exterior2nd': The variable Exterior1st provides a sufficient metric for type of home exterior material\n",
    "- 'GarageType': Since this variable has a lot of categories and there are many other descriptive \"garage\" variables, it does not make sense to keep "
   ]
  },
  {
   "cell_type": "code",
   "execution_count": 54,
   "metadata": {
    "collapsed": true
   },
   "outputs": [],
   "source": [
    "# Drops other variables that do not add predictive power\n",
    "train.drop([\"Exterior2nd\", \"GarageType\"], axis=1, inplace=True)"
   ]
  },
  {
   "cell_type": "markdown",
   "metadata": {},
   "source": [
    "**Columns to transform:**\n",
    "- 'Neighborhood' get dummies\n",
    "- 'Exterior1st' get dummies for top 4 categories since they make up over 80% of the data\n",
    "- 'HouseStyle' get dummies for 1 story and 2 story houses\n",
    "- 'GarageFinish' encode as 1 for finished and 0 for unfinished\n",
    "- 'Foundation' get dummies for 'PConc' and 'CBlock' and consolidate the other variables to 'other' category since they make up +87% of the data.\n",
    "- 'MasVnrType' get dummies after consolidating 'brick' categories\n",
    "- 'BsmtQual', 'HeatingQC', 'KitchenQual', and 'Fireplace' change to numeric scale\n",
    "- 'BsmtFinType1' encode as a numeric quality scale"
   ]
  },
  {
   "cell_type": "code",
   "execution_count": 55,
   "metadata": {},
   "outputs": [
    {
     "name": "stdout",
     "output_type": "stream",
     "text": [
      "Columns to keep: \n",
      "Neighborhood, HouseStyle, Exterior1st, Exterior2nd, MasVnrType, Foundation, BsmtQual, BsmtFinType1, HeatingQC, KitchenQual, FireplaceQu, GarageType, GarageFinish, "
     ]
    }
   ],
   "source": [
    "print(\"Columns to keep: \")\n",
    "for i in keep:\n",
    "    print(i, sep='', end=', ', flush=True)"
   ]
  },
  {
   "cell_type": "code",
   "execution_count": 70,
   "metadata": {},
   "outputs": [
    {
     "data": {
      "text/plain": [
       "0    0.472603\n",
       "4    0.260274\n",
       "3    0.214384\n",
       "2    0.022603\n",
       "5    0.016438\n",
       "1    0.013699\n",
       "Name: FireplaceQu, dtype: float64"
      ]
     },
     "execution_count": 70,
     "metadata": {},
     "output_type": "execute_result"
    }
   ],
   "source": [
    "train.FireplaceQu.value_counts(normalize=True, dropna=False)"
   ]
  },
  {
   "cell_type": "code",
   "execution_count": 57,
   "metadata": {
    "collapsed": true
   },
   "outputs": [],
   "source": [
    "# Reduces 'Exterior1st' column to just have 5 categories: 'VinylSd', 'HdBoard', 'MetalSd', 'Wd Sdng', and 'Other'\n",
    "train.Exterior1st = train.Exterior1st.apply(lambda x: x if str(x)[0]==\"V\" or str(x)[0]==\"H\" or str(x)[0]==\"M\" \n",
    "                                           or str(x)[0:5]==\"Wd Sd\" else \"Other\")\n",
    "# Creates dummies for new Exterior1st column\n",
    "train = pd.get_dummies(train, columns=[\"Exterior1st\"])"
   ]
  },
  {
   "cell_type": "code",
   "execution_count": 58,
   "metadata": {
    "collapsed": true
   },
   "outputs": [],
   "source": [
    "# Creates dummy variables for each Neighborhood\n",
    "train = pd.get_dummies(train, columns=[\"Neighborhood\"])"
   ]
  },
  {
   "cell_type": "code",
   "execution_count": 67,
   "metadata": {
    "collapsed": true
   },
   "outputs": [],
   "source": [
    "# Since 80% of the values are either 1 or 2 story houses, the other values are extraneous and uninformative\n",
    "train[\"HouseStyle_1\"] = np.where(train.HouseStyle.str.contains(\"1Story\"), 1, 0)\n",
    "train[\"HouseStyle_2\"] = np.where(train.HouseStyle.str.contains(\"2Story\"), 1, 0)\n",
    "train.drop(\"HouseStyle\", axis=1, inplace=True)"
   ]
  },
  {
   "cell_type": "code",
   "execution_count": 60,
   "metadata": {
    "collapsed": true
   },
   "outputs": [],
   "source": [
    "# Encodes 'GarageFinish' column to an indicator for houses with finished garages instead of categories\n",
    "train.GarageFinish = train.GarageFinish.apply(lambda x: 1 if str(x)[0:3] == \"Fin\" else 0)"
   ]
  },
  {
   "cell_type": "code",
   "execution_count": 61,
   "metadata": {},
   "outputs": [],
   "source": [
    "# Consolidates 'BrkFace' and 'BrkCmn' into one 'Brick' category\n",
    "train.MasVnrType = train.MasVnrType.apply(lambda x: x if str(x)[0:3] != \"Brk\" else \"Brick\")\n",
    "\n",
    "# Creates dummy variables for 'MasVnrType'\n",
    "train = pd.get_dummies(train, columns=[\"MasVnrType\"])"
   ]
  },
  {
   "cell_type": "code",
   "execution_count": 62,
   "metadata": {
    "collapsed": true
   },
   "outputs": [],
   "source": [
    "# Reduces 'Foundation' column to just have 3 categories: 'PConc', 'CBrick', and 'Other'\n",
    "train.Foundation = train.Foundation.apply(lambda x: x if str(x)[0] == \"P\" or str(x)[0] == \"C\" else \"Other\")\n",
    "\n",
    "# Creates dummy variables for each Neighborhood\n",
    "train = pd.get_dummies(train, columns=[\"Foundation\"])"
   ]
  },
  {
   "cell_type": "code",
   "execution_count": 74,
   "metadata": {},
   "outputs": [],
   "source": [
    "# Dictionary assigning numeric values to categorical columns with a \"poor\" to \"excellent\"\n",
    "num_assignments = {\"BsmtQual\": {\"Ex\":4, \"Gd\":3, \"TA\":2, \"Fa\":1, \"Po\":0},\n",
    "                  \"HeatingQC\": {\"Ex\":4, \"Gd\":3, \"TA\":2, \"Fa\":1, \"Po\":0},\n",
    "                  \"KitchenQual\": {\"Ex\":4, \"Gd\":3, \"TA\":2, \"Fa\":1, \"Po\":0},\n",
    "                  \"FireplaceQu\": {\"Ex\":5, \"Gd\":4, \"TA\":3, \"Fa\":2, \"Po\":1, np.nan:0},\n",
    "                  \"BsmtFinType1\": {\"GLQ\":6, \"ALQ\":5, \"BLQ\":4, \"Rec\":3, \"LwQ\":2, \"Unf\":1, np.nan:0}}\n",
    "# Note: For 'FireplaceQu' and 'BsmtFinType1' the null values are set to zero as their own category. This makes sense\n",
    "        # in context because the categories are measuring feature quality; Hence, if a feature is not reported it\n",
    "        # cannot be characterized.\n",
    "# Uses the 'num_assignments' dictionary to assign numeric values to the specified columns\n",
    "train.replace(num_assignments, inplace=True)"
   ]
  },
  {
   "cell_type": "code",
   "execution_count": 64,
   "metadata": {},
   "outputs": [
    {
     "name": "stdout",
     "output_type": "stream",
     "text": [
      "1Story    0.497260\n",
      "2Story    0.304795\n",
      "1.5Fin    0.105479\n",
      "SLvl      0.044521\n",
      "SFoyer    0.025342\n",
      "1.5Unf    0.009589\n",
      "2.5Unf    0.007534\n",
      "2.5Fin    0.005479\n",
      "Name: HouseStyle, dtype: float64\n",
      "Unf    0.302178\n",
      "GLQ    0.293746\n",
      "ALQ    0.154603\n",
      "BLQ    0.104006\n",
      "Rec    0.093465\n",
      "LwQ    0.052003\n",
      "Name: BsmtFinType1, dtype: float64\n"
     ]
    }
   ],
   "source": [
    "for i in train:\n",
    "    if train[i].dtype == 'object':\n",
    "        if train[i].value_counts(normalize=True).iloc[0] < .6:\n",
    "            print(train[i].value_counts(normalize=True))"
   ]
  },
  {
   "cell_type": "code",
   "execution_count": 65,
   "metadata": {},
   "outputs": [],
   "source": [
    "# creates variable measuring total square feet of the house\n",
    "train[\"TotalSqFt\"] = train.TotalBsmtSF + train.GrLivArea\n",
    "# TotalBsmtSF = Total square feet of basement area\n",
    "# GrLivArea = Total above grade (ground) living area square feet\n",
    "\n",
    "train.drop([\"TotalBsmtSF\", \"GrLivArea\"], axis=1, inplace=True)"
   ]
  },
  {
   "cell_type": "code",
   "execution_count": null,
   "metadata": {
    "collapsed": true
   },
   "outputs": [],
   "source": []
  },
  {
   "cell_type": "code",
   "execution_count": 68,
   "metadata": {},
   "outputs": [
    {
     "name": "stdout",
     "output_type": "stream",
     "text": [
      "<class 'pandas.core.frame.DataFrame'>\n",
      "RangeIndex: 1460 entries, 0 to 1459\n",
      "Data columns (total 81 columns):\n",
      "Id                      1460 non-null int64\n",
      "MSSubClass              1460 non-null int64\n",
      "LotFrontage             1201 non-null float64\n",
      "LotArea                 1460 non-null int64\n",
      "OverallQual             1460 non-null int64\n",
      "OverallCond             1460 non-null int64\n",
      "YearBuilt               1460 non-null int64\n",
      "YearRemodAdd            1460 non-null int64\n",
      "MasVnrArea              1452 non-null float64\n",
      "BsmtQual                1423 non-null float64\n",
      "BsmtFinType1            1423 non-null object\n",
      "BsmtFinSF1              1460 non-null int64\n",
      "BsmtFinSF2              1460 non-null int64\n",
      "BsmtUnfSF               1460 non-null int64\n",
      "HeatingQC               1460 non-null int64\n",
      "1stFlrSF                1460 non-null int64\n",
      "2ndFlrSF                1460 non-null int64\n",
      "LowQualFinSF            1460 non-null int64\n",
      "BsmtFullBath            1460 non-null int64\n",
      "BsmtHalfBath            1460 non-null int64\n",
      "FullBath                1460 non-null int64\n",
      "HalfBath                1460 non-null int64\n",
      "BedroomAbvGr            1460 non-null int64\n",
      "KitchenAbvGr            1460 non-null int64\n",
      "KitchenQual             1460 non-null int64\n",
      "TotRmsAbvGrd            1460 non-null int64\n",
      "Fireplaces              1460 non-null int64\n",
      "FireplaceQu             1460 non-null int64\n",
      "GarageYrBlt             1379 non-null float64\n",
      "GarageFinish            1460 non-null int64\n",
      "GarageCars              1460 non-null int64\n",
      "GarageArea              1460 non-null int64\n",
      "WoodDeckSF              1460 non-null int64\n",
      "OpenPorchSF             1460 non-null int64\n",
      "EnclosedPorch           1460 non-null int64\n",
      "3SsnPorch               1460 non-null int64\n",
      "ScreenPorch             1460 non-null int64\n",
      "PoolArea                1460 non-null int64\n",
      "MiscVal                 1460 non-null int64\n",
      "MoSold                  1460 non-null int64\n",
      "YrSold                  1460 non-null int64\n",
      "SalePrice               1460 non-null int64\n",
      "Exterior1st_HdBoard     1460 non-null uint8\n",
      "Exterior1st_MetalSd     1460 non-null uint8\n",
      "Exterior1st_Other       1460 non-null uint8\n",
      "Exterior1st_VinylSd     1460 non-null uint8\n",
      "Exterior1st_Wd Sdng     1460 non-null uint8\n",
      "Neighborhood_Blmngtn    1460 non-null uint8\n",
      "Neighborhood_Blueste    1460 non-null uint8\n",
      "Neighborhood_BrDale     1460 non-null uint8\n",
      "Neighborhood_BrkSide    1460 non-null uint8\n",
      "Neighborhood_ClearCr    1460 non-null uint8\n",
      "Neighborhood_CollgCr    1460 non-null uint8\n",
      "Neighborhood_Crawfor    1460 non-null uint8\n",
      "Neighborhood_Edwards    1460 non-null uint8\n",
      "Neighborhood_Gilbert    1460 non-null uint8\n",
      "Neighborhood_IDOTRR     1460 non-null uint8\n",
      "Neighborhood_MeadowV    1460 non-null uint8\n",
      "Neighborhood_Mitchel    1460 non-null uint8\n",
      "Neighborhood_NAmes      1460 non-null uint8\n",
      "Neighborhood_NPkVill    1460 non-null uint8\n",
      "Neighborhood_NWAmes     1460 non-null uint8\n",
      "Neighborhood_NoRidge    1460 non-null uint8\n",
      "Neighborhood_NridgHt    1460 non-null uint8\n",
      "Neighborhood_OldTown    1460 non-null uint8\n",
      "Neighborhood_SWISU      1460 non-null uint8\n",
      "Neighborhood_Sawyer     1460 non-null uint8\n",
      "Neighborhood_SawyerW    1460 non-null uint8\n",
      "Neighborhood_Somerst    1460 non-null uint8\n",
      "Neighborhood_StoneBr    1460 non-null uint8\n",
      "Neighborhood_Timber     1460 non-null uint8\n",
      "Neighborhood_Veenker    1460 non-null uint8\n",
      "HouseStyle_1            1460 non-null int64\n",
      "HouseStyle_2            1460 non-null int64\n",
      "MasVnrType_Brick        1460 non-null uint8\n",
      "MasVnrType_None         1460 non-null uint8\n",
      "MasVnrType_Stone        1460 non-null uint8\n",
      "Foundation_CBlock       1460 non-null uint8\n",
      "Foundation_Other        1460 non-null uint8\n",
      "Foundation_PConc        1460 non-null uint8\n",
      "TotalSqFt               1460 non-null int64\n",
      "dtypes: float64(4), int64(40), object(1), uint8(36)\n",
      "memory usage: 564.7+ KB\n"
     ]
    }
   ],
   "source": [
    "train.info()"
   ]
  },
  {
   "cell_type": "code",
   "execution_count": 8,
   "metadata": {},
   "outputs": [
    {
     "data": {
      "text/plain": [
       "(array([    0.,   200.,   400.,   600.,   800.,  1000.]),\n",
       " <a list of 6 Text yticklabel objects>)"
      ]
     },
     "execution_count": 8,
     "metadata": {},
     "output_type": "execute_result"
    },
    {
     "data": {
      "image/png": "[encoded data removed]",
      "text/plain": [
       "<matplotlib.figure.Figure at 0x10fcc3fd0>"
      ]
     },
     "metadata": {},
     "output_type": "display_data"
    }
   ],
   "source": [
    "train.LotShape.value_counts().plot(kind='bar',rot=0, figsize=(8.5,5.5))\n",
    "plt.xticks(fontsize=14)\n",
    "plt.yticks(fontsize=14)"
   ]
  },
  {
   "cell_type": "code",
   "execution_count": 9,
   "metadata": {},
   "outputs": [
    {
     "data": {
      "text/plain": [
       "<matplotlib.axes._subplots.AxesSubplot at 0x1087e1cf8>"
      ]
     },
     "execution_count": 9,
     "metadata": {},
     "output_type": "execute_result"
    },
    {
     "data": {
      "image/png": "[encoded data removed]",
      "text/plain": [
       "<matplotlib.figure.Figure at 0x1102bd6a0>"
      ]
     },
     "metadata": {},
     "output_type": "display_data"
    }
   ],
   "source": [
    "sns.distplot(train.SalePrice) #regularize"
   ]
  },
  {
   "cell_type": "markdown",
   "metadata": {},
   "source": [
    "TotalBsmtSF: Total square feet of basement area\n",
    "1stFlrSF: First Floor square feet\n",
    "2ndFlrSF: Second floor square feet\n",
    "\n",
    "-create dummies for MSZoning (6 zones), Street (gravel or paved)\n"
   ]
  },
  {
   "cell_type": "code",
   "execution_count": 41,
   "metadata": {},
   "outputs": [
    {
     "data": {
      "text/plain": [
       "[1stFlrSF           int64\n",
       " 2ndFlrSF           int64\n",
       " 3SsnPorch          int64\n",
       " BedroomAbvGr       int64\n",
       " BsmtFinSF1       float64\n",
       " BsmtFinSF2       float64\n",
       " BsmtFullBath     float64\n",
       " BsmtHalfBath     float64\n",
       " BsmtUnfSF        float64\n",
       " EnclosedPorch      int64\n",
       " Fireplaces         int64\n",
       " FullBath           int64\n",
       " GarageArea       float64\n",
       " GarageCars       float64\n",
       " GarageYrBlt      float64\n",
       " GrLivArea          int64\n",
       " HalfBath           int64\n",
       " Id                 int64\n",
       " KitchenAbvGr       int64\n",
       " LotArea            int64\n",
       " LotFrontage      float64\n",
       " LowQualFinSF       int64\n",
       " MSSubClass         int64\n",
       " MasVnrArea       float64\n",
       " MiscVal            int64\n",
       " MoSold             int64\n",
       " OpenPorchSF        int64\n",
       " OverallCond        int64\n",
       " OverallQual        int64\n",
       " PoolArea           int64\n",
       " SalePrice        float64\n",
       " ScreenPorch        int64\n",
       " TotRmsAbvGrd       int64\n",
       " TotalBsmtSF      float64\n",
       " WoodDeckSF         int64\n",
       " YearBuilt          int64\n",
       " YearRemodAdd       int64\n",
       " YrSold             int64\n",
       " dtype: object]"
      ]
     },
     "execution_count": 41,
     "metadata": {},
     "output_type": "execute_result"
    }
   ],
   "source": [
    "numeric_feats = [all_data.dtypes[all_data.dtypes != \"object\"]]\n",
    "#similar to: numeric_feats = all_data.dtypes[all_data.dtypes != \"object\"].index\n",
    "numeric_feats[:]"
   ]
  },
  {
   "cell_type": "markdown",
   "metadata": {},
   "source": [
    "### Linear Regression"
   ]
  },
  {
   "cell_type": "code",
   "execution_count": 33,
   "metadata": {
    "collapsed": true
   },
   "outputs": [],
   "source": [
    "X_train, X_test, y_train, y_test = train_test_split(train, train.SalePrice, test_size=0.33, random_state=42)"
   ]
  },
  {
   "cell_type": "code",
   "execution_count": 38,
   "metadata": {},
   "outputs": [
    {
     "ename": "ValueError",
     "evalue": "could not convert string to float: 'Normal'",
     "output_type": "error",
     "traceback": [
      "\u001b[0;31m---------------------------------------------------------------------------\u001b[0m",
      "\u001b[0;31mValueError\u001b[0m                                Traceback (most recent call last)",
      "\u001b[0;32m<ipython-input-38-112e1e557fe0>\u001b[0m in \u001b[0;36m<module>\u001b[0;34m()\u001b[0m\n\u001b[1;32m      1\u001b[0m \u001b[0mregr\u001b[0m \u001b[0;34m=\u001b[0m \u001b[0mlinear_model\u001b[0m\u001b[0;34m.\u001b[0m\u001b[0mLinearRegression\u001b[0m\u001b[0;34m(\u001b[0m\u001b[0;34m)\u001b[0m\u001b[0;34m\u001b[0m\u001b[0m\n\u001b[0;32m----> 2\u001b[0;31m \u001b[0mregr\u001b[0m\u001b[0;34m.\u001b[0m\u001b[0mfit\u001b[0m\u001b[0;34m(\u001b[0m\u001b[0mX_train\u001b[0m\u001b[0;34m,\u001b[0m\u001b[0my_train\u001b[0m\u001b[0;34m)\u001b[0m\u001b[0;34m\u001b[0m\u001b[0m\n\u001b[0m\u001b[1;32m      3\u001b[0m \u001b[0mprice_predict\u001b[0m \u001b[0;34m=\u001b[0m \u001b[0mregr\u001b[0m\u001b[0;34m.\u001b[0m\u001b[0mpredict\u001b[0m\u001b[0;34m(\u001b[0m\u001b[0mX_test\u001b[0m\u001b[0;34m)\u001b[0m\u001b[0;34m\u001b[0m\u001b[0m\n",
      "\u001b[0;32m~/anaconda3/lib/python3.6/site-packages/sklearn/linear_model/base.py\u001b[0m in \u001b[0;36mfit\u001b[0;34m(self, X, y, sample_weight)\u001b[0m\n\u001b[1;32m    480\u001b[0m         \u001b[0mn_jobs_\u001b[0m \u001b[0;34m=\u001b[0m \u001b[0mself\u001b[0m\u001b[0;34m.\u001b[0m\u001b[0mn_jobs\u001b[0m\u001b[0;34m\u001b[0m\u001b[0m\n\u001b[1;32m    481\u001b[0m         X, y = check_X_y(X, y, accept_sparse=['csr', 'csc', 'coo'],\n\u001b[0;32m--> 482\u001b[0;31m                          y_numeric=True, multi_output=True)\n\u001b[0m\u001b[1;32m    483\u001b[0m \u001b[0;34m\u001b[0m\u001b[0m\n\u001b[1;32m    484\u001b[0m         \u001b[0;32mif\u001b[0m \u001b[0msample_weight\u001b[0m \u001b[0;32mis\u001b[0m \u001b[0;32mnot\u001b[0m \u001b[0;32mNone\u001b[0m \u001b[0;32mand\u001b[0m \u001b[0mnp\u001b[0m\u001b[0;34m.\u001b[0m\u001b[0matleast_1d\u001b[0m\u001b[0;34m(\u001b[0m\u001b[0msample_weight\u001b[0m\u001b[0;34m)\u001b[0m\u001b[0;34m.\u001b[0m\u001b[0mndim\u001b[0m \u001b[0;34m>\u001b[0m \u001b[0;36m1\u001b[0m\u001b[0;34m:\u001b[0m\u001b[0;34m\u001b[0m\u001b[0m\n",
      "\u001b[0;32m~/anaconda3/lib/python3.6/site-packages/sklearn/utils/validation.py\u001b[0m in \u001b[0;36mcheck_X_y\u001b[0;34m(X, y, accept_sparse, dtype, order, copy, force_all_finite, ensure_2d, allow_nd, multi_output, ensure_min_samples, ensure_min_features, y_numeric, warn_on_dtype, estimator)\u001b[0m\n\u001b[1;32m    571\u001b[0m     X = check_array(X, accept_sparse, dtype, order, copy, force_all_finite,\n\u001b[1;32m    572\u001b[0m                     \u001b[0mensure_2d\u001b[0m\u001b[0;34m,\u001b[0m \u001b[0mallow_nd\u001b[0m\u001b[0;34m,\u001b[0m \u001b[0mensure_min_samples\u001b[0m\u001b[0;34m,\u001b[0m\u001b[0;34m\u001b[0m\u001b[0m\n\u001b[0;32m--> 573\u001b[0;31m                     ensure_min_features, warn_on_dtype, estimator)\n\u001b[0m\u001b[1;32m    574\u001b[0m     \u001b[0;32mif\u001b[0m \u001b[0mmulti_output\u001b[0m\u001b[0;34m:\u001b[0m\u001b[0;34m\u001b[0m\u001b[0m\n\u001b[1;32m    575\u001b[0m         y = check_array(y, 'csr', force_all_finite=True, ensure_2d=False,\n",
      "\u001b[0;32m~/anaconda3/lib/python3.6/site-packages/sklearn/utils/validation.py\u001b[0m in \u001b[0;36mcheck_array\u001b[0;34m(array, accept_sparse, dtype, order, copy, force_all_finite, ensure_2d, allow_nd, ensure_min_samples, ensure_min_features, warn_on_dtype, estimator)\u001b[0m\n\u001b[1;32m    446\u001b[0m         \u001b[0;31m# make sure we actually converted to numeric:\u001b[0m\u001b[0;34m\u001b[0m\u001b[0;34m\u001b[0m\u001b[0m\n\u001b[1;32m    447\u001b[0m         \u001b[0;32mif\u001b[0m \u001b[0mdtype_numeric\u001b[0m \u001b[0;32mand\u001b[0m \u001b[0marray\u001b[0m\u001b[0;34m.\u001b[0m\u001b[0mdtype\u001b[0m\u001b[0;34m.\u001b[0m\u001b[0mkind\u001b[0m \u001b[0;34m==\u001b[0m \u001b[0;34m\"O\"\u001b[0m\u001b[0;34m:\u001b[0m\u001b[0;34m\u001b[0m\u001b[0m\n\u001b[0;32m--> 448\u001b[0;31m             \u001b[0marray\u001b[0m \u001b[0;34m=\u001b[0m \u001b[0marray\u001b[0m\u001b[0;34m.\u001b[0m\u001b[0mastype\u001b[0m\u001b[0;34m(\u001b[0m\u001b[0mnp\u001b[0m\u001b[0;34m.\u001b[0m\u001b[0mfloat64\u001b[0m\u001b[0;34m)\u001b[0m\u001b[0;34m\u001b[0m\u001b[0m\n\u001b[0m\u001b[1;32m    449\u001b[0m         \u001b[0;32mif\u001b[0m \u001b[0;32mnot\u001b[0m \u001b[0mallow_nd\u001b[0m \u001b[0;32mand\u001b[0m \u001b[0marray\u001b[0m\u001b[0;34m.\u001b[0m\u001b[0mndim\u001b[0m \u001b[0;34m>=\u001b[0m \u001b[0;36m3\u001b[0m\u001b[0;34m:\u001b[0m\u001b[0;34m\u001b[0m\u001b[0m\n\u001b[1;32m    450\u001b[0m             raise ValueError(\"Found array with dim %d. %s expected <= 2.\"\n",
      "\u001b[0;31mValueError\u001b[0m: could not convert string to float: 'Normal'"
     ]
    }
   ],
   "source": [
    "regr = linear_model.LinearRegression()\n",
    "regr.fit(X_train,y_train)\n",
    "price_predict = regr.predict(X_test)"
   ]
  },
  {
   "cell_type": "code",
   "execution_count": 36,
   "metadata": {},
   "outputs": [
    {
     "data": {
      "text/plain": [
       "482"
      ]
     },
     "execution_count": 36,
     "metadata": {},
     "output_type": "execute_result"
    }
   ],
   "source": []
  },
  {
   "cell_type": "code",
   "execution_count": null,
   "metadata": {
    "collapsed": true
   },
   "outputs": [],
   "source": []
  }
 ],
 "metadata": {
  "kernelspec": {
   "display_name": "Python 3",
   "language": "python",
   "name": "python3"
  },
  "language_info": {
   "codemirror_mode": {
    "name": "ipython",
    "version": 3
   },
   "file_extension": ".py",
   "mimetype": "text/x-python",
   "name": "python",
   "nbconvert_exporter": "python",
   "pygments_lexer": "ipython3",
   "version": "3.6.3"
  }
 },
 "nbformat": 4,
 "nbformat_minor": 2
}
