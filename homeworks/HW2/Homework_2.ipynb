{
 "cells": [
  {
   "cell_type": "markdown",
   "metadata": {},
   "source": [
    "## Introduction to Modeling with Python\n",
    "\n",
    "Now that we have seen some examples of modeling and using Python for modeling, we wanted to give you a chance to try your hand!\n",
    "\n",
    "To that goal, we choose a well structured problem with plenty of resources online to help you along the way. That problem is predicting housing prices and is hosted on Kaggle:\n",
    "\n",
    "https://www.kaggle.com/c/house-prices-advanced-regression-techniques\n",
    "\n",
    "First, make sure you are signed up on Kaggle and then download the data:\n",
    "\n",
    "https://www.kaggle.com/c/house-prices-advanced-regression-techniques/data\n",
    "\n",
    "The data includes both testing and training sets as well as a sample submission file. \n",
    "\n",
    "Your goal is the predict the sales price for each house where root mean squared error is the evaluation metric. To get some ideas on where to start, feel free to check out Kaggle Kernels:\n",
    "\n",
    "https://www.kaggle.com/c/house-prices-advanced-regression-techniques/kernels\n",
    "\n",
    "And the discussion board:\n",
    "\n",
    "https://www.kaggle.com/c/house-prices-advanced-regression-techniques/discussion\n",
    "\n",
    "Again - the goal of this homework is to get you exposed to modeling with Python. Feel free to use online resources to help guide you, but we expect original thought as well. Our hope is by the end of this homework you will feel comfortable exploring data in Python and building models to make predictions. Also please submit your test results to Kaggle and let us know your ranking and score!\n",
    "\n",
    "\n",
    "### Grading\n",
    "\n",
    "This homework is due **Feb. 20, 2018 by 3:00pm Utah time.** By that time, you need to have committed all your code to your github and submitted a link to your work to the TA. We can see on your Github account when you last committed code. :)\n",
    "\n",
    "Rubric:\n",
    "\n",
    "* Code Quality - 10%\n",
    "* Storytelling - 10%\n",
    "* Result on Kaggle - 5%\n",
    "* Describing, Cleaning, and Visualizing data - 25%\n",
    "* Modeling - 50%\n",
    "\n",
    "More specifically, for modeling we will look for: \n",
    "\n",
    "* Model Selection: Did you try multiple models? Why did you choose these models? How do they work? What are they assumptions? And how did you test/account for them? How did you select hyper-parameters?\n",
    "* Model interpretation: What do the model results tell you? Which variables are important? High bias or variance and how did you / could you fix this? How confident are you in your results? \n",
    "* Model usefulness: Do you think your final model was useful? If so, how would you recommend using it? Convince us, that if we were a company, we would feel comfortable using your model with our users. Think about edge cases as well - are there certain areas that the model performs poorly on? Best on? How would you handle these cases, if say Zillow wanted to leverage your model realizing that bad recommendations on sale prices would hurt customer trust and your brand. This section also falls into the storytelling aspect of the grading."
   ]
  },
  {
   "cell_type": "code",
   "execution_count": 1,
   "metadata": {
    "collapsed": true
   },
   "outputs": [],
   "source": [
    "import pandas as pd\n",
    "import numpy as np\n",
    "from matplotlib import pyplot as plt\n",
    "from sklearn import linear_model\n",
    "from sklearn.model_selection import train_test_split, GridSearchCV\n",
    "from sklearn.metrics import mean_squared_error\n",
    "from sklearn.preprocessing import StandardScaler\n",
    "from sklearn.metrics import mean_squared_error, r2_score\n",
    "import seaborn as sns #plt.style.use(\"seaborn\")\n",
    "%matplotlib inline\n",
    "plt.rcParams['figure.figsize'] = [10,8] # sets plot size"
   ]
  },
  {
   "cell_type": "markdown",
   "metadata": {},
   "source": [
    "### Data Cleaning"
   ]
  },
  {
   "cell_type": "code",
   "execution_count": 2,
   "metadata": {
    "collapsed": true
   },
   "outputs": [],
   "source": [
    "test = pd.read_csv(\"test.csv\")\n",
    "train = pd.read_csv(\"train.csv\")\n",
    "all_data = pd.concat((test, train), ignore_index=True)"
   ]
  },
  {
   "cell_type": "code",
   "execution_count": 3,
   "metadata": {},
   "outputs": [
    {
     "data": {
      "text/plain": [
       "(2919, 81)"
      ]
     },
     "execution_count": 3,
     "metadata": {},
     "output_type": "execute_result"
    }
   ],
   "source": [
    "all_data.shape"
   ]
  },
  {
   "cell_type": "code",
   "execution_count": 4,
   "metadata": {},
   "outputs": [
    {
     "data": {
      "text/plain": [
       "(1460, 81)"
      ]
     },
     "execution_count": 4,
     "metadata": {},
     "output_type": "execute_result"
    }
   ],
   "source": [
    "train.shape"
   ]
  },
  {
   "cell_type": "code",
   "execution_count": 5,
   "metadata": {
    "scrolled": true
   },
   "outputs": [
    {
     "data": {
      "text/html": [
       "<div>\n",
       "<style>\n",
       "    .dataframe thead tr:only-child th {\n",
       "        text-align: right;\n",
       "    }\n",
       "\n",
       "    .dataframe thead th {\n",
       "        text-align: left;\n",
       "    }\n",
       "\n",
       "    .dataframe tbody tr th {\n",
       "        vertical-align: top;\n",
       "    }\n",
       "</style>\n",
       "<table border=\"1\" class=\"dataframe\">\n",
       "  <thead>\n",
       "    <tr style=\"text-align: right;\">\n",
       "      <th></th>\n",
       "      <th>1stFlrSF</th>\n",
       "      <th>2ndFlrSF</th>\n",
       "      <th>3SsnPorch</th>\n",
       "      <th>Alley</th>\n",
       "      <th>BedroomAbvGr</th>\n",
       "      <th>BldgType</th>\n",
       "      <th>BsmtCond</th>\n",
       "      <th>BsmtExposure</th>\n",
       "      <th>BsmtFinSF1</th>\n",
       "      <th>BsmtFinSF2</th>\n",
       "      <th>...</th>\n",
       "      <th>SaleType</th>\n",
       "      <th>ScreenPorch</th>\n",
       "      <th>Street</th>\n",
       "      <th>TotRmsAbvGrd</th>\n",
       "      <th>TotalBsmtSF</th>\n",
       "      <th>Utilities</th>\n",
       "      <th>WoodDeckSF</th>\n",
       "      <th>YearBuilt</th>\n",
       "      <th>YearRemodAdd</th>\n",
       "      <th>YrSold</th>\n",
       "    </tr>\n",
       "  </thead>\n",
       "  <tbody>\n",
       "    <tr>\n",
       "      <th>0</th>\n",
       "      <td>896</td>\n",
       "      <td>0</td>\n",
       "      <td>0</td>\n",
       "      <td>NaN</td>\n",
       "      <td>2</td>\n",
       "      <td>1Fam</td>\n",
       "      <td>TA</td>\n",
       "      <td>No</td>\n",
       "      <td>468.0</td>\n",
       "      <td>144.0</td>\n",
       "      <td>...</td>\n",
       "      <td>WD</td>\n",
       "      <td>120</td>\n",
       "      <td>Pave</td>\n",
       "      <td>5</td>\n",
       "      <td>882.0</td>\n",
       "      <td>AllPub</td>\n",
       "      <td>140</td>\n",
       "      <td>1961</td>\n",
       "      <td>1961</td>\n",
       "      <td>2010</td>\n",
       "    </tr>\n",
       "    <tr>\n",
       "      <th>1</th>\n",
       "      <td>1329</td>\n",
       "      <td>0</td>\n",
       "      <td>0</td>\n",
       "      <td>NaN</td>\n",
       "      <td>3</td>\n",
       "      <td>1Fam</td>\n",
       "      <td>TA</td>\n",
       "      <td>No</td>\n",
       "      <td>923.0</td>\n",
       "      <td>0.0</td>\n",
       "      <td>...</td>\n",
       "      <td>WD</td>\n",
       "      <td>0</td>\n",
       "      <td>Pave</td>\n",
       "      <td>6</td>\n",
       "      <td>1329.0</td>\n",
       "      <td>AllPub</td>\n",
       "      <td>393</td>\n",
       "      <td>1958</td>\n",
       "      <td>1958</td>\n",
       "      <td>2010</td>\n",
       "    </tr>\n",
       "    <tr>\n",
       "      <th>2</th>\n",
       "      <td>928</td>\n",
       "      <td>701</td>\n",
       "      <td>0</td>\n",
       "      <td>NaN</td>\n",
       "      <td>3</td>\n",
       "      <td>1Fam</td>\n",
       "      <td>TA</td>\n",
       "      <td>No</td>\n",
       "      <td>791.0</td>\n",
       "      <td>0.0</td>\n",
       "      <td>...</td>\n",
       "      <td>WD</td>\n",
       "      <td>0</td>\n",
       "      <td>Pave</td>\n",
       "      <td>6</td>\n",
       "      <td>928.0</td>\n",
       "      <td>AllPub</td>\n",
       "      <td>212</td>\n",
       "      <td>1997</td>\n",
       "      <td>1998</td>\n",
       "      <td>2010</td>\n",
       "    </tr>\n",
       "    <tr>\n",
       "      <th>3</th>\n",
       "      <td>926</td>\n",
       "      <td>678</td>\n",
       "      <td>0</td>\n",
       "      <td>NaN</td>\n",
       "      <td>3</td>\n",
       "      <td>1Fam</td>\n",
       "      <td>TA</td>\n",
       "      <td>No</td>\n",
       "      <td>602.0</td>\n",
       "      <td>0.0</td>\n",
       "      <td>...</td>\n",
       "      <td>WD</td>\n",
       "      <td>0</td>\n",
       "      <td>Pave</td>\n",
       "      <td>7</td>\n",
       "      <td>926.0</td>\n",
       "      <td>AllPub</td>\n",
       "      <td>360</td>\n",
       "      <td>1998</td>\n",
       "      <td>1998</td>\n",
       "      <td>2010</td>\n",
       "    </tr>\n",
       "    <tr>\n",
       "      <th>4</th>\n",
       "      <td>1280</td>\n",
       "      <td>0</td>\n",
       "      <td>0</td>\n",
       "      <td>NaN</td>\n",
       "      <td>2</td>\n",
       "      <td>TwnhsE</td>\n",
       "      <td>TA</td>\n",
       "      <td>No</td>\n",
       "      <td>263.0</td>\n",
       "      <td>0.0</td>\n",
       "      <td>...</td>\n",
       "      <td>WD</td>\n",
       "      <td>144</td>\n",
       "      <td>Pave</td>\n",
       "      <td>5</td>\n",
       "      <td>1280.0</td>\n",
       "      <td>AllPub</td>\n",
       "      <td>0</td>\n",
       "      <td>1992</td>\n",
       "      <td>1992</td>\n",
       "      <td>2010</td>\n",
       "    </tr>\n",
       "  </tbody>\n",
       "</table>\n",
       "<p>5 rows × 81 columns</p>\n",
       "</div>"
      ],
      "text/plain": [
       "   1stFlrSF  2ndFlrSF  3SsnPorch Alley  BedroomAbvGr BldgType BsmtCond  \\\n",
       "0       896         0          0   NaN             2     1Fam       TA   \n",
       "1      1329         0          0   NaN             3     1Fam       TA   \n",
       "2       928       701          0   NaN             3     1Fam       TA   \n",
       "3       926       678          0   NaN             3     1Fam       TA   \n",
       "4      1280         0          0   NaN             2   TwnhsE       TA   \n",
       "\n",
       "  BsmtExposure  BsmtFinSF1  BsmtFinSF2  ...   SaleType ScreenPorch  Street  \\\n",
       "0           No       468.0       144.0  ...         WD         120    Pave   \n",
       "1           No       923.0         0.0  ...         WD           0    Pave   \n",
       "2           No       791.0         0.0  ...         WD           0    Pave   \n",
       "3           No       602.0         0.0  ...         WD           0    Pave   \n",
       "4           No       263.0         0.0  ...         WD         144    Pave   \n",
       "\n",
       "   TotRmsAbvGrd TotalBsmtSF  Utilities WoodDeckSF YearBuilt YearRemodAdd  \\\n",
       "0             5       882.0     AllPub        140      1961         1961   \n",
       "1             6      1329.0     AllPub        393      1958         1958   \n",
       "2             6       928.0     AllPub        212      1997         1998   \n",
       "3             7       926.0     AllPub        360      1998         1998   \n",
       "4             5      1280.0     AllPub          0      1992         1992   \n",
       "\n",
       "  YrSold  \n",
       "0   2010  \n",
       "1   2010  \n",
       "2   2010  \n",
       "3   2010  \n",
       "4   2010  \n",
       "\n",
       "[5 rows x 81 columns]"
      ]
     },
     "execution_count": 5,
     "metadata": {},
     "output_type": "execute_result"
    }
   ],
   "source": [
    "all_data.head()"
   ]
  },
  {
   "cell_type": "markdown",
   "metadata": {},
   "source": [
    "**Drop Variables**\n",
    "\n",
    "After looping through the dataframe and printing out the normalized value counts of each column, I was able to identify which columns were worth keeping based on categorical distribution skewness. The columns with a category containing more than 60% of the data will be dropped."
   ]
  },
  {
   "cell_type": "code",
   "execution_count": 6,
   "metadata": {
    "collapsed": true
   },
   "outputs": [],
   "source": [
    "# dropped array stores skewed categorical columns to be dropped\n",
    "dropped = []\n",
    "keep = []\n",
    "for i in train:\n",
    "    if train[i].value_counts(normalize=True, dropna=False).iloc[0] > .6:\n",
    "            ###print(train[i].value_counts(normalize=True, dropna=False))\n",
    "            dropped.append(i)\n",
    "    else:\n",
    "            keep.append(i)"
   ]
  },
  {
   "cell_type": "code",
   "execution_count": 7,
   "metadata": {},
   "outputs": [
    {
     "data": {
      "text/plain": [
       "40"
      ]
     },
     "execution_count": 7,
     "metadata": {},
     "output_type": "execute_result"
    }
   ],
   "source": [
    "len(dropped)"
   ]
  },
  {
   "cell_type": "code",
   "execution_count": 8,
   "metadata": {},
   "outputs": [
    {
     "name": "stdout",
     "output_type": "stream",
     "text": [
      "Columns to drop: \n",
      "MSZoning, Street, Alley, LotShape, LandContour, Utilities, LotConfig, LandSlope, Condition1, Condition2, BldgType, RoofStyle, RoofMatl, ExterQual, ExterCond, BsmtCond, BsmtExposure, BsmtFinType2, BsmtFinSF2, Heating, CentralAir, Electrical, LowQualFinSF, BsmtHalfBath, HalfBath, KitchenAbvGr, Functional, GarageQual, GarageCond, PavedDrive, EnclosedPorch, 3SsnPorch, ScreenPorch, PoolArea, PoolQC, Fence, MiscFeature, MiscVal, SaleType, SaleCondition, "
     ]
    }
   ],
   "source": [
    "print(\"Columns to drop: \")\n",
    "for i in dropped:\n",
    "    print(i, sep='', end=', ', flush=True)"
   ]
  },
  {
   "cell_type": "code",
   "execution_count": 9,
   "metadata": {
    "collapsed": true
   },
   "outputs": [],
   "source": [
    "# drops variables that do not meet the 60% threshhold\n",
    "train.drop(dropped, axis=1, inplace=True)"
   ]
  },
  {
   "cell_type": "markdown",
   "metadata": {},
   "source": [
    "**Additional Columns to Drop**\n",
    "\n",
    "The following columns were dropped for reasons other than not meeting the categorical skewness threshold:\n",
    "- 'Exterior2nd': The variable Exterior1st provides a sufficient metric for type of home exterior material\n",
    "- 'GarageType': Since this variable has a lot of categories and there are many other descriptive \"garage\" variables, it does not make sense to keep\n",
    "- 'MSSubClass': Based on the normalized categorical distribution of this variable, it is nearly colinear with 'HouseStyle' + 'YearBuilt' and therefore provides no additional predictive power.\n",
    "- 'Neighborhood' is unlikely to be useful, since houses within the same neighborhood generally have similar qualities.\n",
    "- 'Id' is an arbitrary identifier and has no predictive power"
   ]
  },
  {
   "cell_type": "code",
   "execution_count": 10,
   "metadata": {
    "collapsed": true
   },
   "outputs": [],
   "source": [
    "# Drops other variables that do not add predictive power\n",
    "train.drop([\"Exterior2nd\", \"GarageType\", \"MSSubClass\", \"Neighborhood\", \"Id\"], axis=1, inplace=True)"
   ]
  },
  {
   "cell_type": "markdown",
   "metadata": {},
   "source": [
    "**Columns to transform:**\n",
    "- 'Exterior1st' get dummies for top 4 categories since they make up over 80% of the data\n",
    "- 'HouseStyle' get dummies for 1 story and 2 story houses\n",
    "- 'GarageFinish' encode as 1 for finished and 0 for unfinished\n",
    "- 'Foundation' get dummies for 'PConc' and 'CBlock' and consolidate the other variables to 'other' category since they make up +87% of the data.\n",
    "- 'MasVnrType' get dummies after consolidating 'brick' categories\n",
    "- 'BsmtQual', 'HeatingQC', 'KitchenQual', and 'Fireplace' change to numeric scale\n",
    "- 'BsmtFinType1' encode as a numeric quality scale"
   ]
  },
  {
   "cell_type": "code",
   "execution_count": 11,
   "metadata": {},
   "outputs": [
    {
     "name": "stdout",
     "output_type": "stream",
     "text": [
      "Columns to keep: \n",
      "Id, MSSubClass, LotFrontage, LotArea, Neighborhood, HouseStyle, OverallQual, OverallCond, YearBuilt, YearRemodAdd, Exterior1st, Exterior2nd, MasVnrType, MasVnrArea, Foundation, BsmtQual, BsmtFinType1, BsmtFinSF1, BsmtUnfSF, TotalBsmtSF, HeatingQC, 1stFlrSF, 2ndFlrSF, GrLivArea, BsmtFullBath, FullBath, BedroomAbvGr, KitchenQual, TotRmsAbvGrd, Fireplaces, FireplaceQu, GarageType, GarageYrBlt, GarageFinish, GarageCars, GarageArea, WoodDeckSF, OpenPorchSF, MoSold, YrSold, SalePrice, "
     ]
    }
   ],
   "source": [
    "### delete from final draft\n",
    "print(\"Columns to keep: \")\n",
    "for i in keep:\n",
    "    print(i, sep='', end=', ', flush=True)"
   ]
  },
  {
   "cell_type": "code",
   "execution_count": 12,
   "metadata": {
    "collapsed": true
   },
   "outputs": [],
   "source": [
    "### train.LotArea.value_counts(normalize=True, dropna=False)"
   ]
  },
  {
   "cell_type": "code",
   "execution_count": 13,
   "metadata": {
    "collapsed": true
   },
   "outputs": [],
   "source": [
    "# Reduces 'Exterior1st' column to just have 5 categories: 'VinylSd', 'HdBoard', 'MetalSd', 'Wd Sdng', and 'Other'\n",
    "train.Exterior1st = train.Exterior1st.apply(lambda x: x if str(x)[0]==\"V\" or str(x)[0]==\"H\" or str(x)[0]==\"M\" \n",
    "                                           or str(x)[0:5]==\"Wd Sd\" else \"Other\")\n",
    "# Creates dummies for new Exterior1st column\n",
    "train = pd.get_dummies(train, columns=[\"Exterior1st\"])"
   ]
  },
  {
   "cell_type": "code",
   "execution_count": 14,
   "metadata": {
    "collapsed": true
   },
   "outputs": [],
   "source": [
    "# Since 80% of the values are either 1 or 2 story houses, the other values are extraneous and uninformative\n",
    "# Hence, 'HouseStyle_1' essentially serves as an indicator for 1 story or more than 1 story (1.5, 2, 2.5, & split lvl)\n",
    "train[\"HouseStyle_1LvL\"] = np.where(train.HouseStyle.str.contains(\"1Story\"), 1, 0)\n",
    "train.drop(\"HouseStyle\", axis=1, inplace=True)"
   ]
  },
  {
   "cell_type": "code",
   "execution_count": 15,
   "metadata": {
    "collapsed": true
   },
   "outputs": [],
   "source": [
    "# Encodes 'GarageFinish' column to an indicator for houses with finished garages instead of categories\n",
    "train.GarageFinish = train.GarageFinish.apply(lambda x: 1 if str(x)[0:3] == \"Fin\" else 0)"
   ]
  },
  {
   "cell_type": "code",
   "execution_count": 16,
   "metadata": {
    "collapsed": true
   },
   "outputs": [],
   "source": [
    "# Consolidates 'BrkFace' and 'BrkCmn' into one 'Brick' category\n",
    "train.MasVnrType = train.MasVnrType.apply(lambda x: x if str(x)[0:3] != \"Brk\" else \"Brick\")\n",
    "\n",
    "# Creates dummy variables for 'MasVnrType'\n",
    "train = pd.get_dummies(train, columns=[\"MasVnrType\"])"
   ]
  },
  {
   "cell_type": "code",
   "execution_count": 17,
   "metadata": {
    "collapsed": true
   },
   "outputs": [],
   "source": [
    "# Reduces 'Foundation' column to just have 3 categories: 'PConc', 'CBrick', and 'Other'\n",
    "train.Foundation = train.Foundation.apply(lambda x: x if str(x)[0] == \"P\" or str(x)[0] == \"C\" else \"Other\")\n",
    "\n",
    "# Creates dummy variables for each Neighborhood\n",
    "train = pd.get_dummies(train, columns=[\"Foundation\"])"
   ]
  },
  {
   "cell_type": "code",
   "execution_count": 18,
   "metadata": {
    "collapsed": true
   },
   "outputs": [],
   "source": [
    "# Dictionary assigning numeric values to categorical columns with a \"poor\" to \"excellent\"\n",
    "num_assignments = {\"BsmtQual\": {\"Ex\":5, \"Gd\":4, \"TA\":3, \"Fa\":2, \"Po\":1, np.nan:0},\n",
    "                  \"HeatingQC\": {\"Ex\":4, \"Gd\":3, \"TA\":2, \"Fa\":1, \"Po\":0},\n",
    "                  \"KitchenQual\": {\"Ex\":4, \"Gd\":3, \"TA\":2, \"Fa\":1, \"Po\":0},\n",
    "                  \"FireplaceQu\": {\"Ex\":5, \"Gd\":4, \"TA\":3, \"Fa\":2, \"Po\":1, np.nan:0},\n",
    "                  \"BsmtFinType1\": {\"GLQ\":6, \"ALQ\":5, \"BLQ\":4, \"Rec\":3, \"LwQ\":2, \"Unf\":1, np.nan:0}}\n",
    "# Note: For 'BsmtQual', FireplaceQu', and 'BsmtFinType1' the null values are set to zero as their own category. \n",
    "        # This makes sense in context because the categories are measuring feature quality; Hence, if a feature is not\n",
    "        # reported it cannot be characterized.\n",
    "# Uses the 'num_assignments' dictionary to assign numeric values to the specified columns\n",
    "train.replace(num_assignments, inplace=True)"
   ]
  },
  {
   "cell_type": "code",
   "execution_count": 19,
   "metadata": {
    "collapsed": true
   },
   "outputs": [],
   "source": [
    "# creates variable measuring total square feet of the house\n",
    "train[\"TotalSqFt\"] = train.TotalBsmtSF + train.GrLivArea\n",
    "# TotalBsmtSF = Total square feet of basement area\n",
    "# GrLivArea = Total above grade (ground) living area square feet\n",
    "\n",
    "train.drop([\"TotalBsmtSF\", \"GrLivArea\"], axis=1, inplace=True)"
   ]
  },
  {
   "cell_type": "markdown",
   "metadata": {},
   "source": [
    "**Imputing Null Values**"
   ]
  },
  {
   "cell_type": "code",
   "execution_count": 20,
   "metadata": {},
   "outputs": [
    {
     "name": "stdout",
     "output_type": "stream",
     "text": [
      "LotFrontage 259\n",
      "MasVnrArea 8\n",
      "GarageYrBlt 81\n"
     ]
    }
   ],
   "source": [
    "Nulls = []\n",
    "# Prints sum of null values for columns containing nulls\n",
    "for i in train:\n",
    "    if train[i].isnull().sum()!=0:\n",
    "        print(i, train[i].isnull().sum())\n",
    "        Nulls.append(i)"
   ]
  },
  {
   "cell_type": "code",
   "execution_count": 21,
   "metadata": {
    "collapsed": true
   },
   "outputs": [],
   "source": [
    "# Fills the columns with null values (contained in the array \"Nulls\") with the column averages\n",
    "train = train.fillna(train[Nulls].mean()).round()"
   ]
  },
  {
   "cell_type": "markdown",
   "metadata": {},
   "source": [
    "For verification, we can check if any columns in train have null values. We should expect a value of zero."
   ]
  },
  {
   "cell_type": "code",
   "execution_count": 22,
   "metadata": {},
   "outputs": [
    {
     "data": {
      "text/plain": [
       "0"
      ]
     },
     "execution_count": 22,
     "metadata": {},
     "output_type": "execute_result"
    }
   ],
   "source": [
    "# Counts the number of columns with null values\n",
    "train.isnull().any().sum()"
   ]
  },
  {
   "cell_type": "markdown",
   "metadata": {},
   "source": [
    "**Handling Outliers**"
   ]
  },
  {
   "cell_type": "markdown",
   "metadata": {},
   "source": [
    "Examining the distribution of home prices below, it is clear the majority of the sale prices lie between \\$100,000 and \\$250,000. As such, there are likely outliers that could bias the models."
   ]
  },
  {
   "cell_type": "code",
   "execution_count": 23,
   "metadata": {},
   "outputs": [
    {
     "data": {
      "text/plain": [
       "count      1460.000000\n",
       "mean     180921.195890\n",
       "std       79442.502883\n",
       "min       34900.000000\n",
       "25%      129975.000000\n",
       "50%      163000.000000\n",
       "75%      214000.000000\n",
       "max      755000.000000\n",
       "Name: SalePrice, dtype: float64"
      ]
     },
     "execution_count": 23,
     "metadata": {},
     "output_type": "execute_result"
    }
   ],
   "source": [
    "train.SalePrice.describe()"
   ]
  },
  {
   "cell_type": "markdown",
   "metadata": {},
   "source": [
    "To illustrate the distribution of house prices, the histogram below verifies the existence are extreme outliers. In particular, we see that there are a few home prices that are well outside of the normal range for this area; in particular, the houses selling for more than \\$500,000 and less than \\$50,000. These observations are likely unrepesentative of the data and will not add predictive power to the models."
   ]
  },
  {
   "cell_type": "code",
   "execution_count": 24,
   "metadata": {},
   "outputs": [
    {
     "data": {
      "text/plain": [
       "<matplotlib.legend.Legend at 0x1a13054080>"
      ]
     },
     "execution_count": 24,
     "metadata": {},
     "output_type": "execute_result"
    },
    {
     "data": {
      "image/png": "[encoded data removed]",
      "text/plain": [
       "<matplotlib.figure.Figure at 0x10a641710>"
      ]
     },
     "metadata": {},
     "output_type": "display_data"
    }
   ],
   "source": [
    "sns.distplot(train.SalePrice, kde=False)\n",
    "plt.xticks(1e5*np.arange(9), 1e5*np.arange(9), rotation=90)\n",
    "plt.xlabel('Sale Price ($)', fontsize='14')\n",
    "plt.ylabel('Count', fontsize='14')\n",
    "plt.title('House Sale Price\\n $\\it{with}$ $\\it{quartiles}$', fontsize='16')\n",
    "for i, x in enumerate([129975, 163000, 214000]): # enumerate returns the index (= i) and value (= x) in a list\n",
    "    plt.axvline(x=x, color='k', lw=i%2+.5, ls='dotted', label=\"Q{}\".format((i+1)*25)) \n",
    "    # 'lw=i%2+.5'makes median line darker\n",
    "plt.legend(loc='upper right')"
   ]
  },
  {
   "cell_type": "markdown",
   "metadata": {},
   "source": [
    "Now that the outliers have been identified, they can be eliminated from the data."
   ]
  },
  {
   "cell_type": "code",
   "execution_count": 25,
   "metadata": {},
   "outputs": [],
   "source": [
    "from scipy import stats\n",
    "# Removes observations lying outside of 3 standard deviations away from the mean SalePrice\n",
    "train_NO = train[(np.abs(stats.zscore(train.SalePrice)) < 3)]"
   ]
  },
  {
   "cell_type": "code",
   "execution_count": 26,
   "metadata": {},
   "outputs": [
    {
     "name": "stdout",
     "output_type": "stream",
     "text": [
      "Number of Observations Removed: 22\n"
     ]
    }
   ],
   "source": [
    "print(\"Number of Observations Removed: {}\".format(len(train)-len(train_NO)))"
   ]
  },
  {
   "cell_type": "code",
   "execution_count": 27,
   "metadata": {},
   "outputs": [
    {
     "data": {
      "text/plain": [
       "<matplotlib.axes._subplots.AxesSubplot at 0x1a1263e208>"
      ]
     },
     "execution_count": 27,
     "metadata": {},
     "output_type": "execute_result"
    },
    {
     "data": {
      "image/png": "[encoded data removed]",
      "text/plain": [
       "<matplotlib.figure.Figure at 0x1a1263ef60>"
      ]
     },
     "metadata": {},
     "output_type": "display_data"
    }
   ],
   "source": [
    "sns.distplot(train_NO.SalePrice)"
   ]
  },
  {
   "cell_type": "markdown",
   "metadata": {},
   "source": [
    "### Modeling"
   ]
  },
  {
   "cell_type": "markdown",
   "metadata": {},
   "source": [
    "**1.  Linear Regression**"
   ]
  },
  {
   "cell_type": "markdown",
   "metadata": {},
   "source": [
    "I begin my modeling with a standard linear regresssion. The data set still has a large number of features, so I do not expect it to be particularly accurate; however, it should serve as an adequate baseline upon which to improve."
   ]
  },
  {
   "cell_type": "code",
   "execution_count": 28,
   "metadata": {
    "collapsed": true
   },
   "outputs": [],
   "source": [
    "train_xs = train_NO.drop([\"SalePrice\"], axis = 1) # removes the dependent variable from the data set"
   ]
  },
  {
   "cell_type": "code",
   "execution_count": 29,
   "metadata": {
    "collapsed": true
   },
   "outputs": [],
   "source": [
    "# Split the data into training and testing sets. \n",
    "X_train, X_test, y_train, y_test = train_test_split(train_xs, train_NO.SalePrice, test_size=0.33, random_state=42)"
   ]
  },
  {
   "cell_type": "code",
   "execution_count": 30,
   "metadata": {
    "collapsed": true
   },
   "outputs": [],
   "source": [
    "scaler = StandardScaler() # Initializes the StandardScaler function as 'scaler' \n",
    "scaler.fit(X_train) # Calculates means and standard deviations of data in order to fit a scaling function\n",
    "scaled_xtrain = scaler.transform(X_train) # Uses previous calculations to transform data into a scaled dataframe"
   ]
  },
  {
   "cell_type": "code",
   "execution_count": 31,
   "metadata": {
    "collapsed": true
   },
   "outputs": [],
   "source": [
    "# Initializes the 'LinearRegression' model from SKLearn.\n",
    "lin_reg = linear_model.LinearRegression()"
   ]
  },
  {
   "cell_type": "code",
   "execution_count": 32,
   "metadata": {},
   "outputs": [
    {
     "data": {
      "text/plain": [
       "LinearRegression(copy_X=True, fit_intercept=True, n_jobs=1, normalize=False)"
      ]
     },
     "execution_count": 32,
     "metadata": {},
     "output_type": "execute_result"
    }
   ],
   "source": [
    "# Trains the OLS model with the training subset data.\n",
    "lin_reg.fit(scaled_xtrain, y_train)"
   ]
  },
  {
   "cell_type": "code",
   "execution_count": 33,
   "metadata": {
    "collapsed": true
   },
   "outputs": [],
   "source": [
    "# Uses OLS model to predict 'SalePrice'\n",
    "y_predict_OLS = lin_reg.predict(scaler.transform(X_test)) # ??? Need to 'scaler.fit(X_test)' ???"
   ]
  },
  {
   "cell_type": "code",
   "execution_count": 34,
   "metadata": {},
   "outputs": [
    {
     "data": {
      "text/plain": [
       "array([ -4.22292733e+02,   4.16236133e+03,   1.77588853e+04,\n",
       "         6.73026080e+03,   4.77219907e+03,  -5.32332475e+02,\n",
       "         5.49806395e+03,   5.94564744e+03,   4.24301300e+03,\n",
       "        -3.43441437e+03,  -1.85648684e+03,   1.97390608e+03,\n",
       "         1.70452734e+04,   1.63877784e+04,   5.29730675e+03,\n",
       "         1.34119326e+03,   2.02369623e+03,   5.70168599e+03,\n",
       "         1.56815699e+03,   1.68517970e+03,   5.24938703e+03,\n",
       "        -1.20343511e+03,   2.69860015e+03,   6.59108946e+03,\n",
       "         3.61609765e+03,   3.56541638e+03,   4.99186152e+02,\n",
       "         1.61614536e+03,  -5.74653667e+02,  -3.41480321e+16,\n",
       "        -3.47048875e+16,  -3.85499689e+16,  -4.50348179e+16,\n",
       "        -3.19303751e+16,   6.87074276e+03,   2.18590289e+03,\n",
       "         4.70023737e+03,   2.42228948e+03,   8.85280485e+16,\n",
       "         5.77601700e+16,   8.83055658e+16,  -3.54670945e+03])"
      ]
     },
     "execution_count": 34,
     "metadata": {},
     "output_type": "execute_result"
    }
   ],
   "source": [
    "lin_reg.coef_ # Prints the coefficients of the linear regression model"
   ]
  },
  {
   "cell_type": "code",
   "execution_count": 35,
   "metadata": {},
   "outputs": [
    {
     "data": {
      "text/plain": [
       "25734.513251587377"
      ]
     },
     "execution_count": 35,
     "metadata": {},
     "output_type": "execute_result"
    }
   ],
   "source": [
    "np.sqrt(mean_squared_error(y_test, y_predict_OLS))"
   ]
  },
  {
   "cell_type": "code",
   "execution_count": 36,
   "metadata": {},
   "outputs": [
    {
     "data": {
      "text/plain": [
       "0.84755061520139652"
      ]
     },
     "execution_count": 36,
     "metadata": {},
     "output_type": "execute_result"
    }
   ],
   "source": [
    "r2_score(y_test, y_predict_OLS)"
   ]
  },
  {
   "cell_type": "markdown",
   "metadata": {},
   "source": [
    "The mean squared error is extremely large and the R-squared value is suspiciously high, which leads me to believe that the model overfit the data as a result of too many features. I will first trim down the number of features to see if that will improve the accuracy of my linear model."
   ]
  },
  {
   "cell_type": "markdown",
   "metadata": {},
   "source": [
    "**2.  Tuning the Linear Model with Lasso**"
   ]
  },
  {
   "cell_type": "markdown",
   "metadata": {},
   "source": [
    "With such a large number of parameters, it is necessary to determine which are the most informative. Using a Lasso model, also known as L1 regularization, I can identify the most important parameters to use in my models."
   ]
  },
  {
   "cell_type": "code",
   "execution_count": 37,
   "metadata": {},
   "outputs": [
    {
     "data": {
      "text/plain": [
       "Lasso(alpha=100, copy_X=True, fit_intercept=True, max_iter=1000,\n",
       "   normalize=False, positive=False, precompute=False, random_state=None,\n",
       "   selection='cyclic', tol=0.0001, warm_start=False)"
      ]
     },
     "execution_count": 37,
     "metadata": {},
     "output_type": "execute_result"
    }
   ],
   "source": [
    "lasso_lin_reg = linear_model.Lasso(alpha = 100)\n",
    "lasso_lin_reg.fit(scaled_xtrain, y_train)"
   ]
  },
  {
   "cell_type": "code",
   "execution_count": 38,
   "metadata": {},
   "outputs": [
    {
     "data": {
      "text/plain": [
       "0.82183172743926414"
      ]
     },
     "execution_count": 38,
     "metadata": {},
     "output_type": "execute_result"
    }
   ],
   "source": [
    "lasso_lin_reg.score(scaled_xtrain, y_train) # add description/interpretation"
   ]
  },
  {
   "cell_type": "code",
   "execution_count": 39,
   "metadata": {
    "collapsed": true
   },
   "outputs": [],
   "source": [
    "# Predicts 'SalePrice' using the x-test data set and lasso coefficients\n",
    "y_predict_lasso = lasso_lin_reg.predict(scaler.transform(X_test))"
   ]
  },
  {
   "cell_type": "code",
   "execution_count": 40,
   "metadata": {},
   "outputs": [
    {
     "data": {
      "text/plain": [
       "25564.962752951524"
      ]
     },
     "execution_count": 40,
     "metadata": {},
     "output_type": "execute_result"
    }
   ],
   "source": [
    "np.sqrt(mean_squared_error(y_test, y_predict_lasso))"
   ]
  },
  {
   "cell_type": "markdown",
   "metadata": {},
   "source": [
    "The Lasso model has a root mean squared error of about 36438, which is an improvement from 36523, the RMSE of the original OLS model. However, this is still far from an optimal solution."
   ]
  },
  {
   "cell_type": "code",
   "execution_count": 41,
   "metadata": {},
   "outputs": [
    {
     "data": {
      "text/plain": [
       "array([   259.48389603,   4040.44291725,  17782.68304116,   6491.88690314,\n",
       "         4440.08202598,      0.        ,   5084.32911885,   5221.07791478,\n",
       "         3971.58286896,   3051.88762797,   1953.34916618,   1857.35250158,\n",
       "        13870.3112132 ,  13925.83153331,   4982.86093024,   1383.35259693,\n",
       "         1759.70750259,   5610.67053999,   1757.97676053,   1601.92012292,\n",
       "         5406.34110121,    736.91024482,   2621.36740836,   6931.17882049,\n",
       "         3268.01957009,   3590.88308437,    465.94270723,   1556.12707332,\n",
       "          447.69411943,   1631.47737242,    484.96687181,      0.        ,\n",
       "         1075.55812454,   1415.54586459,   6192.81363193,      0.        ,\n",
       "         1921.10723752,    943.50669778,      0.        ,    321.74670401,\n",
       "         3000.88220593,      0.        ])"
      ]
     },
     "execution_count": 41,
     "metadata": {},
     "output_type": "execute_result"
    }
   ],
   "source": [
    "np.abs(lasso_lin_reg.coef_)"
   ]
  },
  {
   "cell_type": "code",
   "execution_count": 42,
   "metadata": {},
   "outputs": [
    {
     "data": {
      "text/plain": [
       "array([ 17782.68304116,  13925.83153331,  13870.3112132 ,   6931.17882049,\n",
       "         6491.88690314,   6192.81363193,   5610.67053999,   5406.34110121,\n",
       "         5221.07791478,   5084.32911885])"
      ]
     },
     "execution_count": 42,
     "metadata": {},
     "output_type": "execute_result"
    }
   ],
   "source": [
    "# Creates array of top 10 coefficients by absolute value\n",
    "lasso_lin_reg.coef_[np.abs(lasso_lin_reg.coef_).argsort()[::-1][:10]]"
   ]
  },
  {
   "cell_type": "code",
   "execution_count": 43,
   "metadata": {},
   "outputs": [
    {
     "data": {
      "text/plain": [
       "array([ 2, 13, 12, 23,  3, 34, 17, 20,  7,  6])"
      ]
     },
     "execution_count": 43,
     "metadata": {},
     "output_type": "execute_result"
    }
   ],
   "source": [
    "# Creates array of indices corresponding to the top 10 \n",
    "np.abs(lasso_lin_reg.coef_).argsort()[::-1][:10]"
   ]
  },
  {
   "cell_type": "code",
   "execution_count": 44,
   "metadata": {},
   "outputs": [
    {
     "data": {
      "text/plain": [
       "Index(['OverallQual', '2ndFlrSF', '1stFlrSF', 'GarageCars', 'OverallCond',\n",
       "       'HouseStyle_1LvL', 'KitchenQual', 'FireplaceQu', 'BsmtQual',\n",
       "       'MasVnrArea'],\n",
       "      dtype='object')"
      ]
     },
     "execution_count": 44,
     "metadata": {},
     "output_type": "execute_result"
    }
   ],
   "source": [
    "top_10_Lcoefs = train_xs.columns[np.abs(lasso_lin_reg.coef_).argsort()[::-1][:10]]\n",
    "top_10_Lcoefs"
   ]
  },
  {
   "cell_type": "code",
   "execution_count": 45,
   "metadata": {},
   "outputs": [
    {
     "name": "stdout",
     "output_type": "stream",
     "text": [
      "OverallQual 259.48389603\n",
      "2ndFlrSF 4040.44291725\n",
      "1stFlrSF 17782.6830412\n",
      "GarageCars 6491.88690314\n",
      "OverallCond 4440.08202598\n",
      "HouseStyle_1LvL 0.0\n",
      "KitchenQual 5084.32911885\n",
      "FireplaceQu 5221.07791478\n",
      "BsmtQual 3971.58286896\n",
      "MasVnrArea 3051.88762797\n"
     ]
    }
   ],
   "source": [
    "for col, coef in zip(top_10_Lcoefs, np.abs(lasso_lin_reg.coef_)):\n",
    "    print(col, coef)"
   ]
  },
  {
   "cell_type": "markdown",
   "metadata": {},
   "source": [
    "The coefficients of the above features have the largest relative magnitude. I will make a new dataframe and re-run my linear model see if it improves accuracy."
   ]
  },
  {
   "cell_type": "code",
   "execution_count": 46,
   "metadata": {
    "collapsed": true
   },
   "outputs": [],
   "source": [
    "# Creates new dataframes using only the top 10 features extracted with the Lasso regression\n",
    "df_xtrain2 = pd.DataFrame(data=scaled_xtrain, columns=train_xs.columns)[top_10_Lcoefs]\n",
    "df_xtest2 = pd.DataFrame(data=scaler.transform(X_test), columns=train_xs.columns)[top_10_Lcoefs]"
   ]
  },
  {
   "cell_type": "code",
   "execution_count": 47,
   "metadata": {},
   "outputs": [
    {
     "data": {
      "text/html": [
       "<div>\n",
       "<style>\n",
       "    .dataframe thead tr:only-child th {\n",
       "        text-align: right;\n",
       "    }\n",
       "\n",
       "    .dataframe thead th {\n",
       "        text-align: left;\n",
       "    }\n",
       "\n",
       "    .dataframe tbody tr th {\n",
       "        vertical-align: top;\n",
       "    }\n",
       "</style>\n",
       "<table border=\"1\" class=\"dataframe\">\n",
       "  <thead>\n",
       "    <tr style=\"text-align: right;\">\n",
       "      <th></th>\n",
       "      <th>OverallQual</th>\n",
       "      <th>2ndFlrSF</th>\n",
       "      <th>1stFlrSF</th>\n",
       "      <th>GarageCars</th>\n",
       "      <th>OverallCond</th>\n",
       "      <th>HouseStyle_1LvL</th>\n",
       "      <th>KitchenQual</th>\n",
       "      <th>FireplaceQu</th>\n",
       "      <th>BsmtQual</th>\n",
       "      <th>MasVnrArea</th>\n",
       "    </tr>\n",
       "  </thead>\n",
       "  <tbody>\n",
       "    <tr>\n",
       "      <th>0</th>\n",
       "      <td>0.696682</td>\n",
       "      <td>-0.795086</td>\n",
       "      <td>0.710304</td>\n",
       "      <td>0.320413</td>\n",
       "      <td>-0.532307</td>\n",
       "      <td>0.984543</td>\n",
       "      <td>0.767856</td>\n",
       "      <td>-0.987319</td>\n",
       "      <td>0.591838</td>\n",
       "      <td>0.022961</td>\n",
       "    </tr>\n",
       "    <tr>\n",
       "      <th>1</th>\n",
       "      <td>-0.819486</td>\n",
       "      <td>-0.795086</td>\n",
       "      <td>-0.164534</td>\n",
       "      <td>0.320413</td>\n",
       "      <td>-0.532307</td>\n",
       "      <td>0.984543</td>\n",
       "      <td>-0.782344</td>\n",
       "      <td>-0.987319</td>\n",
       "      <td>1.774287</td>\n",
       "      <td>-0.592053</td>\n",
       "    </tr>\n",
       "    <tr>\n",
       "      <th>2</th>\n",
       "      <td>-0.061402</td>\n",
       "      <td>0.729983</td>\n",
       "      <td>-1.099978</td>\n",
       "      <td>0.320413</td>\n",
       "      <td>0.359192</td>\n",
       "      <td>-1.015700</td>\n",
       "      <td>-0.782344</td>\n",
       "      <td>0.677809</td>\n",
       "      <td>-0.590611</td>\n",
       "      <td>-0.592053</td>\n",
       "    </tr>\n",
       "    <tr>\n",
       "      <th>3</th>\n",
       "      <td>-0.061402</td>\n",
       "      <td>1.018822</td>\n",
       "      <td>-0.907619</td>\n",
       "      <td>0.320413</td>\n",
       "      <td>-0.532307</td>\n",
       "      <td>-1.015700</td>\n",
       "      <td>-0.782344</td>\n",
       "      <td>0.677809</td>\n",
       "      <td>0.591838</td>\n",
       "      <td>-0.592053</td>\n",
       "    </tr>\n",
       "    <tr>\n",
       "      <th>4</th>\n",
       "      <td>1.454765</td>\n",
       "      <td>-0.795086</td>\n",
       "      <td>0.886853</td>\n",
       "      <td>0.320413</td>\n",
       "      <td>-0.532307</td>\n",
       "      <td>0.984543</td>\n",
       "      <td>0.767856</td>\n",
       "      <td>1.232852</td>\n",
       "      <td>0.591838</td>\n",
       "      <td>-0.592053</td>\n",
       "    </tr>\n",
       "  </tbody>\n",
       "</table>\n",
       "</div>"
      ],
      "text/plain": [
       "   OverallQual  2ndFlrSF  1stFlrSF  GarageCars  OverallCond  HouseStyle_1LvL  \\\n",
       "0     0.696682 -0.795086  0.710304    0.320413    -0.532307         0.984543   \n",
       "1    -0.819486 -0.795086 -0.164534    0.320413    -0.532307         0.984543   \n",
       "2    -0.061402  0.729983 -1.099978    0.320413     0.359192        -1.015700   \n",
       "3    -0.061402  1.018822 -0.907619    0.320413    -0.532307        -1.015700   \n",
       "4     1.454765 -0.795086  0.886853    0.320413    -0.532307         0.984543   \n",
       "\n",
       "   KitchenQual  FireplaceQu  BsmtQual  MasVnrArea  \n",
       "0     0.767856    -0.987319  0.591838    0.022961  \n",
       "1    -0.782344    -0.987319  1.774287   -0.592053  \n",
       "2    -0.782344     0.677809 -0.590611   -0.592053  \n",
       "3    -0.782344     0.677809  0.591838   -0.592053  \n",
       "4     0.767856     1.232852  0.591838   -0.592053  "
      ]
     },
     "execution_count": 47,
     "metadata": {},
     "output_type": "execute_result"
    }
   ],
   "source": [
    "df_xtrain2.head()"
   ]
  },
  {
   "cell_type": "code",
   "execution_count": 48,
   "metadata": {},
   "outputs": [
    {
     "data": {
      "text/plain": [
       "LinearRegression(copy_X=True, fit_intercept=True, n_jobs=1, normalize=False)"
      ]
     },
     "execution_count": 48,
     "metadata": {},
     "output_type": "execute_result"
    }
   ],
   "source": [
    "lin_reg.fit(df_xtrain2, y_train)"
   ]
  },
  {
   "cell_type": "code",
   "execution_count": 49,
   "metadata": {
    "collapsed": true
   },
   "outputs": [],
   "source": [
    "y_predict_OLS2 = lin_reg.predict(df_xtest2)"
   ]
  },
  {
   "cell_type": "code",
   "execution_count": 50,
   "metadata": {},
   "outputs": [
    {
     "data": {
      "text/plain": [
       "27743.740136045442"
      ]
     },
     "execution_count": 50,
     "metadata": {},
     "output_type": "execute_result"
    }
   ],
   "source": [
    "np.sqrt(mean_squared_error(y_test, y_predict_OLS2))"
   ]
  },
  {
   "cell_type": "markdown",
   "metadata": {
    "collapsed": true
   },
   "source": [
    "While this linear regression does not improve the mean squared error of the original OLS regression, it achieves a relatively comparable RMSE with less than 25% of the features. This fact may indicate that this new model has a lower likelihood of overfitting. To verify that this model performs better out of sample, I will compare the training and testing RMSEs' of a model using both the original data and the new data frame (the 10 feature df derived from the lasso model). I expect that the model using fewer features will have training and test RMSEs that are closer together."
   ]
  },
  {
   "cell_type": "markdown",
   "metadata": {
    "collapsed": true
   },
   "source": [
    "**3.  GridSearchCV with L1, L2, and Elasticnet Specifications**"
   ]
  },
  {
   "cell_type": "markdown",
   "metadata": {},
   "source": [
    "The following model uses all of the features."
   ]
  },
  {
   "cell_type": "code",
   "execution_count": 51,
   "metadata": {},
   "outputs": [
    {
     "name": "stdout",
     "output_type": "stream",
     "text": [
      "Best Parameters: {'alpha': 1, 'eta0': 0.03, 'penalty': 'l2', 'tol': 0.001}\n"
     ]
    }
   ],
   "source": [
    "param_grid = {\"penalty\": ['l2','l1','elasticnet'], 'alpha':[.01, .1, .5, 1, 10], \n",
    "              \"eta0\": [ .001, .003, .01, .03, .1, .3, 1, 3], \"tol\": [.001, .0001]}\n",
    "grid_search = GridSearchCV(linear_model.SGDRegressor(), param_grid, scoring='neg_mean_squared_error')\n",
    "\n",
    "grid_search.fit(scaled_xtrain, y_train)\n",
    "print(\"Best Parameters: {}\".format(grid_search.best_params_))"
   ]
  },
  {
   "cell_type": "code",
   "execution_count": 52,
   "metadata": {},
   "outputs": [
    {
     "name": "stdout",
     "output_type": "stream",
     "text": [
      "Train RMSE: 31324.919299600402\n",
      "Test RMSE: 27406.06619799706\n"
     ]
    }
   ],
   "source": [
    "# Calculates train and test predictions using best estimator found during the grid search\n",
    "y_predict_xtrain_all = grid_search.best_estimator_.predict(scaled_xtrain)\n",
    "print(\"Train RMSE: {}\".format(np.sqrt(mean_squared_error(y_train, y_predict_xtrain_all))))\n",
    "\n",
    "y_predict_xtest_all = grid_search.best_estimator_.predict(scaler.transform(X_test))\n",
    "print(\"Test RMSE: {}\".format(np.sqrt(mean_squared_error(y_test, y_predict_xtest_all))))"
   ]
  },
  {
   "cell_type": "markdown",
   "metadata": {},
   "source": [
    "The following model uses only the 10 features determined most important by the previous Lasso model."
   ]
  },
  {
   "cell_type": "code",
   "execution_count": 53,
   "metadata": {},
   "outputs": [
    {
     "name": "stdout",
     "output_type": "stream",
     "text": [
      "Best Parameters: {'alpha': 0.5, 'eta0': 0.03, 'penalty': 'elasticnet', 'tol': 0.0001}\n"
     ]
    }
   ],
   "source": [
    "param_grid = {\"penalty\": ['l2','l1','elasticnet'], 'alpha':[.01, .1, .5, 1, 10], \n",
    "              \"eta0\": [ .001, .003, .01, .03, .1, .3, 1, 3], \"tol\": [.001, .0001]}\n",
    "grid_search = GridSearchCV(linear_model.SGDRegressor(), param_grid, scoring='neg_mean_squared_error')\n",
    "\n",
    "grid_search.fit(df_xtrain2, y_train) # df_xtrain2, y_train\n",
    "print(\"Best Parameters: {}\".format(grid_search.best_params_))"
   ]
  },
  {
   "cell_type": "code",
   "execution_count": 54,
   "metadata": {},
   "outputs": [
    {
     "name": "stdout",
     "output_type": "stream",
     "text": [
      "Train RMSE: 31782.33726719057\n",
      "Test RMSE: 28997.707018800644\n"
     ]
    }
   ],
   "source": [
    "# Calculates train and test predictions using best estimator found during the grid search\n",
    "y_predict_xtrain_top10 = grid_search.best_estimator_.predict(df_xtrain2) # df_xtrain2\n",
    "print(\"Train RMSE: {}\".format(np.sqrt(mean_squared_error(y_train, y_predict_xtrain_top10))))\n",
    "\n",
    "y_predict_xtest_top10 = grid_search.best_estimator_.predict(df_xtest2) # df_xtest2 = RMSE 40,473.7\n",
    "print(\"Test RMSE: {}\".format(np.sqrt(mean_squared_error(y_test, y_predict_xtest_top10))))"
   ]
  },
  {
   "cell_type": "markdown",
   "metadata": {
    "collapsed": true
   },
   "source": [
    "As expected, the model using only 10 features performs significantly better out of sample than the model using all of the original features. This confirms my suspicion that the original model with all of the features overfit the training data. However, the RMSE is still quite awful, so I will move on to other models in hopes of improving predictive accuracy."
   ]
  },
  {
   "cell_type": "markdown",
   "metadata": {},
   "source": [
    "**4.  K-Nearest Neighbors**"
   ]
  },
  {
   "cell_type": "code",
   "execution_count": 55,
   "metadata": {
    "collapsed": true
   },
   "outputs": [],
   "source": [
    "from sklearn.neighbors import KNeighborsRegressor"
   ]
  },
  {
   "cell_type": "code",
   "execution_count": 56,
   "metadata": {
    "collapsed": true
   },
   "outputs": [],
   "source": [
    "kn_reg = KNeighborsRegressor()"
   ]
  },
  {
   "cell_type": "code",
   "execution_count": 57,
   "metadata": {
    "collapsed": true
   },
   "outputs": [],
   "source": [
    "gridsearchkn  = GridSearchCV(kn_reg, {\"n_neighbors\": [1, 3, 5, 7, 9, 11, 13], \"weights\": ['uniform', 'distance'], \n",
    "                                'p': [1, 2, 3]}, scoring = 'neg_mean_squared_error')"
   ]
  },
  {
   "cell_type": "code",
   "execution_count": 58,
   "metadata": {},
   "outputs": [
    {
     "data": {
      "text/plain": [
       "GridSearchCV(cv=None, error_score='raise',\n",
       "       estimator=KNeighborsRegressor(algorithm='auto', leaf_size=30, metric='minkowski',\n",
       "          metric_params=None, n_jobs=1, n_neighbors=5, p=2,\n",
       "          weights='uniform'),\n",
       "       fit_params=None, iid=True, n_jobs=1,\n",
       "       param_grid={'n_neighbors': [1, 3, 5, 7, 9, 11, 13], 'weights': ['uniform', 'distance'], 'p': [1, 2, 3]},\n",
       "       pre_dispatch='2*n_jobs', refit=True, return_train_score='warn',\n",
       "       scoring='neg_mean_squared_error', verbose=0)"
      ]
     },
     "execution_count": 58,
     "metadata": {},
     "output_type": "execute_result"
    }
   ],
   "source": [
    "gridsearchkn.fit(df_xtrain2, y_train) # df_xtrain2 # scaled_xtrain"
   ]
  },
  {
   "cell_type": "code",
   "execution_count": 59,
   "metadata": {},
   "outputs": [
    {
     "name": "stdout",
     "output_type": "stream",
     "text": [
      "Best Parameters: {'n_neighbors': 9, 'p': 1, 'weights': 'distance'}\n"
     ]
    }
   ],
   "source": [
    "print(\"Best Parameters: {}\".format(gridsearchkn.best_params_))"
   ]
  },
  {
   "cell_type": "code",
   "execution_count": 60,
   "metadata": {},
   "outputs": [
    {
     "name": "stdout",
     "output_type": "stream",
     "text": [
      "Train RMSE: 871.9467001717844\n",
      "Test RMSE: 29958.553812094975\n"
     ]
    }
   ],
   "source": [
    "y_predictKN_xtrain = gridsearchkn.best_estimator_.predict(df_xtrain2) # df_xtrain2 # scaled_xtrain\n",
    "print(\"Train RMSE: {}\".format(np.sqrt(mean_squared_error(y_train,y_predictKN_xtrain))))\n",
    "y_predictKN_xtest = gridsearchkn.best_estimator_.predict(df_xtest2) # df_xtest2 # scaler.transform(X_test)\n",
    "print(\"Test RMSE: {}\".format(np.sqrt(mean_squared_error(y_test, y_predictKN_xtest))))"
   ]
  },
  {
   "cell_type": "markdown",
   "metadata": {},
   "source": [
    "The K-Nearest Neighbors Regressor gives the best root mean squared error thus far, but that is not saying much given the still very high RMSE for the test set."
   ]
  },
  {
   "cell_type": "code",
   "execution_count": null,
   "metadata": {
    "collapsed": true
   },
   "outputs": [],
   "source": []
  }
 ],
 "metadata": {
  "kernelspec": {
   "display_name": "Python 3",
   "language": "python",
   "name": "python3"
  },
  "language_info": {
   "codemirror_mode": {
    "name": "ipython",
    "version": 3
   },
   "file_extension": ".py",
   "mimetype": "text/x-python",
   "name": "python",
   "nbconvert_exporter": "python",
   "pygments_lexer": "ipython3",
   "version": "3.6.4"
  }
 },
 "nbformat": 4,
 "nbformat_minor": 2
}
