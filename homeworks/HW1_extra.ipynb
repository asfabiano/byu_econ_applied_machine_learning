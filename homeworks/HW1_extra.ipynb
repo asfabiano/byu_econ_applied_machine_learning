{
 "cells": [
  {
   "cell_type": "code",
   "execution_count": null,
   "metadata": {
    "collapsed": true
   },
   "outputs": [],
   "source": [
    "g = sns.PairGrid(nhanes[['age', 'weight']])\n",
    "g.map(plt.scatter);"
   ]
  },
  {
   "cell_type": "code",
   "execution_count": 1,
   "metadata": {
    "collapsed": true
   },
   "outputs": [],
   "source": [
    "## the following code resulted from a failed attempt to make a histogram divided into bins, but actually works to\n",
    "## segment the column data into bins.\n",
    "## x = pd.cut(nhanes['age'], bins = np.linspace(0,85,18), retbins = True)"
   ]
  },
  {
   "cell_type": "code",
   "execution_count": null,
   "metadata": {
    "collapsed": true
   },
   "outputs": [],
   "source": [
    "cps['age'].hist(color =\"#4F91F6\", edgecolor = \"black\", figsize = (14,5.5))\n",
    "plt.title(\"Age Distribution\", fontsize=16)\n",
    "plt.ylabel(\"Count of Age\", fontsize = 12)\n",
    "plt.xlabel(\"Age\", fontsize = 12)"
   ]
  }
 ],
 "metadata": {
  "kernelspec": {
   "display_name": "Python 3",
   "language": "python",
   "name": "python3"
  },
  "language_info": {
   "codemirror_mode": {
    "name": "ipython",
    "version": 3
   },
   "file_extension": ".py",
   "mimetype": "text/x-python",
   "name": "python",
   "nbconvert_exporter": "python",
   "pygments_lexer": "ipython3",
   "version": "3.6.3"
  }
 },
 "nbformat": 4,
 "nbformat_minor": 2
}
