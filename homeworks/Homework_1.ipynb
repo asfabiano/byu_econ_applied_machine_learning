{
 "cells": [
  {
   "cell_type": "markdown",
   "metadata": {},
   "source": [
    "## Data Cleaning, Describing, and Visualization\n",
    "\n",
    "### Step 1 - Get your environment setup\n",
    "\n",
    "1. Install Git on your computer and fork the class repository on [Github](https://github.com/tfolkman/byu_econ_applied_machine_learning).\n",
    "2. Install [Anaconda](https://conda.io/docs/install/quick.html) and get it working.\n",
    "\n",
    "### Step 2 - Explore Datasets\n",
    "\n",
    "The goals of this project are:\n",
    "\n",
    "1. Read in data from multiple sources\n",
    "2. Gain practice cleaning, describing, and visualizing data\n",
    "\n",
    "To this end, you need to find from three different sources. For example: CSV, JSON, and API, SQL, or web scraping. For each of these data sets, you must perform the following:\n",
    "\n",
    "1. Data cleaning. Some options your might consider: handle missing data, handle outliers, scale the data, convert some data to categorical.\n",
    "2. Describe data. Provide tables, statistics, and summaries of your data.\n",
    "3. Visualize data. Provide visualizations of your data.\n",
    "\n",
    "These are the typical first steps of any data science project and are often the most time consuming. My hope is that in going through this process 3 different times, that you will gain a sense for it.\n",
    "\n",
    "Also, as you are doing this, please tell us a story. Explain in your notebook why are doing what you are doing and to what end. Telling a story in your analysis is a crucial skill for data scientists. There are almost an infinite amount of ways to analyze a data set; help us understand why you choose your particular path and why we should care.\n",
    "\n",
    "Also - this homework is very open-ended and we provided you with basically no starting point. I realize this increases the difficulty and complexity, but I think it is worth it. It is much closer to what you might experience in industry and allows you to find data that might excite you!"
   ]
  },
  {
   "cell_type": "markdown",
   "metadata": {},
   "source": [
    "## Homework 1\n",
    "## Alexander Fabiano\n",
    "## Applied Machine Learning"
   ]
  },
  {
   "cell_type": "code",
   "execution_count": 2,
   "metadata": {
    "collapsed": true
   },
   "outputs": [],
   "source": [
    "import pandas as pd\n",
    "import numpy as np\n",
    "from matplotlib import pyplot as plt\n",
    "##plt.style.use(\"seaborn\")\n",
    "import seaborn as sns\n",
    "import json\n",
    "%matplotlib inline \n",
    "##this command eliminates the need to do plt.show() after each plot"
   ]
  },
  {
   "cell_type": "markdown",
   "metadata": {},
   "source": [
    "### Comma Separated File (CSV)\n",
    "**1. Read in CSV files**"
   ]
  },
  {
   "cell_type": "markdown",
   "metadata": {},
   "source": [
    "The following data set is from the National Health and Nutrition Examination Survey, a subset of the CDC database."
   ]
  },
  {
   "cell_type": "code",
   "execution_count": 64,
   "metadata": {},
   "outputs": [
    {
     "data": {
      "text/html": [
       "<div>\n",
       "<style>\n",
       "    .dataframe thead tr:only-child th {\n",
       "        text-align: right;\n",
       "    }\n",
       "\n",
       "    .dataframe thead th {\n",
       "        text-align: left;\n",
       "    }\n",
       "\n",
       "    .dataframe tbody tr th {\n",
       "        vertical-align: top;\n",
       "    }\n",
       "</style>\n",
       "<table border=\"1\" class=\"dataframe\">\n",
       "  <thead>\n",
       "    <tr style=\"text-align: right;\">\n",
       "      <th></th>\n",
       "      <th>seqn</th>\n",
       "      <th>gender</th>\n",
       "      <th>age</th>\n",
       "      <th>race</th>\n",
       "      <th>citizen</th>\n",
       "      <th>education</th>\n",
       "      <th>married</th>\n",
       "      <th>hsize</th>\n",
       "      <th>hincome</th>\n",
       "      <th>weight</th>\n",
       "      <th>height</th>\n",
       "      <th>bmi</th>\n",
       "      <th>waist</th>\n",
       "      <th>grip</th>\n",
       "    </tr>\n",
       "  </thead>\n",
       "  <tbody>\n",
       "    <tr>\n",
       "      <th>0</th>\n",
       "      <td>73557</td>\n",
       "      <td>M</td>\n",
       "      <td>69</td>\n",
       "      <td>B</td>\n",
       "      <td>True</td>\n",
       "      <td>High School</td>\n",
       "      <td>4.0</td>\n",
       "      <td>3</td>\n",
       "      <td>4.0</td>\n",
       "      <td>78.3</td>\n",
       "      <td>171.3</td>\n",
       "      <td>26.7</td>\n",
       "      <td>100.0</td>\n",
       "      <td>55.2</td>\n",
       "    </tr>\n",
       "    <tr>\n",
       "      <th>1</th>\n",
       "      <td>73558</td>\n",
       "      <td>M</td>\n",
       "      <td>54</td>\n",
       "      <td>W</td>\n",
       "      <td>True</td>\n",
       "      <td>High School</td>\n",
       "      <td>1.0</td>\n",
       "      <td>4</td>\n",
       "      <td>7.0</td>\n",
       "      <td>89.5</td>\n",
       "      <td>176.8</td>\n",
       "      <td>28.6</td>\n",
       "      <td>107.6</td>\n",
       "      <td>61.5</td>\n",
       "    </tr>\n",
       "    <tr>\n",
       "      <th>2</th>\n",
       "      <td>73559</td>\n",
       "      <td>M</td>\n",
       "      <td>72</td>\n",
       "      <td>W</td>\n",
       "      <td>True</td>\n",
       "      <td>Some College</td>\n",
       "      <td>1.0</td>\n",
       "      <td>2</td>\n",
       "      <td>10.0</td>\n",
       "      <td>88.9</td>\n",
       "      <td>175.3</td>\n",
       "      <td>28.9</td>\n",
       "      <td>109.2</td>\n",
       "      <td>91.0</td>\n",
       "    </tr>\n",
       "    <tr>\n",
       "      <th>3</th>\n",
       "      <td>73560</td>\n",
       "      <td>M</td>\n",
       "      <td>9</td>\n",
       "      <td>W</td>\n",
       "      <td>True</td>\n",
       "      <td>NaN</td>\n",
       "      <td>NaN</td>\n",
       "      <td>4</td>\n",
       "      <td>9.0</td>\n",
       "      <td>32.2</td>\n",
       "      <td>137.3</td>\n",
       "      <td>17.1</td>\n",
       "      <td>61.0</td>\n",
       "      <td>32.2</td>\n",
       "    </tr>\n",
       "    <tr>\n",
       "      <th>4</th>\n",
       "      <td>73561</td>\n",
       "      <td>F</td>\n",
       "      <td>73</td>\n",
       "      <td>W</td>\n",
       "      <td>True</td>\n",
       "      <td>College</td>\n",
       "      <td>1.0</td>\n",
       "      <td>2</td>\n",
       "      <td>15.0</td>\n",
       "      <td>52.0</td>\n",
       "      <td>162.4</td>\n",
       "      <td>19.7</td>\n",
       "      <td>NaN</td>\n",
       "      <td>30.9</td>\n",
       "    </tr>\n",
       "  </tbody>\n",
       "</table>\n",
       "</div>"
      ],
      "text/plain": [
       "    seqn gender  age race citizen     education  married  hsize  hincome  \\\n",
       "0  73557      M   69    B    True   High School      4.0      3      4.0   \n",
       "1  73558      M   54    W    True   High School      1.0      4      7.0   \n",
       "2  73559      M   72    W    True  Some College      1.0      2     10.0   \n",
       "3  73560      M    9    W    True           NaN      NaN      4      9.0   \n",
       "4  73561      F   73    W    True       College      1.0      2     15.0   \n",
       "\n",
       "   weight  height   bmi  waist  grip  \n",
       "0    78.3   171.3  26.7  100.0  55.2  \n",
       "1    89.5   176.8  28.6  107.6  61.5  \n",
       "2    88.9   175.3  28.9  109.2  91.0  \n",
       "3    32.2   137.3  17.1   61.0  32.2  \n",
       "4    52.0   162.4  19.7    NaN  30.9  "
      ]
     },
     "execution_count": 64,
     "metadata": {},
     "output_type": "execute_result"
    }
   ],
   "source": [
    "nhanes = pd.read_csv(\"nhanes.csv\")\n",
    "nhanes.head()\n",
    "##list(nhanes) ##lists only column names from dataframe"
   ]
  },
  {
   "cell_type": "markdown",
   "metadata": {},
   "source": [
    "**2. Data Cleaning**"
   ]
  },
  {
   "cell_type": "code",
   "execution_count": 61,
   "metadata": {
    "scrolled": true
   },
   "outputs": [
    {
     "data": {
      "text/plain": [
       "array([  4.,   1.,  nan,   3.,   2.,   5.,   6.,  77.,  99.])"
      ]
     },
     "execution_count": 61,
     "metadata": {},
     "output_type": "execute_result"
    }
   ],
   "source": [
    "nhanes.married.unique()"
   ]
  },
  {
   "cell_type": "markdown",
   "metadata": {},
   "source": [
    "This data set was acquired second-hand and no documentation on the 'married' variable could be acquired, \n",
    "so it will not be used in any analysis. The variable *seqn* will also be dropped since it is merely an arbitrary index."
   ]
  },
  {
   "cell_type": "code",
   "execution_count": 65,
   "metadata": {},
   "outputs": [],
   "source": [
    "nhanes.drop(['married','seqn'], axis=1, inplace=True) ##axis=1 specifies a column"
   ]
  },
  {
   "cell_type": "markdown",
   "metadata": {},
   "source": [
    "The variables *weight, height* and *waist* are all in terms of the metric system. For the sake of familiarity, they will be converted to our inferior native language, the standard system."
   ]
  },
  {
   "cell_type": "code",
   "execution_count": 66,
   "metadata": {},
   "outputs": [
    {
     "data": {
      "text/html": [
       "<div>\n",
       "<style>\n",
       "    .dataframe thead tr:only-child th {\n",
       "        text-align: right;\n",
       "    }\n",
       "\n",
       "    .dataframe thead th {\n",
       "        text-align: left;\n",
       "    }\n",
       "\n",
       "    .dataframe tbody tr th {\n",
       "        vertical-align: top;\n",
       "    }\n",
       "</style>\n",
       "<table border=\"1\" class=\"dataframe\">\n",
       "  <thead>\n",
       "    <tr style=\"text-align: right;\">\n",
       "      <th></th>\n",
       "      <th>gender</th>\n",
       "      <th>age</th>\n",
       "      <th>race</th>\n",
       "      <th>citizen</th>\n",
       "      <th>education</th>\n",
       "      <th>hsize</th>\n",
       "      <th>hincome</th>\n",
       "      <th>weight</th>\n",
       "      <th>height</th>\n",
       "      <th>bmi</th>\n",
       "      <th>waist</th>\n",
       "      <th>grip</th>\n",
       "    </tr>\n",
       "  </thead>\n",
       "  <tbody>\n",
       "    <tr>\n",
       "      <th>0</th>\n",
       "      <td>M</td>\n",
       "      <td>69</td>\n",
       "      <td>B</td>\n",
       "      <td>True</td>\n",
       "      <td>High School</td>\n",
       "      <td>3</td>\n",
       "      <td>4.0</td>\n",
       "      <td>173.0</td>\n",
       "      <td>67.4</td>\n",
       "      <td>26.7</td>\n",
       "      <td>39.4</td>\n",
       "      <td>55.2</td>\n",
       "    </tr>\n",
       "    <tr>\n",
       "      <th>1</th>\n",
       "      <td>M</td>\n",
       "      <td>54</td>\n",
       "      <td>W</td>\n",
       "      <td>True</td>\n",
       "      <td>High School</td>\n",
       "      <td>4</td>\n",
       "      <td>7.0</td>\n",
       "      <td>197.0</td>\n",
       "      <td>69.6</td>\n",
       "      <td>28.6</td>\n",
       "      <td>42.4</td>\n",
       "      <td>61.5</td>\n",
       "    </tr>\n",
       "    <tr>\n",
       "      <th>2</th>\n",
       "      <td>M</td>\n",
       "      <td>72</td>\n",
       "      <td>W</td>\n",
       "      <td>True</td>\n",
       "      <td>Some College</td>\n",
       "      <td>2</td>\n",
       "      <td>10.0</td>\n",
       "      <td>196.0</td>\n",
       "      <td>69.0</td>\n",
       "      <td>28.9</td>\n",
       "      <td>43.0</td>\n",
       "      <td>91.0</td>\n",
       "    </tr>\n",
       "    <tr>\n",
       "      <th>3</th>\n",
       "      <td>M</td>\n",
       "      <td>9</td>\n",
       "      <td>W</td>\n",
       "      <td>True</td>\n",
       "      <td>NaN</td>\n",
       "      <td>4</td>\n",
       "      <td>9.0</td>\n",
       "      <td>71.0</td>\n",
       "      <td>54.1</td>\n",
       "      <td>17.1</td>\n",
       "      <td>24.0</td>\n",
       "      <td>32.2</td>\n",
       "    </tr>\n",
       "    <tr>\n",
       "      <th>4</th>\n",
       "      <td>F</td>\n",
       "      <td>73</td>\n",
       "      <td>W</td>\n",
       "      <td>True</td>\n",
       "      <td>College</td>\n",
       "      <td>2</td>\n",
       "      <td>15.0</td>\n",
       "      <td>115.0</td>\n",
       "      <td>63.9</td>\n",
       "      <td>19.7</td>\n",
       "      <td>NaN</td>\n",
       "      <td>30.9</td>\n",
       "    </tr>\n",
       "  </tbody>\n",
       "</table>\n",
       "</div>"
      ],
      "text/plain": [
       "  gender  age race citizen     education  hsize  hincome  weight  height  \\\n",
       "0      M   69    B    True   High School      3      4.0   173.0    67.4   \n",
       "1      M   54    W    True   High School      4      7.0   197.0    69.6   \n",
       "2      M   72    W    True  Some College      2     10.0   196.0    69.0   \n",
       "3      M    9    W    True           NaN      4      9.0    71.0    54.1   \n",
       "4      F   73    W    True       College      2     15.0   115.0    63.9   \n",
       "\n",
       "    bmi  waist  grip  \n",
       "0  26.7   39.4  55.2  \n",
       "1  28.6   42.4  61.5  \n",
       "2  28.9   43.0  91.0  \n",
       "3  17.1   24.0  32.2  \n",
       "4  19.7    NaN  30.9  "
      ]
     },
     "execution_count": 66,
     "metadata": {},
     "output_type": "execute_result"
    }
   ],
   "source": [
    "nhanes.weight = (nhanes.weight*2.20462).round(0) ## kg to pounds\n",
    "nhanes.height = (nhanes.height/2.54).round(1) ## centimeters to inches\n",
    "nhanes.waist = (nhanes.waist/2.54).round(1) ## centimeters to inches\n",
    "nhanes.head()"
   ]
  },
  {
   "cell_type": "markdown",
   "metadata": {},
   "source": [
    "Number of null values by column:"
   ]
  },
  {
   "cell_type": "code",
   "execution_count": 7,
   "metadata": {},
   "outputs": [
    {
     "data": {
      "text/plain": [
       "seqn            0\n",
       "gender          0\n",
       "age             0\n",
       "race            0\n",
       "citizen         4\n",
       "education    4406\n",
       "hsize           0\n",
       "hincome       133\n",
       "weight        452\n",
       "height       1108\n",
       "bmi          1120\n",
       "waist        1514\n",
       "grip         2498\n",
       "dtype: int64"
      ]
     },
     "execution_count": 7,
     "metadata": {},
     "output_type": "execute_result"
    }
   ],
   "source": [
    "nhanes.isnull().sum()"
   ]
  },
  {
   "cell_type": "code",
   "execution_count": 25,
   "metadata": {},
   "outputs": [
    {
     "name": "stdout",
     "output_type": "stream",
     "text": [
      "The total number of null values in the data set is: 11235\n"
     ]
    }
   ],
   "source": [
    "print('The total number of null values in the data set is: {}'.format(nhanes.isnull().values.ravel().sum()))"
   ]
  },
  {
   "cell_type": "markdown",
   "metadata": {},
   "source": [
    "With this amount of null values, it is worth investigating the columns of interest with more than $10\\%$ null values such as *education, height,* and *grip*. Although *waist* and *bmi* have greater than $10\\%$ null values, they are mechanically related to height and weight, so they are not of great importance in this project."
   ]
  },
  {
   "cell_type": "code",
   "execution_count": 18,
   "metadata": {},
   "outputs": [
    {
     "data": {
      "text/plain": [
       "Some College    1770\n",
       "College         1443\n",
       "High School     1303\n",
       "9-11             791\n",
       "< 9              455\n",
       "Do not know        5\n",
       "Refused            2\n",
       "Name: education, dtype: int64"
      ]
     },
     "execution_count": 18,
     "metadata": {},
     "output_type": "execute_result"
    }
   ],
   "source": [
    "nhanes.education.value_counts()"
   ]
  },
  {
   "cell_type": "code",
   "execution_count": 83,
   "metadata": {},
   "outputs": [
    {
     "data": {
      "text/plain": [
       "Text(0.5,0,'Age')"
      ]
     },
     "execution_count": 83,
     "metadata": {},
     "output_type": "execute_result"
    },
    {
     "data": {
      "image/png": "[encoded data removed]",
      "text/plain": [
       "<matplotlib.figure.Figure at 0x1a21879be0>"
      ]
     },
     "metadata": {},
     "output_type": "display_data"
    }
   ],
   "source": [
    "nhanes[nhanes['education'].isnull()]['age'].hist(bins = 10, color =\"#99D8F2\", edgecolor = \"black\", figsize = (8,5.5))\n",
    "plt.title(\"Age Distribution of Missing 'Education' Values\", fontsize=16)\n",
    "plt.ylabel(\"Count of Null 'Education' Values\", fontsize = 12)\n",
    "plt.xlabel(\"Age\", fontsize = 12)"
   ]
  },
  {
   "cell_type": "markdown",
   "metadata": {},
   "source": [
    "The null values in *education* are concentrated for individuals under the age of 18. This clearly exhibits some sort of systematic error in the data; however, no intuitive explanation is apparent. In the analysis, any inferences regarding education for those under 18 are likely to be biased since over $30\\%$ of the data are null in this category."
   ]
  },
  {
   "cell_type": "code",
   "execution_count": 82,
   "metadata": {},
   "outputs": [
    {
     "data": {
      "text/plain": [
       "Text(0.5,0,'Age')"
      ]
     },
     "execution_count": 82,
     "metadata": {},
     "output_type": "execute_result"
    },
    {
     "data": {
      "image/png": "[encoded data removed]",
      "text/plain": [
       "<matplotlib.figure.Figure at 0x1a21ca8940>"
      ]
     },
     "metadata": {},
     "output_type": "display_data"
    }
   ],
   "source": [
    "nhanes[nhanes['height'].isnull()]['age'].hist(bins = 18, color =\"#99D8F2\", edgecolor = \"black\", figsize = (8,5.5))\n",
    "plt.xticks(np.arange(0,85,5))\n",
    "plt.title(\"Age Distribution of Missing 'Height' Values\", fontsize=16)\n",
    "plt.ylabel(\"Count of Null 'Height' Values\", fontsize = 12)\n",
    "plt.xlabel(\"Age\", fontsize = 12)\n",
    "##nhanes[nhanes['height'].isnull()][['height','age']] ## shows ages where height = null"
   ]
  },
  {
   "cell_type": "markdown",
   "metadata": {},
   "source": [
    "The above graph exhibits the number of null values in the \"height\" category by age brackets. Investigating this relationship shows that \"height\" null values occur systematically for infants and toddlers. This means that any analysis involving individuals below the age of 5 will have bias due to the disproportionate amount of missing values for this age bracket. "
   ]
  },
  {
   "cell_type": "code",
   "execution_count": 81,
   "metadata": {},
   "outputs": [
    {
     "data": {
      "text/plain": [
       "Text(0.5,0,'Age')"
      ]
     },
     "execution_count": 81,
     "metadata": {},
     "output_type": "execute_result"
    },
    {
     "data": {
      "image/png": "[encoded data removed]",
      "text/plain": [
       "<matplotlib.figure.Figure at 0x1a218791d0>"
      ]
     },
     "metadata": {},
     "output_type": "display_data"
    }
   ],
   "source": [
    "nhanes[nhanes['grip'].isnull()]['age'].hist(bins = 16, color =\"#99D8F2\", edgecolor = \"black\",figsize = (8,5.5))\n",
    "plt.xticks(np.arange(0,85,5))\n",
    "plt.title(\"Age Distribution of Missing 'Grip' Values\", fontsize=16)\n",
    "plt.ylabel(\"Count of Null 'Grip' Values\", fontsize = 12)\n",
    "plt.xlabel(\"Age\", fontsize = 12)"
   ]
  },
  {
   "cell_type": "markdown",
   "metadata": {
    "collapsed": true
   },
   "source": [
    "Much like the *height* column, most of the *grip* missing values occur for infants, toddles, and small children under the age of eight. This is not disconcerting since grip strength is of little importance for most individuals in this age bracket."
   ]
  },
  {
   "cell_type": "markdown",
   "metadata": {},
   "source": [
    "**3. Data Description and Visualization**"
   ]
  },
  {
   "cell_type": "code",
   "execution_count": 12,
   "metadata": {},
   "outputs": [
    {
     "data": {
      "text/html": [
       "<div>\n",
       "<style>\n",
       "    .dataframe thead tr:only-child th {\n",
       "        text-align: right;\n",
       "    }\n",
       "\n",
       "    .dataframe thead th {\n",
       "        text-align: left;\n",
       "    }\n",
       "\n",
       "    .dataframe tbody tr th {\n",
       "        vertical-align: top;\n",
       "    }\n",
       "</style>\n",
       "<table border=\"1\" class=\"dataframe\">\n",
       "  <thead>\n",
       "    <tr style=\"text-align: right;\">\n",
       "      <th></th>\n",
       "      <th>seqn</th>\n",
       "      <th>age</th>\n",
       "      <th>hsize</th>\n",
       "      <th>hincome</th>\n",
       "      <th>weight</th>\n",
       "      <th>height</th>\n",
       "      <th>bmi</th>\n",
       "      <th>waist</th>\n",
       "      <th>grip</th>\n",
       "    </tr>\n",
       "  </thead>\n",
       "  <tbody>\n",
       "    <tr>\n",
       "      <th>count</th>\n",
       "      <td>10175.00</td>\n",
       "      <td>10175.00</td>\n",
       "      <td>10175.00</td>\n",
       "      <td>10042.00</td>\n",
       "      <td>9723.00</td>\n",
       "      <td>9067.00</td>\n",
       "      <td>9055.00</td>\n",
       "      <td>8661.00</td>\n",
       "      <td>7677.00</td>\n",
       "    </tr>\n",
       "    <tr>\n",
       "      <th>mean</th>\n",
       "      <td>78644.00</td>\n",
       "      <td>31.48</td>\n",
       "      <td>3.87</td>\n",
       "      <td>10.88</td>\n",
       "      <td>138.01</td>\n",
       "      <td>5.11</td>\n",
       "      <td>25.68</td>\n",
       "      <td>34.36</td>\n",
       "      <td>63.05</td>\n",
       "    </tr>\n",
       "    <tr>\n",
       "      <th>std</th>\n",
       "      <td>2937.41</td>\n",
       "      <td>24.42</td>\n",
       "      <td>1.72</td>\n",
       "      <td>13.88</td>\n",
       "      <td>71.28</td>\n",
       "      <td>0.76</td>\n",
       "      <td>7.96</td>\n",
       "      <td>8.88</td>\n",
       "      <td>25.10</td>\n",
       "    </tr>\n",
       "    <tr>\n",
       "      <th>min</th>\n",
       "      <td>73557.00</td>\n",
       "      <td>0.00</td>\n",
       "      <td>1.00</td>\n",
       "      <td>1.00</td>\n",
       "      <td>6.83</td>\n",
       "      <td>2.61</td>\n",
       "      <td>12.10</td>\n",
       "      <td>15.83</td>\n",
       "      <td>8.00</td>\n",
       "    </tr>\n",
       "    <tr>\n",
       "      <th>25%</th>\n",
       "      <td>76100.50</td>\n",
       "      <td>10.00</td>\n",
       "      <td>2.00</td>\n",
       "      <td>5.00</td>\n",
       "      <td>83.67</td>\n",
       "      <td>4.90</td>\n",
       "      <td>19.70</td>\n",
       "      <td>28.03</td>\n",
       "      <td>45.60</td>\n",
       "    </tr>\n",
       "    <tr>\n",
       "      <th>50%</th>\n",
       "      <td>78644.00</td>\n",
       "      <td>26.00</td>\n",
       "      <td>4.00</td>\n",
       "      <td>8.00</td>\n",
       "      <td>143.96</td>\n",
       "      <td>5.31</td>\n",
       "      <td>24.70</td>\n",
       "      <td>34.57</td>\n",
       "      <td>60.30</td>\n",
       "    </tr>\n",
       "    <tr>\n",
       "      <th>75%</th>\n",
       "      <td>81187.50</td>\n",
       "      <td>52.00</td>\n",
       "      <td>5.00</td>\n",
       "      <td>14.00</td>\n",
       "      <td>184.09</td>\n",
       "      <td>5.61</td>\n",
       "      <td>30.20</td>\n",
       "      <td>40.47</td>\n",
       "      <td>80.70</td>\n",
       "    </tr>\n",
       "    <tr>\n",
       "      <th>max</th>\n",
       "      <td>83731.00</td>\n",
       "      <td>80.00</td>\n",
       "      <td>7.00</td>\n",
       "      <td>99.00</td>\n",
       "      <td>490.75</td>\n",
       "      <td>6.65</td>\n",
       "      <td>82.90</td>\n",
       "      <td>70.04</td>\n",
       "      <td>162.80</td>\n",
       "    </tr>\n",
       "  </tbody>\n",
       "</table>\n",
       "</div>"
      ],
      "text/plain": [
       "           seqn       age     hsize   hincome   weight   height      bmi  \\\n",
       "count  10175.00  10175.00  10175.00  10042.00  9723.00  9067.00  9055.00   \n",
       "mean   78644.00     31.48      3.87     10.88   138.01     5.11    25.68   \n",
       "std     2937.41     24.42      1.72     13.88    71.28     0.76     7.96   \n",
       "min    73557.00      0.00      1.00      1.00     6.83     2.61    12.10   \n",
       "25%    76100.50     10.00      2.00      5.00    83.67     4.90    19.70   \n",
       "50%    78644.00     26.00      4.00      8.00   143.96     5.31    24.70   \n",
       "75%    81187.50     52.00      5.00     14.00   184.09     5.61    30.20   \n",
       "max    83731.00     80.00      7.00     99.00   490.75     6.65    82.90   \n",
       "\n",
       "         waist     grip  \n",
       "count  8661.00  7677.00  \n",
       "mean     34.36    63.05  \n",
       "std       8.88    25.10  \n",
       "min      15.83     8.00  \n",
       "25%      28.03    45.60  \n",
       "50%      34.57    60.30  \n",
       "75%      40.47    80.70  \n",
       "max      70.04   162.80  "
      ]
     },
     "execution_count": 12,
     "metadata": {},
     "output_type": "execute_result"
    }
   ],
   "source": [
    "nhanes.describe().round(2)"
   ]
  },
  {
   "cell_type": "code",
   "execution_count": 99,
   "metadata": {},
   "outputs": [
    {
     "data": {
      "image/png": "[encoded data removed]",
      "text/plain": [
       "<matplotlib.figure.Figure at 0x1a255f39b0>"
      ]
     },
     "metadata": {},
     "output_type": "display_data"
    }
   ],
   "source": [
    "nhanes['age'].hist(bins = 16, color =\"#99D8F2\", edgecolor = \"black\", figsize = (8,5.5))\n",
    "plt.xticks(np.arange(0,85,5))\n",
    "plt.title(\"Age Distribution\", fontsize=16)\n",
    "plt.ylabel(\"Count of Age\", fontsize = 12)\n",
    "plt.xlabel(\"Age\", fontsize = 12)\n",
    "plt.show()"
   ]
  },
  {
   "cell_type": "code",
   "execution_count": 108,
   "metadata": {},
   "outputs": [
    {
     "name": "stdout",
     "output_type": "stream",
     "text": [
      "The mean age is: 31.5\n"
     ]
    }
   ],
   "source": [
    "print(\"The mean age is: {}\".format(round(nhanes.age.mean(),1)))"
   ]
  },
  {
   "cell_type": "code",
   "execution_count": 89,
   "metadata": {},
   "outputs": [
    {
     "data": {
      "image/png": "[encoded data removed]",
      "text/plain": [
       "<matplotlib.figure.Figure at 0x1a2a3c5668>"
      ]
     },
     "metadata": {},
     "output_type": "display_data"
    }
   ],
   "source": [
    "g = sns.PairGrid(nhanes[['age', 'weight', 'height']])\n",
    "g.map(plt.scatter);"
   ]
  },
  {
   "cell_type": "code",
   "execution_count": null,
   "metadata": {
    "collapsed": true
   },
   "outputs": [],
   "source": [
    "\n",
    "\n"
   ]
  },
  {
   "cell_type": "code",
   "execution_count": 88,
   "metadata": {},
   "outputs": [
    {
     "data": {
      "image/png": "[encoded data removed]",
      "text/plain": [
       "<matplotlib.figure.Figure at 0x1a243c20f0>"
      ]
     },
     "metadata": {},
     "output_type": "display_data"
    }
   ],
   "source": [
    "nhanes.plot.scatter(y='weight',x='height', color = '#99D8F2') ###light blue: 4F91F6\n",
    "plt.show()"
   ]
  },
  {
   "cell_type": "code",
   "execution_count": 6,
   "metadata": {},
   "outputs": [
    {
     "data": {
      "text/plain": [
       "W    3674\n",
       "H    2690\n",
       "B    2267\n",
       "O    1544\n",
       "Name: race, dtype: int64"
      ]
     },
     "execution_count": 6,
     "metadata": {},
     "output_type": "execute_result"
    }
   ],
   "source": [
    "nhanes['race'].value_counts()"
   ]
  },
  {
   "cell_type": "code",
   "execution_count": 36,
   "metadata": {},
   "outputs": [
    {
     "data": {
      "text/plain": [
       "Text(0.5,1,'Race')"
      ]
     },
     "execution_count": 36,
     "metadata": {},
     "output_type": "execute_result"
    },
    {
     "data": {
      "image/png": "[encoded data removed]",
      "text/plain": [
       "<matplotlib.figure.Figure at 0x122a63748>"
      ]
     },
     "metadata": {},
     "output_type": "display_data"
    }
   ],
   "source": [
    "nhanes['race'].value_counts().plot(kind='bar', color=[['orange', 'purple', 'blue', 'green']], rot=0)\n",
    "plt.title(\"Race\", fontweight='bold', fontsize=14)\n",
    "##plt.show()"
   ]
  },
  {
   "cell_type": "code",
   "execution_count": 7,
   "metadata": {},
   "outputs": [
    {
     "data": {
      "text/plain": [
       "F    5172\n",
       "M    5003\n",
       "Name: gender, dtype: int64"
      ]
     },
     "execution_count": 7,
     "metadata": {},
     "output_type": "execute_result"
    }
   ],
   "source": [
    "nhanes['gender'].value_counts()"
   ]
  },
  {
   "cell_type": "code",
   "execution_count": 119,
   "metadata": {},
   "outputs": [
    {
     "data": {
      "text/plain": [
       "race  gender\n",
       "B     M         1152\n",
       "      F         1115\n",
       "H     F         1408\n",
       "      M         1282\n",
       "O     F          786\n",
       "      M          758\n",
       "W     F         1863\n",
       "      M         1811\n",
       "Name: gender, dtype: int64"
      ]
     },
     "execution_count": 119,
     "metadata": {},
     "output_type": "execute_result"
    }
   ],
   "source": [
    "nhanes.groupby('race')['gender'].value_counts()"
   ]
  },
  {
   "cell_type": "markdown",
   "metadata": {
    "collapsed": true
   },
   "source": [
    "### Tab-Separated Value File (TSV)\n",
    "**1. Read in TSV**"
   ]
  },
  {
   "cell_type": "markdown",
   "metadata": {},
   "source": [
    "The following data describes workplace fatalities by state for the year 2012 and was downloaded from Socrata.com as publicly available information."
   ]
  },
  {
   "cell_type": "code",
   "execution_count": 127,
   "metadata": {
    "collapsed": true
   },
   "outputs": [],
   "source": [
    "work_fatal = pd.read_csv(\"Profile_of_Workplace_Safety_and_Health_in_the_United_States.tsv\", sep = '\\t', header = 0)"
   ]
  },
  {
   "cell_type": "code",
   "execution_count": 128,
   "metadata": {},
   "outputs": [
    {
     "data": {
      "text/html": [
       "<div>\n",
       "<style>\n",
       "    .dataframe thead tr:only-child th {\n",
       "        text-align: right;\n",
       "    }\n",
       "\n",
       "    .dataframe thead th {\n",
       "        text-align: left;\n",
       "    }\n",
       "\n",
       "    .dataframe tbody tr th {\n",
       "        vertical-align: top;\n",
       "    }\n",
       "</style>\n",
       "<table border=\"1\" class=\"dataframe\">\n",
       "  <thead>\n",
       "    <tr style=\"text-align: right;\">\n",
       "      <th></th>\n",
       "      <th>State</th>\n",
       "      <th>Number of Fatalities, 2012</th>\n",
       "      <th>Rate of Fatalities, 2012</th>\n",
       "      <th>State Rank, Fatalities 2012</th>\n",
       "      <th>Number of Injuries/Illnesses 2012</th>\n",
       "      <th>Injuries/Illnesses 2012 Rate</th>\n",
       "      <th>Penalties FY 2013 (Average $)</th>\n",
       "      <th>Penalties FY 2013 (Rank)</th>\n",
       "      <th>Inspectors</th>\n",
       "      <th>Years to Inspect Each Workplace Once</th>\n",
       "      <th>State or Federal Program</th>\n",
       "    </tr>\n",
       "  </thead>\n",
       "  <tbody>\n",
       "    <tr>\n",
       "      <th>0</th>\n",
       "      <td>South Carolina\\n(33.99882060100049, -81.045367...</td>\n",
       "      <td>63</td>\n",
       "      <td>3.5</td>\n",
       "      <td>25</td>\n",
       "      <td>36200.0</td>\n",
       "      <td>3.0</td>\n",
       "      <td>492</td>\n",
       "      <td>49</td>\n",
       "      <td>24.0</td>\n",
       "      <td>111</td>\n",
       "      <td>State</td>\n",
       "    </tr>\n",
       "    <tr>\n",
       "      <th>1</th>\n",
       "      <td>West Virginia\\n(38.665511497000466, -80.712639...</td>\n",
       "      <td>49</td>\n",
       "      <td>6.9</td>\n",
       "      <td>46</td>\n",
       "      <td>19800.0</td>\n",
       "      <td>4.1</td>\n",
       "      <td>1798</td>\n",
       "      <td>27</td>\n",
       "      <td>7.0</td>\n",
       "      <td>173</td>\n",
       "      <td>Federal</td>\n",
       "    </tr>\n",
       "    <tr>\n",
       "      <th>2</th>\n",
       "      <td>Massachusetts\\n(42.27687306500047, -72.0826898...</td>\n",
       "      <td>44</td>\n",
       "      <td>1.4</td>\n",
       "      <td>1</td>\n",
       "      <td>69700.0</td>\n",
       "      <td>3.1</td>\n",
       "      <td>1929</td>\n",
       "      <td>21</td>\n",
       "      <td>33.0</td>\n",
       "      <td>123</td>\n",
       "      <td>Federal</td>\n",
       "    </tr>\n",
       "    <tr>\n",
       "      <th>3</th>\n",
       "      <td>Tennessee\\n(35.680943063000484, -85.7744864219...</td>\n",
       "      <td>101</td>\n",
       "      <td>3.8</td>\n",
       "      <td>30</td>\n",
       "      <td>65100.0</td>\n",
       "      <td>3.5</td>\n",
       "      <td>727</td>\n",
       "      <td>45</td>\n",
       "      <td>30.0</td>\n",
       "      <td>82</td>\n",
       "      <td>State</td>\n",
       "    </tr>\n",
       "    <tr>\n",
       "      <th>4</th>\n",
       "      <td>Oklahoma\\n(35.472034350000456, -97.52106845499...</td>\n",
       "      <td>97</td>\n",
       "      <td>6.1</td>\n",
       "      <td>42</td>\n",
       "      <td>39000.0</td>\n",
       "      <td>3.6</td>\n",
       "      <td>1872</td>\n",
       "      <td>24</td>\n",
       "      <td>19.0</td>\n",
       "      <td>131</td>\n",
       "      <td>Federal</td>\n",
       "    </tr>\n",
       "  </tbody>\n",
       "</table>\n",
       "</div>"
      ],
      "text/plain": [
       "                                               State  \\\n",
       "0  South Carolina\\n(33.99882060100049, -81.045367...   \n",
       "1  West Virginia\\n(38.665511497000466, -80.712639...   \n",
       "2  Massachusetts\\n(42.27687306500047, -72.0826898...   \n",
       "3  Tennessee\\n(35.680943063000484, -85.7744864219...   \n",
       "4  Oklahoma\\n(35.472034350000456, -97.52106845499...   \n",
       "\n",
       "   Number of Fatalities, 2012  Rate of Fatalities, 2012  \\\n",
       "0                          63                       3.5   \n",
       "1                          49                       6.9   \n",
       "2                          44                       1.4   \n",
       "3                         101                       3.8   \n",
       "4                          97                       6.1   \n",
       "\n",
       "   State Rank, Fatalities 2012  Number of Injuries/Illnesses 2012  \\\n",
       "0                           25                            36200.0   \n",
       "1                           46                            19800.0   \n",
       "2                            1                            69700.0   \n",
       "3                           30                            65100.0   \n",
       "4                           42                            39000.0   \n",
       "\n",
       "   Injuries/Illnesses 2012 Rate  Penalties FY 2013 (Average $)  \\\n",
       "0                           3.0                            492   \n",
       "1                           4.1                           1798   \n",
       "2                           3.1                           1929   \n",
       "3                           3.5                            727   \n",
       "4                           3.6                           1872   \n",
       "\n",
       "   Penalties FY 2013 (Rank)  Inspectors  Years to Inspect Each Workplace Once  \\\n",
       "0                        49        24.0                                   111   \n",
       "1                        27         7.0                                   173   \n",
       "2                        21        33.0                                   123   \n",
       "3                        45        30.0                                    82   \n",
       "4                        24        19.0                                   131   \n",
       "\n",
       "  State or Federal Program  \n",
       "0                    State  \n",
       "1                  Federal  \n",
       "2                  Federal  \n",
       "3                    State  \n",
       "4                  Federal  "
      ]
     },
     "execution_count": 128,
     "metadata": {},
     "output_type": "execute_result"
    }
   ],
   "source": [
    "work_fatal.head()"
   ]
  },
  {
   "cell_type": "markdown",
   "metadata": {},
   "source": [
    "**2. Data Cleaning**"
   ]
  },
  {
   "cell_type": "markdown",
   "metadata": {},
   "source": [
    "The 'State' column has hidden text, which are actually state coordinates, following each observation. To remove the unwanted text, an anonymous function is used to parse the strings and then the 'map' function assigns the parsed strings to a new 'State' column. "
   ]
  },
  {
   "cell_type": "code",
   "execution_count": 129,
   "metadata": {},
   "outputs": [],
   "source": [
    "work_fatal['State'] = work_fatal['State'].map(lambda x: str(x).split('\\n')[0])"
   ]
  },
  {
   "cell_type": "markdown",
   "metadata": {},
   "source": [
    "The following is just a quick check to see if there is data for all 50 states:"
   ]
  },
  {
   "cell_type": "code",
   "execution_count": 120,
   "metadata": {},
   "outputs": [
    {
     "data": {
      "text/plain": [
       "50"
      ]
     },
     "execution_count": 120,
     "metadata": {},
     "output_type": "execute_result"
    }
   ],
   "source": [
    "len(work_fatal)"
   ]
  },
  {
   "cell_type": "markdown",
   "metadata": {},
   "source": [
    "Here, we will examine the null values by column to see if any special cleaning or consideration is required."
   ]
  },
  {
   "cell_type": "code",
   "execution_count": 121,
   "metadata": {},
   "outputs": [
    {
     "data": {
      "text/plain": [
       "State                                   0\n",
       "Number of Fatalities, 2012              0\n",
       "Rate of Fatalities, 2012                0\n",
       "State Rank, Fatalities 2012             0\n",
       "Number of Injuries/Illnesses 2012       8\n",
       "Injuries/Illnesses 2012 Rate            8\n",
       "Penalties FY 2013 (Average $)           0\n",
       "Penalties FY 2013 (Rank)                0\n",
       "Inspectors                              1\n",
       "Years to Inspect Each Workplace Once    0\n",
       "State or Federal Program                0\n",
       "dtype: int64"
      ]
     },
     "execution_count": 121,
     "metadata": {},
     "output_type": "execute_result"
    }
   ],
   "source": [
    "work_fatal.isnull().sum()"
   ]
  },
  {
   "cell_type": "markdown",
   "metadata": {},
   "source": [
    "Since the *Injuries/Illnesses* columns are colinear, there are essentially 9 null values in the entire data set. These null values occur in only 8 of the 50 rows, listed below. After examining the states where null values exist, no systematic error seems likely since the states are scattered throughout the continental U.S. and exhibit varied characteristics."
   ]
  },
  {
   "cell_type": "code",
   "execution_count": 115,
   "metadata": {},
   "outputs": [
    {
     "data": {
      "text/html": [
       "<div>\n",
       "<style>\n",
       "    .dataframe thead tr:only-child th {\n",
       "        text-align: right;\n",
       "    }\n",
       "\n",
       "    .dataframe thead th {\n",
       "        text-align: left;\n",
       "    }\n",
       "\n",
       "    .dataframe tbody tr th {\n",
       "        vertical-align: top;\n",
       "    }\n",
       "</style>\n",
       "<table border=\"1\" class=\"dataframe\">\n",
       "  <thead>\n",
       "    <tr style=\"text-align: right;\">\n",
       "      <th></th>\n",
       "      <th>State</th>\n",
       "      <th>Number of Fatalities, 2012</th>\n",
       "      <th>Rate of Fatalities, 2012</th>\n",
       "      <th>State Rank, Fatalities 2012</th>\n",
       "      <th>Number of Injuries/Illnesses 2012</th>\n",
       "      <th>Injuries/Illnesses 2012 Rate</th>\n",
       "      <th>Penalties FY 2013 (Average $)</th>\n",
       "      <th>Penalties FY 2013 (Rank)</th>\n",
       "      <th>Inspectors</th>\n",
       "      <th>Years to Inspect Each Workplace Once</th>\n",
       "      <th>State or Federal Program</th>\n",
       "    </tr>\n",
       "  </thead>\n",
       "  <tbody>\n",
       "    <tr>\n",
       "      <th>11</th>\n",
       "      <td>Florida</td>\n",
       "      <td>218</td>\n",
       "      <td>2.7</td>\n",
       "      <td>15</td>\n",
       "      <td>NaN</td>\n",
       "      <td>NaN</td>\n",
       "      <td>1821</td>\n",
       "      <td>25</td>\n",
       "      <td>60.0</td>\n",
       "      <td>238</td>\n",
       "      <td>Federal</td>\n",
       "    </tr>\n",
       "    <tr>\n",
       "      <th>17</th>\n",
       "      <td>New Hampshire</td>\n",
       "      <td>14</td>\n",
       "      <td>2.2</td>\n",
       "      <td>4</td>\n",
       "      <td>NaN</td>\n",
       "      <td>NaN</td>\n",
       "      <td>2243</td>\n",
       "      <td>8</td>\n",
       "      <td>7.0</td>\n",
       "      <td>119</td>\n",
       "      <td>Federal</td>\n",
       "    </tr>\n",
       "    <tr>\n",
       "      <th>20</th>\n",
       "      <td>South Dakota</td>\n",
       "      <td>31</td>\n",
       "      <td>6.7</td>\n",
       "      <td>45</td>\n",
       "      <td>NaN</td>\n",
       "      <td>NaN</td>\n",
       "      <td>2346</td>\n",
       "      <td>7</td>\n",
       "      <td>NaN</td>\n",
       "      <td>521</td>\n",
       "      <td>Federal</td>\n",
       "    </tr>\n",
       "    <tr>\n",
       "      <th>33</th>\n",
       "      <td>Colorado</td>\n",
       "      <td>82</td>\n",
       "      <td>3.5</td>\n",
       "      <td>25</td>\n",
       "      <td>NaN</td>\n",
       "      <td>NaN</td>\n",
       "      <td>1649</td>\n",
       "      <td>31</td>\n",
       "      <td>28.0</td>\n",
       "      <td>122</td>\n",
       "      <td>Federal</td>\n",
       "    </tr>\n",
       "    <tr>\n",
       "      <th>38</th>\n",
       "      <td>Idaho</td>\n",
       "      <td>19</td>\n",
       "      <td>2.7</td>\n",
       "      <td>15</td>\n",
       "      <td>NaN</td>\n",
       "      <td>NaN</td>\n",
       "      <td>1449</td>\n",
       "      <td>33</td>\n",
       "      <td>9.0</td>\n",
       "      <td>108</td>\n",
       "      <td>Federal</td>\n",
       "    </tr>\n",
       "    <tr>\n",
       "      <th>41</th>\n",
       "      <td>Mississippi</td>\n",
       "      <td>63</td>\n",
       "      <td>5.5</td>\n",
       "      <td>40</td>\n",
       "      <td>NaN</td>\n",
       "      <td>NaN</td>\n",
       "      <td>1515</td>\n",
       "      <td>32</td>\n",
       "      <td>14.0</td>\n",
       "      <td>112</td>\n",
       "      <td>Federal</td>\n",
       "    </tr>\n",
       "    <tr>\n",
       "      <th>44</th>\n",
       "      <td>Rhode Island</td>\n",
       "      <td>8</td>\n",
       "      <td>1.7</td>\n",
       "      <td>2</td>\n",
       "      <td>NaN</td>\n",
       "      <td>NaN</td>\n",
       "      <td>2023</td>\n",
       "      <td>16</td>\n",
       "      <td>7.0</td>\n",
       "      <td>103</td>\n",
       "      <td>Federal</td>\n",
       "    </tr>\n",
       "    <tr>\n",
       "      <th>47</th>\n",
       "      <td>North Dakota</td>\n",
       "      <td>65</td>\n",
       "      <td>17.7</td>\n",
       "      <td>50</td>\n",
       "      <td>NaN</td>\n",
       "      <td>NaN</td>\n",
       "      <td>3045</td>\n",
       "      <td>3</td>\n",
       "      <td>8.0</td>\n",
       "      <td>111</td>\n",
       "      <td>Federal</td>\n",
       "    </tr>\n",
       "  </tbody>\n",
       "</table>\n",
       "</div>"
      ],
      "text/plain": [
       "            State  Number of Fatalities, 2012  Rate of Fatalities, 2012  \\\n",
       "11        Florida                         218                       2.7   \n",
       "17  New Hampshire                          14                       2.2   \n",
       "20   South Dakota                          31                       6.7   \n",
       "33       Colorado                          82                       3.5   \n",
       "38          Idaho                          19                       2.7   \n",
       "41    Mississippi                          63                       5.5   \n",
       "44   Rhode Island                           8                       1.7   \n",
       "47   North Dakota                          65                      17.7   \n",
       "\n",
       "    State Rank, Fatalities 2012  Number of Injuries/Illnesses 2012  \\\n",
       "11                           15                                NaN   \n",
       "17                            4                                NaN   \n",
       "20                           45                                NaN   \n",
       "33                           25                                NaN   \n",
       "38                           15                                NaN   \n",
       "41                           40                                NaN   \n",
       "44                            2                                NaN   \n",
       "47                           50                                NaN   \n",
       "\n",
       "    Injuries/Illnesses 2012 Rate  Penalties FY 2013 (Average $)  \\\n",
       "11                           NaN                           1821   \n",
       "17                           NaN                           2243   \n",
       "20                           NaN                           2346   \n",
       "33                           NaN                           1649   \n",
       "38                           NaN                           1449   \n",
       "41                           NaN                           1515   \n",
       "44                           NaN                           2023   \n",
       "47                           NaN                           3045   \n",
       "\n",
       "    Penalties FY 2013 (Rank)  Inspectors  \\\n",
       "11                        25        60.0   \n",
       "17                         8         7.0   \n",
       "20                         7         NaN   \n",
       "33                        31        28.0   \n",
       "38                        33         9.0   \n",
       "41                        32        14.0   \n",
       "44                        16         7.0   \n",
       "47                         3         8.0   \n",
       "\n",
       "    Years to Inspect Each Workplace Once State or Federal Program  \n",
       "11                                   238                  Federal  \n",
       "17                                   119                  Federal  \n",
       "20                                   521                  Federal  \n",
       "33                                   122                  Federal  \n",
       "38                                   108                  Federal  \n",
       "41                                   112                  Federal  \n",
       "44                                   103                  Federal  \n",
       "47                                   111                  Federal  "
      ]
     },
     "execution_count": 115,
     "metadata": {},
     "output_type": "execute_result"
    }
   ],
   "source": [
    "sum(work_fatal['Number of Injuries/Illnesses 2012'].isnull())\n",
    "work_fatal[work_fatal['Number of Injuries/Illnesses 2012'].isnull()]"
   ]
  },
  {
   "cell_type": "markdown",
   "metadata": {
    "collapsed": true
   },
   "source": [
    "*Note: Three null values were found in one column of the data; upon inspection the 3 rows were all blank, so they were ommitted*"
   ]
  },
  {
   "cell_type": "code",
   "execution_count": 144,
   "metadata": {},
   "outputs": [
    {
     "data": {
      "text/plain": [
       "State                                    object\n",
       "Number of Fatalities, 2012                int64\n",
       "Rate of Fatalities, 2012                float64\n",
       "State Rank, Fatalities 2012               int64\n",
       "Number of Injuries/Illnesses 2012       float64\n",
       "Injuries/Illnesses 2012 Rate            float64\n",
       "Penalties FY 2013 (Average $)             int64\n",
       "Penalties FY 2013 (Rank)                  int64\n",
       "Inspectors                              float64\n",
       "Years to Inspect Each Workplace Once      int64\n",
       "State or Federal Program                 object\n",
       "dtype: object"
      ]
     },
     "execution_count": 144,
     "metadata": {},
     "output_type": "execute_result"
    }
   ],
   "source": [
    "work_fatal.dtypes"
   ]
  },
  {
   "cell_type": "code",
   "execution_count": 143,
   "metadata": {},
   "outputs": [],
   "source": []
  },
  {
   "cell_type": "code",
   "execution_count": 11,
   "metadata": {},
   "outputs": [
    {
     "data": {
      "text/html": [
       "<div>\n",
       "<style>\n",
       "    .dataframe thead tr:only-child th {\n",
       "        text-align: right;\n",
       "    }\n",
       "\n",
       "    .dataframe thead th {\n",
       "        text-align: left;\n",
       "    }\n",
       "\n",
       "    .dataframe tbody tr th {\n",
       "        vertical-align: top;\n",
       "    }\n",
       "</style>\n",
       "<table border=\"1\" class=\"dataframe\">\n",
       "  <thead>\n",
       "    <tr style=\"text-align: right;\">\n",
       "      <th></th>\n",
       "      <th>State</th>\n",
       "      <th>Number of Fatalities, 2012</th>\n",
       "      <th>Rate of Fatalities, 2012</th>\n",
       "      <th>State Rank, Fatalities 2012</th>\n",
       "      <th>Number of Injuries/Illnesses 2012</th>\n",
       "      <th>Injuries/Illnesses 2012 Rate</th>\n",
       "      <th>Penalties FY 2013 (Average $)</th>\n",
       "      <th>Penalties FY 2013 (Rank)</th>\n",
       "      <th>Inspectors</th>\n",
       "      <th>Years to Inspect Each Workplace Once</th>\n",
       "      <th>State or Federal Program</th>\n",
       "    </tr>\n",
       "  </thead>\n",
       "  <tbody>\n",
       "    <tr>\n",
       "      <th>0</th>\n",
       "      <td>South Carolina</td>\n",
       "      <td>63.0</td>\n",
       "      <td>3.5</td>\n",
       "      <td>25.0</td>\n",
       "      <td>36200.0</td>\n",
       "      <td>3.0</td>\n",
       "      <td>492.0</td>\n",
       "      <td>49.0</td>\n",
       "      <td>24.0</td>\n",
       "      <td>111.0</td>\n",
       "      <td>State</td>\n",
       "    </tr>\n",
       "    <tr>\n",
       "      <th>1</th>\n",
       "      <td>West Virginia</td>\n",
       "      <td>49.0</td>\n",
       "      <td>6.9</td>\n",
       "      <td>46.0</td>\n",
       "      <td>19800.0</td>\n",
       "      <td>4.1</td>\n",
       "      <td>1798.0</td>\n",
       "      <td>27.0</td>\n",
       "      <td>7.0</td>\n",
       "      <td>173.0</td>\n",
       "      <td>Federal</td>\n",
       "    </tr>\n",
       "    <tr>\n",
       "      <th>2</th>\n",
       "      <td>Massachusetts</td>\n",
       "      <td>44.0</td>\n",
       "      <td>1.4</td>\n",
       "      <td>1.0</td>\n",
       "      <td>69700.0</td>\n",
       "      <td>3.1</td>\n",
       "      <td>1929.0</td>\n",
       "      <td>21.0</td>\n",
       "      <td>33.0</td>\n",
       "      <td>123.0</td>\n",
       "      <td>Federal</td>\n",
       "    </tr>\n",
       "    <tr>\n",
       "      <th>3</th>\n",
       "      <td>Tennessee</td>\n",
       "      <td>101.0</td>\n",
       "      <td>3.8</td>\n",
       "      <td>30.0</td>\n",
       "      <td>65100.0</td>\n",
       "      <td>3.5</td>\n",
       "      <td>727.0</td>\n",
       "      <td>45.0</td>\n",
       "      <td>30.0</td>\n",
       "      <td>82.0</td>\n",
       "      <td>State</td>\n",
       "    </tr>\n",
       "    <tr>\n",
       "      <th>4</th>\n",
       "      <td>Oklahoma</td>\n",
       "      <td>97.0</td>\n",
       "      <td>6.1</td>\n",
       "      <td>42.0</td>\n",
       "      <td>39000.0</td>\n",
       "      <td>3.6</td>\n",
       "      <td>1872.0</td>\n",
       "      <td>24.0</td>\n",
       "      <td>19.0</td>\n",
       "      <td>131.0</td>\n",
       "      <td>Federal</td>\n",
       "    </tr>\n",
       "  </tbody>\n",
       "</table>\n",
       "</div>"
      ],
      "text/plain": [
       "            State  Number of Fatalities, 2012  Rate of Fatalities, 2012  \\\n",
       "0  South Carolina                        63.0                       3.5   \n",
       "1   West Virginia                        49.0                       6.9   \n",
       "2   Massachusetts                        44.0                       1.4   \n",
       "3       Tennessee                       101.0                       3.8   \n",
       "4        Oklahoma                        97.0                       6.1   \n",
       "\n",
       "   State Rank, Fatalities 2012  Number of Injuries/Illnesses 2012  \\\n",
       "0                         25.0                            36200.0   \n",
       "1                         46.0                            19800.0   \n",
       "2                          1.0                            69700.0   \n",
       "3                         30.0                            65100.0   \n",
       "4                         42.0                            39000.0   \n",
       "\n",
       "   Injuries/Illnesses 2012 Rate  Penalties FY 2013 (Average $)  \\\n",
       "0                           3.0                          492.0   \n",
       "1                           4.1                         1798.0   \n",
       "2                           3.1                         1929.0   \n",
       "3                           3.5                          727.0   \n",
       "4                           3.6                         1872.0   \n",
       "\n",
       "   Penalties FY 2013 (Rank)  Inspectors  Years to Inspect Each Workplace Once  \\\n",
       "0                      49.0        24.0                                 111.0   \n",
       "1                      27.0         7.0                                 173.0   \n",
       "2                      21.0        33.0                                 123.0   \n",
       "3                      45.0        30.0                                  82.0   \n",
       "4                      24.0        19.0                                 131.0   \n",
       "\n",
       "  State or Federal Program  \n",
       "0                    State  \n",
       "1                  Federal  \n",
       "2                  Federal  \n",
       "3                    State  \n",
       "4                  Federal  "
      ]
     },
     "execution_count": 11,
     "metadata": {},
     "output_type": "execute_result"
    }
   ],
   "source": [
    "work_fatal.head()"
   ]
  },
  {
   "cell_type": "code",
   "execution_count": 12,
   "metadata": {},
   "outputs": [
    {
     "data": {
      "text/html": [
       "<div>\n",
       "<style>\n",
       "    .dataframe thead tr:only-child th {\n",
       "        text-align: right;\n",
       "    }\n",
       "\n",
       "    .dataframe thead th {\n",
       "        text-align: left;\n",
       "    }\n",
       "\n",
       "    .dataframe tbody tr th {\n",
       "        vertical-align: top;\n",
       "    }\n",
       "</style>\n",
       "<table border=\"1\" class=\"dataframe\">\n",
       "  <thead>\n",
       "    <tr style=\"text-align: right;\">\n",
       "      <th></th>\n",
       "      <th>Number of Fatalities, 2012</th>\n",
       "      <th>Rate of Fatalities, 2012</th>\n",
       "      <th>State Rank, Fatalities 2012</th>\n",
       "      <th>Number of Injuries/Illnesses 2012</th>\n",
       "      <th>Injuries/Illnesses 2012 Rate</th>\n",
       "      <th>Penalties FY 2013 (Average $)</th>\n",
       "      <th>Penalties FY 2013 (Rank)</th>\n",
       "      <th>Inspectors</th>\n",
       "      <th>Years to Inspect Each Workplace Once</th>\n",
       "    </tr>\n",
       "  </thead>\n",
       "  <tbody>\n",
       "    <tr>\n",
       "      <th>count</th>\n",
       "      <td>51.000000</td>\n",
       "      <td>51.000000</td>\n",
       "      <td>50.000000</td>\n",
       "      <td>42.000000</td>\n",
       "      <td>43.000000</td>\n",
       "      <td>50.000000</td>\n",
       "      <td>50.00000</td>\n",
       "      <td>49.000000</td>\n",
       "      <td>50.000000</td>\n",
       "    </tr>\n",
       "    <tr>\n",
       "      <th>mean</th>\n",
       "      <td>181.274510</td>\n",
       "      <td>4.300000</td>\n",
       "      <td>25.100000</td>\n",
       "      <td>64178.571429</td>\n",
       "      <td>3.620930</td>\n",
       "      <td>1727.880000</td>\n",
       "      <td>25.50000</td>\n",
       "      <td>38.979592</td>\n",
       "      <td>123.880000</td>\n",
       "    </tr>\n",
       "    <tr>\n",
       "      <th>std</th>\n",
       "      <td>641.619048</td>\n",
       "      <td>2.763548</td>\n",
       "      <td>14.733344</td>\n",
       "      <td>61912.808619</td>\n",
       "      <td>0.709983</td>\n",
       "      <td>963.377702</td>\n",
       "      <td>14.57738</td>\n",
       "      <td>38.594305</td>\n",
       "      <td>73.311647</td>\n",
       "    </tr>\n",
       "    <tr>\n",
       "      <th>min</th>\n",
       "      <td>8.000000</td>\n",
       "      <td>1.400000</td>\n",
       "      <td>1.000000</td>\n",
       "      <td>6500.000000</td>\n",
       "      <td>2.300000</td>\n",
       "      <td>363.000000</td>\n",
       "      <td>1.00000</td>\n",
       "      <td>5.000000</td>\n",
       "      <td>31.000000</td>\n",
       "    </tr>\n",
       "    <tr>\n",
       "      <th>25%</th>\n",
       "      <td>39.000000</td>\n",
       "      <td>2.600000</td>\n",
       "      <td>12.000000</td>\n",
       "      <td>26875.000000</td>\n",
       "      <td>3.150000</td>\n",
       "      <td>996.500000</td>\n",
       "      <td>13.25000</td>\n",
       "      <td>9.000000</td>\n",
       "      <td>85.000000</td>\n",
       "    </tr>\n",
       "    <tr>\n",
       "      <th>50%</th>\n",
       "      <td>70.000000</td>\n",
       "      <td>3.500000</td>\n",
       "      <td>25.000000</td>\n",
       "      <td>47250.000000</td>\n",
       "      <td>3.500000</td>\n",
       "      <td>1812.000000</td>\n",
       "      <td>25.50000</td>\n",
       "      <td>26.000000</td>\n",
       "      <td>111.500000</td>\n",
       "    </tr>\n",
       "    <tr>\n",
       "      <th>75%</th>\n",
       "      <td>114.500000</td>\n",
       "      <td>5.050000</td>\n",
       "      <td>37.750000</td>\n",
       "      <td>75625.000000</td>\n",
       "      <td>3.950000</td>\n",
       "      <td>2120.500000</td>\n",
       "      <td>37.75000</td>\n",
       "      <td>53.000000</td>\n",
       "      <td>134.000000</td>\n",
       "    </tr>\n",
       "    <tr>\n",
       "      <th>max</th>\n",
       "      <td>4628.000000</td>\n",
       "      <td>17.700000</td>\n",
       "      <td>50.000000</td>\n",
       "      <td>345400.000000</td>\n",
       "      <td>5.600000</td>\n",
       "      <td>6422.000000</td>\n",
       "      <td>50.00000</td>\n",
       "      <td>216.000000</td>\n",
       "      <td>521.000000</td>\n",
       "    </tr>\n",
       "  </tbody>\n",
       "</table>\n",
       "</div>"
      ],
      "text/plain": [
       "       Number of Fatalities, 2012  Rate of Fatalities, 2012  \\\n",
       "count                   51.000000                 51.000000   \n",
       "mean                   181.274510                  4.300000   \n",
       "std                    641.619048                  2.763548   \n",
       "min                      8.000000                  1.400000   \n",
       "25%                     39.000000                  2.600000   \n",
       "50%                     70.000000                  3.500000   \n",
       "75%                    114.500000                  5.050000   \n",
       "max                   4628.000000                 17.700000   \n",
       "\n",
       "       State Rank, Fatalities 2012  Number of Injuries/Illnesses 2012  \\\n",
       "count                    50.000000                          42.000000   \n",
       "mean                     25.100000                       64178.571429   \n",
       "std                      14.733344                       61912.808619   \n",
       "min                       1.000000                        6500.000000   \n",
       "25%                      12.000000                       26875.000000   \n",
       "50%                      25.000000                       47250.000000   \n",
       "75%                      37.750000                       75625.000000   \n",
       "max                      50.000000                      345400.000000   \n",
       "\n",
       "       Injuries/Illnesses 2012 Rate  Penalties FY 2013 (Average $)  \\\n",
       "count                     43.000000                      50.000000   \n",
       "mean                       3.620930                    1727.880000   \n",
       "std                        0.709983                     963.377702   \n",
       "min                        2.300000                     363.000000   \n",
       "25%                        3.150000                     996.500000   \n",
       "50%                        3.500000                    1812.000000   \n",
       "75%                        3.950000                    2120.500000   \n",
       "max                        5.600000                    6422.000000   \n",
       "\n",
       "       Penalties FY 2013 (Rank)  Inspectors  \\\n",
       "count                  50.00000   49.000000   \n",
       "mean                   25.50000   38.979592   \n",
       "std                    14.57738   38.594305   \n",
       "min                     1.00000    5.000000   \n",
       "25%                    13.25000    9.000000   \n",
       "50%                    25.50000   26.000000   \n",
       "75%                    37.75000   53.000000   \n",
       "max                    50.00000  216.000000   \n",
       "\n",
       "       Years to Inspect Each Workplace Once  \n",
       "count                             50.000000  \n",
       "mean                             123.880000  \n",
       "std                               73.311647  \n",
       "min                               31.000000  \n",
       "25%                               85.000000  \n",
       "50%                              111.500000  \n",
       "75%                              134.000000  \n",
       "max                              521.000000  "
      ]
     },
     "execution_count": 12,
     "metadata": {},
     "output_type": "execute_result"
    }
   ],
   "source": [
    "work_fatal.describe()"
   ]
  },
  {
   "cell_type": "markdown",
   "metadata": {},
   "source": [
    "**3. Data Description and Visualization**"
   ]
  },
  {
   "cell_type": "code",
   "execution_count": null,
   "metadata": {
    "collapsed": true
   },
   "outputs": [],
   "source": []
  },
  {
   "cell_type": "code",
   "execution_count": null,
   "metadata": {
    "collapsed": true
   },
   "outputs": [],
   "source": []
  },
  {
   "cell_type": "markdown",
   "metadata": {},
   "source": [
    "### STATA File (DTA)\n",
    "**1. Read in DTA**"
   ]
  },
  {
   "cell_type": "code",
   "execution_count": 13,
   "metadata": {},
   "outputs": [
    {
     "data": {
      "text/html": [
       "<div>\n",
       "<style>\n",
       "    .dataframe thead tr:only-child th {\n",
       "        text-align: right;\n",
       "    }\n",
       "\n",
       "    .dataframe thead th {\n",
       "        text-align: left;\n",
       "    }\n",
       "\n",
       "    .dataframe tbody tr th {\n",
       "        vertical-align: top;\n",
       "    }\n",
       "</style>\n",
       "<table border=\"1\" class=\"dataframe\">\n",
       "  <thead>\n",
       "    <tr style=\"text-align: right;\">\n",
       "      <th></th>\n",
       "      <th>year</th>\n",
       "      <th>serial</th>\n",
       "      <th>cpsid</th>\n",
       "      <th>ownershp</th>\n",
       "      <th>hhincome</th>\n",
       "      <th>proptax</th>\n",
       "      <th>pubhous</th>\n",
       "      <th>rentsub</th>\n",
       "      <th>foodstmp</th>\n",
       "      <th>stampno</th>\n",
       "      <th>...</th>\n",
       "      <th>faminc</th>\n",
       "      <th>pernum</th>\n",
       "      <th>cpsidp</th>\n",
       "      <th>wtsupp</th>\n",
       "      <th>wtfinl</th>\n",
       "      <th>relate</th>\n",
       "      <th>age</th>\n",
       "      <th>sex</th>\n",
       "      <th>race</th>\n",
       "      <th>marst</th>\n",
       "    </tr>\n",
       "  </thead>\n",
       "  <tbody>\n",
       "    <tr>\n",
       "      <th>0</th>\n",
       "      <td>2014</td>\n",
       "      <td>1</td>\n",
       "      <td>2.013120e+13</td>\n",
       "      <td>NaN</td>\n",
       "      <td>NaN</td>\n",
       "      <td>NaN</td>\n",
       "      <td>NaN</td>\n",
       "      <td>NaN</td>\n",
       "      <td>NaN</td>\n",
       "      <td>NaN</td>\n",
       "      <td>...</td>\n",
       "      <td>$75,000 - 99,999</td>\n",
       "      <td>1</td>\n",
       "      <td>2.013120e+13</td>\n",
       "      <td>NaN</td>\n",
       "      <td>2668.7604</td>\n",
       "      <td>Head/householder</td>\n",
       "      <td>76</td>\n",
       "      <td>Female</td>\n",
       "      <td>White</td>\n",
       "      <td>Divorced</td>\n",
       "    </tr>\n",
       "    <tr>\n",
       "      <th>1</th>\n",
       "      <td>2014</td>\n",
       "      <td>2</td>\n",
       "      <td>2.014020e+13</td>\n",
       "      <td>NaN</td>\n",
       "      <td>NaN</td>\n",
       "      <td>NaN</td>\n",
       "      <td>NaN</td>\n",
       "      <td>NaN</td>\n",
       "      <td>NaN</td>\n",
       "      <td>NaN</td>\n",
       "      <td>...</td>\n",
       "      <td>$75,000 - 99,999</td>\n",
       "      <td>1</td>\n",
       "      <td>2.014020e+13</td>\n",
       "      <td>NaN</td>\n",
       "      <td>2745.7466</td>\n",
       "      <td>Head/householder</td>\n",
       "      <td>65</td>\n",
       "      <td>Male</td>\n",
       "      <td>White</td>\n",
       "      <td>Never married/single</td>\n",
       "    </tr>\n",
       "    <tr>\n",
       "      <th>2</th>\n",
       "      <td>2014</td>\n",
       "      <td>3</td>\n",
       "      <td>2.014010e+13</td>\n",
       "      <td>NaN</td>\n",
       "      <td>NaN</td>\n",
       "      <td>NaN</td>\n",
       "      <td>NaN</td>\n",
       "      <td>NaN</td>\n",
       "      <td>NaN</td>\n",
       "      <td>NaN</td>\n",
       "      <td>...</td>\n",
       "      <td>$100,000 - 149,999</td>\n",
       "      <td>1</td>\n",
       "      <td>2.014010e+13</td>\n",
       "      <td>NaN</td>\n",
       "      <td>3344.7320</td>\n",
       "      <td>Head/householder</td>\n",
       "      <td>78</td>\n",
       "      <td>Male</td>\n",
       "      <td>White</td>\n",
       "      <td>Married, spouse present</td>\n",
       "    </tr>\n",
       "    <tr>\n",
       "      <th>3</th>\n",
       "      <td>2014</td>\n",
       "      <td>3</td>\n",
       "      <td>2.014010e+13</td>\n",
       "      <td>NaN</td>\n",
       "      <td>NaN</td>\n",
       "      <td>NaN</td>\n",
       "      <td>NaN</td>\n",
       "      <td>NaN</td>\n",
       "      <td>NaN</td>\n",
       "      <td>NaN</td>\n",
       "      <td>...</td>\n",
       "      <td>$100,000 - 149,999</td>\n",
       "      <td>2</td>\n",
       "      <td>2.014010e+13</td>\n",
       "      <td>NaN</td>\n",
       "      <td>3087.4410</td>\n",
       "      <td>Spouse</td>\n",
       "      <td>76</td>\n",
       "      <td>Female</td>\n",
       "      <td>White</td>\n",
       "      <td>Married, spouse present</td>\n",
       "    </tr>\n",
       "    <tr>\n",
       "      <th>4</th>\n",
       "      <td>2014</td>\n",
       "      <td>4</td>\n",
       "      <td>2.012120e+13</td>\n",
       "      <td>NaN</td>\n",
       "      <td>NaN</td>\n",
       "      <td>NaN</td>\n",
       "      <td>NaN</td>\n",
       "      <td>NaN</td>\n",
       "      <td>NaN</td>\n",
       "      <td>NaN</td>\n",
       "      <td>...</td>\n",
       "      <td>Under $5,000</td>\n",
       "      <td>1</td>\n",
       "      <td>2.012120e+13</td>\n",
       "      <td>NaN</td>\n",
       "      <td>3061.8081</td>\n",
       "      <td>Head/householder</td>\n",
       "      <td>58</td>\n",
       "      <td>Male</td>\n",
       "      <td>Black/Negro</td>\n",
       "      <td>Never married/single</td>\n",
       "    </tr>\n",
       "  </tbody>\n",
       "</table>\n",
       "<p>5 rows × 26 columns</p>\n",
       "</div>"
      ],
      "text/plain": [
       "   year  serial         cpsid ownershp  hhincome  proptax pubhous rentsub  \\\n",
       "0  2014       1  2.013120e+13      NaN       NaN      NaN     NaN     NaN   \n",
       "1  2014       2  2.014020e+13      NaN       NaN      NaN     NaN     NaN   \n",
       "2  2014       3  2.014010e+13      NaN       NaN      NaN     NaN     NaN   \n",
       "3  2014       3  2.014010e+13      NaN       NaN      NaN     NaN     NaN   \n",
       "4  2014       4  2.012120e+13      NaN       NaN      NaN     NaN     NaN   \n",
       "\n",
       "  foodstmp  stampno           ...                         faminc  pernum  \\\n",
       "0      NaN      NaN           ...               $75,000 - 99,999       1   \n",
       "1      NaN      NaN           ...               $75,000 - 99,999       1   \n",
       "2      NaN      NaN           ...             $100,000 - 149,999       1   \n",
       "3      NaN      NaN           ...             $100,000 - 149,999       2   \n",
       "4      NaN      NaN           ...                   Under $5,000       1   \n",
       "\n",
       "         cpsidp wtsupp     wtfinl            relate age     sex         race  \\\n",
       "0  2.013120e+13    NaN  2668.7604  Head/householder  76  Female        White   \n",
       "1  2.014020e+13    NaN  2745.7466  Head/householder  65    Male        White   \n",
       "2  2.014010e+13    NaN  3344.7320  Head/householder  78    Male        White   \n",
       "3  2.014010e+13    NaN  3087.4410            Spouse  76  Female        White   \n",
       "4  2.012120e+13    NaN  3061.8081  Head/householder  58    Male  Black/Negro   \n",
       "\n",
       "                     marst  \n",
       "0                 Divorced  \n",
       "1     Never married/single  \n",
       "2  Married, spouse present  \n",
       "3  Married, spouse present  \n",
       "4     Never married/single  \n",
       "\n",
       "[5 rows x 26 columns]"
      ]
     },
     "execution_count": 13,
     "metadata": {},
     "output_type": "execute_result"
    }
   ],
   "source": [
    "cps = pd.read_stata(\"cps_1999-2014.dta\")\n",
    "cps.head()"
   ]
  },
  {
   "cell_type": "code",
   "execution_count": 109,
   "metadata": {
    "scrolled": true
   },
   "outputs": [
    {
     "ename": "NameError",
     "evalue": "name 'cps' is not defined",
     "output_type": "error",
     "traceback": [
      "\u001b[0;31m---------------------------------------------------------------------------\u001b[0m",
      "\u001b[0;31mNameError\u001b[0m                                 Traceback (most recent call last)",
      "\u001b[0;32m<ipython-input-109-49b8195e7940>\u001b[0m in \u001b[0;36m<module>\u001b[0;34m()\u001b[0m\n\u001b[0;32m----> 1\u001b[0;31m \u001b[0mcps\u001b[0m\u001b[0;34m[\u001b[0m\u001b[0;34m'cpsid'\u001b[0m\u001b[0;34m]\u001b[0m\u001b[0;34m.\u001b[0m\u001b[0mvalue_counts\u001b[0m\u001b[0;34m(\u001b[0m\u001b[0;34m)\u001b[0m\u001b[0;34m\u001b[0m\u001b[0m\n\u001b[0m\u001b[1;32m      2\u001b[0m \u001b[0mlen\u001b[0m\u001b[0;34m(\u001b[0m\u001b[0mcps\u001b[0m\u001b[0;34m.\u001b[0m\u001b[0mcpsid\u001b[0m\u001b[0;34m)\u001b[0m\u001b[0;34m\u001b[0m\u001b[0m\n",
      "\u001b[0;31mNameError\u001b[0m: name 'cps' is not defined"
     ]
    }
   ],
   "source": [
    "cps['cpsid'].value_counts()\n",
    "len(cps.cpsid)"
   ]
  },
  {
   "cell_type": "code",
   "execution_count": 15,
   "metadata": {},
   "outputs": [
    {
     "data": {
      "text/plain": [
       "['year',\n",
       " 'serial',\n",
       " 'cpsid',\n",
       " 'ownershp',\n",
       " 'hhincome',\n",
       " 'proptax',\n",
       " 'pubhous',\n",
       " 'rentsub',\n",
       " 'foodstmp',\n",
       " 'stampno',\n",
       " 'stampmo',\n",
       " 'stampval',\n",
       " 'atelunch',\n",
       " 'lunchsub',\n",
       " 'frelunch',\n",
       " 'month',\n",
       " 'faminc',\n",
       " 'pernum',\n",
       " 'cpsidp',\n",
       " 'wtsupp',\n",
       " 'wtfinl',\n",
       " 'relate',\n",
       " 'age',\n",
       " 'sex',\n",
       " 'race',\n",
       " 'marst']"
      ]
     },
     "execution_count": 15,
     "metadata": {},
     "output_type": "execute_result"
    }
   ],
   "source": [
    "list(cps)"
   ]
  },
  {
   "cell_type": "code",
   "execution_count": 16,
   "metadata": {
    "collapsed": true
   },
   "outputs": [],
   "source": [
    "##cps['hhincome'] = cps['hhincom'].drop()\n",
    "cps = cps.drop(cps[cps.hhincome < 0].index)"
   ]
  },
  {
   "cell_type": "code",
   "execution_count": 17,
   "metadata": {},
   "outputs": [
    {
     "data": {
      "text/plain": [
       "count    5.838400e+05\n",
       "mean     8.861104e+04\n",
       "std      9.562835e+04\n",
       "min      0.000000e+00\n",
       "25%      3.486400e+04\n",
       "50%      6.686000e+04\n",
       "75%      1.136140e+05\n",
       "max      2.289913e+06\n",
       "Name: hhincome, dtype: float64"
      ]
     },
     "execution_count": 17,
     "metadata": {},
     "output_type": "execute_result"
    }
   ],
   "source": [
    "cps['hhincome'].describe()"
   ]
  },
  {
   "cell_type": "markdown",
   "metadata": {},
   "source": [
    "### Text File (TXT)\n",
    "**1. Read in TXT**"
   ]
  },
  {
   "cell_type": "code",
   "execution_count": 41,
   "metadata": {},
   "outputs": [
    {
     "data": {
      "text/plain": [
       "[['vhigh', 'vhigh', '2', '2', 'small', 'low', 'unacc\\n'],\n",
       " ['vhigh', 'vhigh', '2', '2', 'small', 'med', 'unacc\\n'],\n",
       " ['vhigh', 'vhigh', '2', '2', 'small', 'high', 'unacc\\n'],\n",
       " ['vhigh', 'vhigh', '2', '2', 'med', 'low', 'unacc\\n'],\n",
       " ['vhigh', 'vhigh', '2', '2', 'med', 'med', 'unacc\\n'],\n",
       " ['vhigh', 'vhigh', '2', '2', 'med', 'high', 'unacc\\n'],\n",
       " ['vhigh', 'vhigh', '2', '2', 'big', 'low', 'unacc\\n'],\n",
       " ['vhigh', 'vhigh', '2', '2', 'big', 'med', 'unacc\\n'],\n",
       " ['vhigh', 'vhigh', '2', '2', 'big', 'high', 'unacc\\n'],\n",
       " ['vhigh', 'vhigh', '2', '4', 'small', 'low', 'unacc\\n']]"
      ]
     },
     "execution_count": 41,
     "metadata": {},
     "output_type": "execute_result"
    }
   ],
   "source": [
    "cars = []\n",
    "with open(\"car.data.txt\", \"r\") as f:\n",
    "    for line in f:\n",
    "        tokens = line.split(\",\")\n",
    "        cars.append(tokens)\n",
    "cars[:10]"
   ]
  },
  {
   "cell_type": "code",
   "execution_count": null,
   "metadata": {
    "collapsed": true
   },
   "outputs": [],
   "source": []
  },
  {
   "cell_type": "markdown",
   "metadata": {
    "collapsed": true
   },
   "source": [
    "buying       v-high, high, med, low\n",
    "   maint        v-high, high, med, low\n",
    "   doors        2, 3, 4, 5-more\n",
    "   persons      2, 4, more\n",
    "   lug_boot     small, med, big\n",
    "   safety       low, med, high"
   ]
  },
  {
   "cell_type": "code",
   "execution_count": 42,
   "metadata": {},
   "outputs": [
    {
     "data": {
      "text/html": [
       "<div>\n",
       "<style>\n",
       "    .dataframe thead tr:only-child th {\n",
       "        text-align: right;\n",
       "    }\n",
       "\n",
       "    .dataframe thead th {\n",
       "        text-align: left;\n",
       "    }\n",
       "\n",
       "    .dataframe tbody tr th {\n",
       "        vertical-align: top;\n",
       "    }\n",
       "</style>\n",
       "<table border=\"1\" class=\"dataframe\">\n",
       "  <thead>\n",
       "    <tr style=\"text-align: right;\">\n",
       "      <th></th>\n",
       "      <th>BuyPrice</th>\n",
       "      <th>MaintPrice</th>\n",
       "      <th>Doors</th>\n",
       "      <th>Persons</th>\n",
       "      <th>TrunkSize</th>\n",
       "      <th>Safety</th>\n",
       "    </tr>\n",
       "  </thead>\n",
       "  <tbody>\n",
       "    <tr>\n",
       "      <th>vhigh</th>\n",
       "      <td>vhigh</td>\n",
       "      <td>2</td>\n",
       "      <td>2</td>\n",
       "      <td>small</td>\n",
       "      <td>low</td>\n",
       "      <td>unacc</td>\n",
       "    </tr>\n",
       "    <tr>\n",
       "      <th>vhigh</th>\n",
       "      <td>vhigh</td>\n",
       "      <td>2</td>\n",
       "      <td>2</td>\n",
       "      <td>small</td>\n",
       "      <td>med</td>\n",
       "      <td>unacc</td>\n",
       "    </tr>\n",
       "    <tr>\n",
       "      <th>vhigh</th>\n",
       "      <td>vhigh</td>\n",
       "      <td>2</td>\n",
       "      <td>2</td>\n",
       "      <td>small</td>\n",
       "      <td>high</td>\n",
       "      <td>unacc</td>\n",
       "    </tr>\n",
       "    <tr>\n",
       "      <th>vhigh</th>\n",
       "      <td>vhigh</td>\n",
       "      <td>2</td>\n",
       "      <td>2</td>\n",
       "      <td>med</td>\n",
       "      <td>low</td>\n",
       "      <td>unacc</td>\n",
       "    </tr>\n",
       "    <tr>\n",
       "      <th>vhigh</th>\n",
       "      <td>vhigh</td>\n",
       "      <td>2</td>\n",
       "      <td>2</td>\n",
       "      <td>med</td>\n",
       "      <td>med</td>\n",
       "      <td>unacc</td>\n",
       "    </tr>\n",
       "    <tr>\n",
       "      <th>vhigh</th>\n",
       "      <td>vhigh</td>\n",
       "      <td>2</td>\n",
       "      <td>2</td>\n",
       "      <td>med</td>\n",
       "      <td>high</td>\n",
       "      <td>unacc</td>\n",
       "    </tr>\n",
       "    <tr>\n",
       "      <th>vhigh</th>\n",
       "      <td>vhigh</td>\n",
       "      <td>2</td>\n",
       "      <td>2</td>\n",
       "      <td>big</td>\n",
       "      <td>low</td>\n",
       "      <td>unacc</td>\n",
       "    </tr>\n",
       "    <tr>\n",
       "      <th>vhigh</th>\n",
       "      <td>vhigh</td>\n",
       "      <td>2</td>\n",
       "      <td>2</td>\n",
       "      <td>big</td>\n",
       "      <td>med</td>\n",
       "      <td>unacc</td>\n",
       "    </tr>\n",
       "    <tr>\n",
       "      <th>vhigh</th>\n",
       "      <td>vhigh</td>\n",
       "      <td>2</td>\n",
       "      <td>2</td>\n",
       "      <td>big</td>\n",
       "      <td>high</td>\n",
       "      <td>unacc</td>\n",
       "    </tr>\n",
       "    <tr>\n",
       "      <th>vhigh</th>\n",
       "      <td>vhigh</td>\n",
       "      <td>2</td>\n",
       "      <td>4</td>\n",
       "      <td>small</td>\n",
       "      <td>low</td>\n",
       "      <td>unacc</td>\n",
       "    </tr>\n",
       "  </tbody>\n",
       "</table>\n",
       "</div>"
      ],
      "text/plain": [
       "      BuyPrice MaintPrice Doors Persons TrunkSize Safety\n",
       "vhigh    vhigh          2     2   small       low  unacc\n",
       "vhigh    vhigh          2     2   small       med  unacc\n",
       "vhigh    vhigh          2     2   small      high  unacc\n",
       "vhigh    vhigh          2     2     med       low  unacc\n",
       "vhigh    vhigh          2     2     med       med  unacc\n",
       "vhigh    vhigh          2     2     med      high  unacc\n",
       "vhigh    vhigh          2     2     big       low  unacc\n",
       "vhigh    vhigh          2     2     big       med  unacc\n",
       "vhigh    vhigh          2     2     big      high  unacc\n",
       "vhigh    vhigh          2     4   small       low  unacc"
      ]
     },
     "execution_count": 42,
     "metadata": {},
     "output_type": "execute_result"
    }
   ],
   "source": [
    "headers = ['BuyPrice', 'MaintPrice', 'Doors', 'Persons', 'TrunkSize', 'Safety']\n",
    "car = pd.read_csv('car.data.txt', header = None, names = headers)\n",
    "car.head()"
   ]
  },
  {
   "cell_type": "markdown",
   "metadata": {},
   "source": [
    "### JavaScript Object Notation (JSON)\n",
    "**1. Read in JSON**"
   ]
  },
  {
   "cell_type": "code",
   "execution_count": null,
   "metadata": {
    "collapsed": true
   },
   "outputs": [],
   "source": [
    "with open(\"CDC.json\") as x:\n",
    "    cdc = json.load(x)"
   ]
  },
  {
   "cell_type": "code",
   "execution_count": null,
   "metadata": {
    "collapsed": true
   },
   "outputs": [],
   "source": [
    "len(cdc)"
   ]
  },
  {
   "cell_type": "code",
   "execution_count": null,
   "metadata": {
    "collapsed": true
   },
   "outputs": [],
   "source": [
    "cdc.keys()"
   ]
  },
  {
   "cell_type": "code",
   "execution_count": null,
   "metadata": {
    "collapsed": true
   },
   "outputs": [],
   "source": [
    "cdc['meta']['view'].keys()"
   ]
  },
  {
   "cell_type": "code",
   "execution_count": null,
   "metadata": {
    "collapsed": true
   },
   "outputs": [],
   "source": [
    "cdc['meta']['view']['columns']"
   ]
  },
  {
   "cell_type": "code",
   "execution_count": null,
   "metadata": {
    "collapsed": true
   },
   "outputs": [],
   "source": [
    "[(x['fieldName'], x['position']) for x in cdc['meta']['view']['columns']]"
   ]
  },
  {
   "cell_type": "code",
   "execution_count": null,
   "metadata": {
    "collapsed": true
   },
   "outputs": [],
   "source": [
    "labels = ['yearstart',\n",
    " 'yearend',\n",
    " 'locationabbr',\n",
    " 'locationdesc',\n",
    " 'datasource',\n",
    " 'topic',\n",
    " 'question',\n",
    " 'response',\n",
    " 'datavalueunit',\n",
    " 'datavaluetype',\n",
    " 'datavalue', \n",
    " 'datavaluealt', \n",
    " 'datavaluefootnotesymbol', \n",
    " 'datavaluefootnote', \n",
    " 'lowconfidencelimit', \n",
    " 'highconfidencelimit']"
   ]
  },
  {
   "cell_type": "code",
   "execution_count": null,
   "metadata": {
    "collapsed": true
   },
   "outputs": [],
   "source": [
    "df = pd.DataFrame.from_records([x[8:24] for x in cdc['data']], columns = labels)"
   ]
  },
  {
   "cell_type": "code",
   "execution_count": null,
   "metadata": {
    "collapsed": true
   },
   "outputs": [],
   "source": [
    "df"
   ]
  },
  {
   "cell_type": "code",
   "execution_count": null,
   "metadata": {
    "collapsed": true
   },
   "outputs": [],
   "source": [
    "cdc['data']"
   ]
  },
  {
   "cell_type": "code",
   "execution_count": null,
   "metadata": {
    "collapsed": true
   },
   "outputs": [],
   "source": [
    "pd.read_json('CDC.json')"
   ]
  },
  {
   "cell_type": "code",
   "execution_count": null,
   "metadata": {
    "collapsed": true
   },
   "outputs": [],
   "source": []
  }
 ],
 "metadata": {
  "kernelspec": {
   "display_name": "Python 3",
   "language": "python",
   "name": "python3"
  },
  "language_info": {
   "codemirror_mode": {
    "name": "ipython",
    "version": 3
   },
   "file_extension": ".py",
   "mimetype": "text/x-python",
   "name": "python",
   "nbconvert_exporter": "python",
   "pygments_lexer": "ipython3",
   "version": "3.6.3"
  }
 },
 "nbformat": 4,
 "nbformat_minor": 2
}
